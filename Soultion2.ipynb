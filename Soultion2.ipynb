{
  "cells": [
    {
      "cell_type": "markdown",
      "metadata": {
        "id": "HPBKQt5vhoak"
      },
      "source": [
        "## Module Installation"
      ]
    },
    {
      "cell_type": "code",
      "execution_count": 1,
      "metadata": {
        "colab": {
          "base_uri": "https://localhost:8080/"
        },
        "id": "gEjmfdnThm6A",
        "outputId": "a4565732-8715-4375-9a22-a3c3c3e6a746"
      },
      "outputs": [
        {
          "name": "stdout",
          "output_type": "stream",
          "text": [
            "\u001b[K     |████████████████████████████████| 76.6 MB 1.2 MB/s \n",
            "\u001b[?25hMounted at /content/drive\n"
          ]
        }
      ],
      "source": [
        "!pip install catboost -q\n",
        "from google.colab import drive\n",
        "drive.mount('/content/drive')"
      ]
    },
    {
      "cell_type": "markdown",
      "metadata": {
        "id": "iYdpBYYceneg"
      },
      "source": [
        "## Importing libraries"
      ]
    },
    {
      "cell_type": "code",
      "execution_count": 4,
      "metadata": {
        "id": "06kkNxjIdgSW"
      },
      "outputs": [],
      "source": [
        "# Dataframe and Plotting libraries\n",
        "import time\n",
        "import pandas as pd\n",
        "import numpy as np\n",
        "import seaborn as sns\n",
        "import matplotlib.pyplot as plt\n",
        "import imblearn.over_sampling as ovs\n",
        "import gc\n",
        "from sklearn.metrics import log_loss\n",
        "from sklearn.preprocessing import LabelEncoder\n",
        "from sklearn.feature_extraction.text import TfidfVectorizer\n",
        "from sklearn.model_selection import StratifiedKFold\n",
        "from sklearn.decomposition import PCA, TruncatedSVD, LatentDirichletAllocation\n",
        "\n",
        "from sklearn.ensemble import *\n",
        "from sklearn.cluster import KMeans\n",
        "from sklearn.multiclass import OneVsRestClassifier\n",
        "from sklearn.neural_network import MLPClassifier\n",
        "from catboost import CatBoostClassifier\n",
        "from lightgbm import LGBMClassifier\n",
        "from xgboost import XGBClassifier\n",
        "\n",
        "pd.set_option('display.max_columns', None)\n",
        "import warnings\n",
        "warnings.filterwarnings('ignore')\n",
        "path = '/content/drive/MyDrive/banking-transaction-categoriser/'\n",
        "seed = 21"
      ]
    },
    {
      "cell_type": "markdown",
      "metadata": {
        "id": "J8AhJ0cKer7b"
      },
      "source": [
        "## 1. Load the dataset"
      ]
    },
    {
      "cell_type": "code",
      "execution_count": 5,
      "metadata": {
        "id": "aPn2dmoMexCU"
      },
      "outputs": [],
      "source": [
        "# Load the files into a Pandas Dataframe\n",
        "Train = pd.read_csv(path+'Train.csv', parse_dates=['DATE'])\n",
        "Test = pd.read_csv(path+'Test.csv', parse_dates=['DATE'])\n",
        "# extra = pd.read_csv(path+'extra_data.csv', parse_dates=['PURCHASED_AT', 'MERCHANT_CATEGORIZED_AT'])"
      ]
    },
    {
      "cell_type": "code",
      "execution_count": 6,
      "metadata": {
        "colab": {
          "base_uri": "https://localhost:8080/"
        },
        "id": "HSj_1Qz7ezsw",
        "outputId": "d7d45314-6ad0-4cf3-cec9-82c48393f43a"
      },
      "outputs": [
        {
          "name": "stdout",
          "output_type": "stream",
          "text": [
            "Train data shape : (57974, 8)\n",
            "Test data shape : (22625, 8)\n"
          ]
        }
      ],
      "source": [
        "# Let’s observe the shape of our datasets.\n",
        "print('Train data shape :', Train.shape)\n",
        "print('Test data shape :', Test.shape)"
      ]
    },
    {
      "cell_type": "code",
      "execution_count": 7,
      "metadata": {
        "colab": {
          "base_uri": "https://localhost:8080/",
          "height": 375
        },
        "id": "aeKToQ98lOVe",
        "outputId": "5196ab92-edf5-4f99-f50c-064c11f42ba1"
      },
      "outputs": [
        {
          "data": {
            "text/html": [
              "\n",
              "  <div id=\"df-9d736acf-c59e-4ebe-8adc-e7a823dd8c69\">\n",
              "    <div class=\"colab-df-container\">\n",
              "      <div>\n",
              "<style scoped>\n",
              "    .dataframe tbody tr th:only-of-type {\n",
              "        vertical-align: middle;\n",
              "    }\n",
              "\n",
              "    .dataframe tbody tr th {\n",
              "        vertical-align: top;\n",
              "    }\n",
              "\n",
              "    .dataframe thead th {\n",
              "        text-align: right;\n",
              "    }\n",
              "</style>\n",
              "<table border=\"1\" class=\"dataframe\">\n",
              "  <thead>\n",
              "    <tr style=\"text-align: right;\">\n",
              "      <th></th>\n",
              "      <th>DATE</th>\n",
              "      <th>TRANSACTION DETAILS</th>\n",
              "      <th>Account_NO</th>\n",
              "      <th>CHQ.NO.</th>\n",
              "      <th>WITHDRAWAL AMT</th>\n",
              "      <th>DEPOSIT AMT</th>\n",
              "      <th>BALANCE AMT</th>\n",
              "      <th>Category</th>\n",
              "    </tr>\n",
              "  </thead>\n",
              "  <tbody>\n",
              "    <tr>\n",
              "      <th>0</th>\n",
              "      <td>2014-02-28</td>\n",
              "      <td>NEFT/FDRL401249529/INDIAFORENSIC</td>\n",
              "      <td>84903292</td>\n",
              "      <td>NaN</td>\n",
              "      <td>0.0</td>\n",
              "      <td>15000000.0</td>\n",
              "      <td>15000000.0</td>\n",
              "      <td>Money-Transfer</td>\n",
              "    </tr>\n",
              "    <tr>\n",
              "      <th>1</th>\n",
              "      <td>2014-02-28</td>\n",
              "      <td>NEFT/FDRL401249532/INDIAFORENSIC</td>\n",
              "      <td>84903292</td>\n",
              "      <td>NaN</td>\n",
              "      <td>0.0</td>\n",
              "      <td>15000000.0</td>\n",
              "      <td>60000000.0</td>\n",
              "      <td>Money-Transfer</td>\n",
              "    </tr>\n",
              "    <tr>\n",
              "      <th>2</th>\n",
              "      <td>2014-02-28</td>\n",
              "      <td>NEFT/FDRL401249534/INDIAFORENSIC</td>\n",
              "      <td>84903292</td>\n",
              "      <td>NaN</td>\n",
              "      <td>0.0</td>\n",
              "      <td>15000000.0</td>\n",
              "      <td>90000000.0</td>\n",
              "      <td>Money-Transfer</td>\n",
              "    </tr>\n",
              "    <tr>\n",
              "      <th>3</th>\n",
              "      <td>2014-02-28</td>\n",
              "      <td>NEFT/FDRL401249590/INDIAFORENSIC</td>\n",
              "      <td>84903292</td>\n",
              "      <td>NaN</td>\n",
              "      <td>0.0</td>\n",
              "      <td>10000000.0</td>\n",
              "      <td>100000000.0</td>\n",
              "      <td>Money-Transfer</td>\n",
              "    </tr>\n",
              "    <tr>\n",
              "      <th>4</th>\n",
              "      <td>2014-02-28</td>\n",
              "      <td>NEFT/FDRL401249531/INDIAFORENSIC</td>\n",
              "      <td>84903292</td>\n",
              "      <td>NaN</td>\n",
              "      <td>0.0</td>\n",
              "      <td>15000000.0</td>\n",
              "      <td>45000000.0</td>\n",
              "      <td>Money-Transfer</td>\n",
              "    </tr>\n",
              "  </tbody>\n",
              "</table>\n",
              "</div>\n",
              "      <button class=\"colab-df-convert\" onclick=\"convertToInteractive('df-9d736acf-c59e-4ebe-8adc-e7a823dd8c69')\"\n",
              "              title=\"Convert this dataframe to an interactive table.\"\n",
              "              style=\"display:none;\">\n",
              "        \n",
              "  <svg xmlns=\"http://www.w3.org/2000/svg\" height=\"24px\"viewBox=\"0 0 24 24\"\n",
              "       width=\"24px\">\n",
              "    <path d=\"M0 0h24v24H0V0z\" fill=\"none\"/>\n",
              "    <path d=\"M18.56 5.44l.94 2.06.94-2.06 2.06-.94-2.06-.94-.94-2.06-.94 2.06-2.06.94zm-11 1L8.5 8.5l.94-2.06 2.06-.94-2.06-.94L8.5 2.5l-.94 2.06-2.06.94zm10 10l.94 2.06.94-2.06 2.06-.94-2.06-.94-.94-2.06-.94 2.06-2.06.94z\"/><path d=\"M17.41 7.96l-1.37-1.37c-.4-.4-.92-.59-1.43-.59-.52 0-1.04.2-1.43.59L10.3 9.45l-7.72 7.72c-.78.78-.78 2.05 0 2.83L4 21.41c.39.39.9.59 1.41.59.51 0 1.02-.2 1.41-.59l7.78-7.78 2.81-2.81c.8-.78.8-2.07 0-2.86zM5.41 20L4 18.59l7.72-7.72 1.47 1.35L5.41 20z\"/>\n",
              "  </svg>\n",
              "      </button>\n",
              "      \n",
              "  <style>\n",
              "    .colab-df-container {\n",
              "      display:flex;\n",
              "      flex-wrap:wrap;\n",
              "      gap: 12px;\n",
              "    }\n",
              "\n",
              "    .colab-df-convert {\n",
              "      background-color: #E8F0FE;\n",
              "      border: none;\n",
              "      border-radius: 50%;\n",
              "      cursor: pointer;\n",
              "      display: none;\n",
              "      fill: #1967D2;\n",
              "      height: 32px;\n",
              "      padding: 0 0 0 0;\n",
              "      width: 32px;\n",
              "    }\n",
              "\n",
              "    .colab-df-convert:hover {\n",
              "      background-color: #E2EBFA;\n",
              "      box-shadow: 0px 1px 2px rgba(60, 64, 67, 0.3), 0px 1px 3px 1px rgba(60, 64, 67, 0.15);\n",
              "      fill: #174EA6;\n",
              "    }\n",
              "\n",
              "    [theme=dark] .colab-df-convert {\n",
              "      background-color: #3B4455;\n",
              "      fill: #D2E3FC;\n",
              "    }\n",
              "\n",
              "    [theme=dark] .colab-df-convert:hover {\n",
              "      background-color: #434B5C;\n",
              "      box-shadow: 0px 1px 3px 1px rgba(0, 0, 0, 0.15);\n",
              "      filter: drop-shadow(0px 1px 2px rgba(0, 0, 0, 0.3));\n",
              "      fill: #FFFFFF;\n",
              "    }\n",
              "  </style>\n",
              "\n",
              "      <script>\n",
              "        const buttonEl =\n",
              "          document.querySelector('#df-9d736acf-c59e-4ebe-8adc-e7a823dd8c69 button.colab-df-convert');\n",
              "        buttonEl.style.display =\n",
              "          google.colab.kernel.accessAllowed ? 'block' : 'none';\n",
              "\n",
              "        async function convertToInteractive(key) {\n",
              "          const element = document.querySelector('#df-9d736acf-c59e-4ebe-8adc-e7a823dd8c69');\n",
              "          const dataTable =\n",
              "            await google.colab.kernel.invokeFunction('convertToInteractive',\n",
              "                                                     [key], {});\n",
              "          if (!dataTable) return;\n",
              "\n",
              "          const docLinkHtml = 'Like what you see? Visit the ' +\n",
              "            '<a target=\"_blank\" href=https://colab.research.google.com/notebooks/data_table.ipynb>data table notebook</a>'\n",
              "            + ' to learn more about interactive tables.';\n",
              "          element.innerHTML = '';\n",
              "          dataTable['output_type'] = 'display_data';\n",
              "          await google.colab.output.renderOutput(dataTable, element);\n",
              "          const docLink = document.createElement('div');\n",
              "          docLink.innerHTML = docLinkHtml;\n",
              "          element.appendChild(docLink);\n",
              "        }\n",
              "      </script>\n",
              "    </div>\n",
              "  </div>\n",
              "  "
            ],
            "text/plain": [
              "        DATE               TRANSACTION DETAILS  Account_NO  CHQ.NO.  \\\n",
              "0 2014-02-28  NEFT/FDRL401249529/INDIAFORENSIC    84903292      NaN   \n",
              "1 2014-02-28  NEFT/FDRL401249532/INDIAFORENSIC    84903292      NaN   \n",
              "2 2014-02-28  NEFT/FDRL401249534/INDIAFORENSIC    84903292      NaN   \n",
              "3 2014-02-28  NEFT/FDRL401249590/INDIAFORENSIC    84903292      NaN   \n",
              "4 2014-02-28  NEFT/FDRL401249531/INDIAFORENSIC    84903292      NaN   \n",
              "\n",
              "   WITHDRAWAL AMT  DEPOSIT AMT  BALANCE AMT        Category  \n",
              "0             0.0   15000000.0   15000000.0  Money-Transfer  \n",
              "1             0.0   15000000.0   60000000.0  Money-Transfer  \n",
              "2             0.0   15000000.0   90000000.0  Money-Transfer  \n",
              "3             0.0   10000000.0  100000000.0  Money-Transfer  \n",
              "4             0.0   15000000.0   45000000.0  Money-Transfer  "
            ]
          },
          "execution_count": 7,
          "metadata": {},
          "output_type": "execute_result"
        }
      ],
      "source": [
        "# Inspect the training data\n",
        "Train.head()"
      ]
    },
    {
      "cell_type": "code",
      "execution_count": 8,
      "metadata": {
        "colab": {
          "base_uri": "https://localhost:8080/",
          "height": 375
        },
        "id": "52d3YO2VWK5g",
        "outputId": "f8a97067-bdbd-4d79-d202-c374d5cb1c75"
      },
      "outputs": [
        {
          "data": {
            "text/html": [
              "\n",
              "  <div id=\"df-399e2276-1fba-492e-a220-6a33f785765b\">\n",
              "    <div class=\"colab-df-container\">\n",
              "      <div>\n",
              "<style scoped>\n",
              "    .dataframe tbody tr th:only-of-type {\n",
              "        vertical-align: middle;\n",
              "    }\n",
              "\n",
              "    .dataframe tbody tr th {\n",
              "        vertical-align: top;\n",
              "    }\n",
              "\n",
              "    .dataframe thead th {\n",
              "        text-align: right;\n",
              "    }\n",
              "</style>\n",
              "<table border=\"1\" class=\"dataframe\">\n",
              "  <thead>\n",
              "    <tr style=\"text-align: right;\">\n",
              "      <th></th>\n",
              "      <th>DATE</th>\n",
              "      <th>TRANSACTION DETAILS</th>\n",
              "      <th>Account_NO</th>\n",
              "      <th>CHQ.NO.</th>\n",
              "      <th>WITHDRAWAL AMT</th>\n",
              "      <th>DEPOSIT AMT</th>\n",
              "      <th>BALANCE AMT</th>\n",
              "      <th>ID</th>\n",
              "    </tr>\n",
              "  </thead>\n",
              "  <tbody>\n",
              "    <tr>\n",
              "      <th>0</th>\n",
              "      <td>2014-02-28</td>\n",
              "      <td>NEFT/FDRL401249530/INDIAFORENSIC</td>\n",
              "      <td>84903292</td>\n",
              "      <td>NaN</td>\n",
              "      <td>0.00</td>\n",
              "      <td>15000000.0</td>\n",
              "      <td>30000000.00</td>\n",
              "      <td>2014-02-28 00:00:00X3000000000</td>\n",
              "    </tr>\n",
              "    <tr>\n",
              "      <th>1</th>\n",
              "      <td>2014-02-28</td>\n",
              "      <td>NEFT/FDRL401249533/INDIAFORENSIC</td>\n",
              "      <td>84903292</td>\n",
              "      <td>NaN</td>\n",
              "      <td>0.00</td>\n",
              "      <td>15000000.0</td>\n",
              "      <td>75000000.00</td>\n",
              "      <td>2014-02-28 00:00:00X7500000000</td>\n",
              "    </tr>\n",
              "    <tr>\n",
              "      <th>2</th>\n",
              "      <td>2014-03-08</td>\n",
              "      <td>RTGSCHARGESANDSTAX/RAT</td>\n",
              "      <td>84903292</td>\n",
              "      <td>NaN</td>\n",
              "      <td>28.63</td>\n",
              "      <td>0.0</td>\n",
              "      <td>45000028.63</td>\n",
              "      <td>2014-03-08 00:00:00X4500002863</td>\n",
              "    </tr>\n",
              "    <tr>\n",
              "      <th>3</th>\n",
              "      <td>2014-03-08</td>\n",
              "      <td>RTGS/YESBH16068986176/INDFOR</td>\n",
              "      <td>84903292</td>\n",
              "      <td>NaN</td>\n",
              "      <td>15000000.00</td>\n",
              "      <td>0.0</td>\n",
              "      <td>60000028.63</td>\n",
              "      <td>2014-03-08 00:00:00X6000002863</td>\n",
              "    </tr>\n",
              "    <tr>\n",
              "      <th>4</th>\n",
              "      <td>2014-03-08</td>\n",
              "      <td>RTGSCHARGESANDSTAX/RAT</td>\n",
              "      <td>84903292</td>\n",
              "      <td>NaN</td>\n",
              "      <td>28.63</td>\n",
              "      <td>0.0</td>\n",
              "      <td>60000057.26</td>\n",
              "      <td>2014-03-08 00:00:00X6000005726</td>\n",
              "    </tr>\n",
              "  </tbody>\n",
              "</table>\n",
              "</div>\n",
              "      <button class=\"colab-df-convert\" onclick=\"convertToInteractive('df-399e2276-1fba-492e-a220-6a33f785765b')\"\n",
              "              title=\"Convert this dataframe to an interactive table.\"\n",
              "              style=\"display:none;\">\n",
              "        \n",
              "  <svg xmlns=\"http://www.w3.org/2000/svg\" height=\"24px\"viewBox=\"0 0 24 24\"\n",
              "       width=\"24px\">\n",
              "    <path d=\"M0 0h24v24H0V0z\" fill=\"none\"/>\n",
              "    <path d=\"M18.56 5.44l.94 2.06.94-2.06 2.06-.94-2.06-.94-.94-2.06-.94 2.06-2.06.94zm-11 1L8.5 8.5l.94-2.06 2.06-.94-2.06-.94L8.5 2.5l-.94 2.06-2.06.94zm10 10l.94 2.06.94-2.06 2.06-.94-2.06-.94-.94-2.06-.94 2.06-2.06.94z\"/><path d=\"M17.41 7.96l-1.37-1.37c-.4-.4-.92-.59-1.43-.59-.52 0-1.04.2-1.43.59L10.3 9.45l-7.72 7.72c-.78.78-.78 2.05 0 2.83L4 21.41c.39.39.9.59 1.41.59.51 0 1.02-.2 1.41-.59l7.78-7.78 2.81-2.81c.8-.78.8-2.07 0-2.86zM5.41 20L4 18.59l7.72-7.72 1.47 1.35L5.41 20z\"/>\n",
              "  </svg>\n",
              "      </button>\n",
              "      \n",
              "  <style>\n",
              "    .colab-df-container {\n",
              "      display:flex;\n",
              "      flex-wrap:wrap;\n",
              "      gap: 12px;\n",
              "    }\n",
              "\n",
              "    .colab-df-convert {\n",
              "      background-color: #E8F0FE;\n",
              "      border: none;\n",
              "      border-radius: 50%;\n",
              "      cursor: pointer;\n",
              "      display: none;\n",
              "      fill: #1967D2;\n",
              "      height: 32px;\n",
              "      padding: 0 0 0 0;\n",
              "      width: 32px;\n",
              "    }\n",
              "\n",
              "    .colab-df-convert:hover {\n",
              "      background-color: #E2EBFA;\n",
              "      box-shadow: 0px 1px 2px rgba(60, 64, 67, 0.3), 0px 1px 3px 1px rgba(60, 64, 67, 0.15);\n",
              "      fill: #174EA6;\n",
              "    }\n",
              "\n",
              "    [theme=dark] .colab-df-convert {\n",
              "      background-color: #3B4455;\n",
              "      fill: #D2E3FC;\n",
              "    }\n",
              "\n",
              "    [theme=dark] .colab-df-convert:hover {\n",
              "      background-color: #434B5C;\n",
              "      box-shadow: 0px 1px 3px 1px rgba(0, 0, 0, 0.15);\n",
              "      filter: drop-shadow(0px 1px 2px rgba(0, 0, 0, 0.3));\n",
              "      fill: #FFFFFF;\n",
              "    }\n",
              "  </style>\n",
              "\n",
              "      <script>\n",
              "        const buttonEl =\n",
              "          document.querySelector('#df-399e2276-1fba-492e-a220-6a33f785765b button.colab-df-convert');\n",
              "        buttonEl.style.display =\n",
              "          google.colab.kernel.accessAllowed ? 'block' : 'none';\n",
              "\n",
              "        async function convertToInteractive(key) {\n",
              "          const element = document.querySelector('#df-399e2276-1fba-492e-a220-6a33f785765b');\n",
              "          const dataTable =\n",
              "            await google.colab.kernel.invokeFunction('convertToInteractive',\n",
              "                                                     [key], {});\n",
              "          if (!dataTable) return;\n",
              "\n",
              "          const docLinkHtml = 'Like what you see? Visit the ' +\n",
              "            '<a target=\"_blank\" href=https://colab.research.google.com/notebooks/data_table.ipynb>data table notebook</a>'\n",
              "            + ' to learn more about interactive tables.';\n",
              "          element.innerHTML = '';\n",
              "          dataTable['output_type'] = 'display_data';\n",
              "          await google.colab.output.renderOutput(dataTable, element);\n",
              "          const docLink = document.createElement('div');\n",
              "          docLink.innerHTML = docLinkHtml;\n",
              "          element.appendChild(docLink);\n",
              "        }\n",
              "      </script>\n",
              "    </div>\n",
              "  </div>\n",
              "  "
            ],
            "text/plain": [
              "        DATE               TRANSACTION DETAILS  Account_NO  CHQ.NO.  \\\n",
              "0 2014-02-28  NEFT/FDRL401249530/INDIAFORENSIC    84903292      NaN   \n",
              "1 2014-02-28  NEFT/FDRL401249533/INDIAFORENSIC    84903292      NaN   \n",
              "2 2014-03-08            RTGSCHARGESANDSTAX/RAT    84903292      NaN   \n",
              "3 2014-03-08      RTGS/YESBH16068986176/INDFOR    84903292      NaN   \n",
              "4 2014-03-08            RTGSCHARGESANDSTAX/RAT    84903292      NaN   \n",
              "\n",
              "   WITHDRAWAL AMT  DEPOSIT AMT  BALANCE AMT                              ID  \n",
              "0            0.00   15000000.0  30000000.00  2014-02-28 00:00:00X3000000000  \n",
              "1            0.00   15000000.0  75000000.00  2014-02-28 00:00:00X7500000000  \n",
              "2           28.63          0.0  45000028.63  2014-03-08 00:00:00X4500002863  \n",
              "3     15000000.00          0.0  60000028.63  2014-03-08 00:00:00X6000002863  \n",
              "4           28.63          0.0  60000057.26  2014-03-08 00:00:00X6000005726  "
            ]
          },
          "execution_count": 8,
          "metadata": {},
          "output_type": "execute_result"
        }
      ],
      "source": [
        "Test.head()"
      ]
    },
    {
      "cell_type": "markdown",
      "metadata": {
        "id": "vJMxq4HmkJ58"
      },
      "source": [
        "## Missing Values"
      ]
    },
    {
      "cell_type": "code",
      "execution_count": 9,
      "metadata": {
        "colab": {
          "base_uri": "https://localhost:8080/",
          "height": 417
        },
        "id": "ek0-f1HrkJ5-",
        "outputId": "8c943cce-a8a8-4fe6-bf6a-d85dfeee87e3"
      },
      "outputs": [
        {
          "data": {
            "text/html": [
              "\n",
              "  <div id=\"df-8c2d340b-b574-4077-903b-93e4def082d3\">\n",
              "    <div class=\"colab-df-container\">\n",
              "      <div>\n",
              "<style scoped>\n",
              "    .dataframe tbody tr th:only-of-type {\n",
              "        vertical-align: middle;\n",
              "    }\n",
              "\n",
              "    .dataframe tbody tr th {\n",
              "        vertical-align: top;\n",
              "    }\n",
              "\n",
              "    .dataframe thead th {\n",
              "        text-align: right;\n",
              "    }\n",
              "</style>\n",
              "<table border=\"1\" class=\"dataframe\">\n",
              "  <thead>\n",
              "    <tr style=\"text-align: right;\">\n",
              "      <th></th>\n",
              "      <th>column_name</th>\n",
              "      <th>percent_missing</th>\n",
              "    </tr>\n",
              "  </thead>\n",
              "  <tbody>\n",
              "    <tr>\n",
              "      <th>DATE</th>\n",
              "      <td>DATE</td>\n",
              "      <td>0.000000</td>\n",
              "    </tr>\n",
              "    <tr>\n",
              "      <th>TRANSACTION DETAILS</th>\n",
              "      <td>TRANSACTION DETAILS</td>\n",
              "      <td>2.847828</td>\n",
              "    </tr>\n",
              "    <tr>\n",
              "      <th>Account_NO</th>\n",
              "      <td>Account_NO</td>\n",
              "      <td>0.000000</td>\n",
              "    </tr>\n",
              "    <tr>\n",
              "      <th>CHQ.NO.</th>\n",
              "      <td>CHQ.NO.</td>\n",
              "      <td>99.330734</td>\n",
              "    </tr>\n",
              "    <tr>\n",
              "      <th>WITHDRAWAL AMT</th>\n",
              "      <td>WITHDRAWAL AMT</td>\n",
              "      <td>0.000000</td>\n",
              "    </tr>\n",
              "    <tr>\n",
              "      <th>DEPOSIT AMT</th>\n",
              "      <td>DEPOSIT AMT</td>\n",
              "      <td>0.000000</td>\n",
              "    </tr>\n",
              "    <tr>\n",
              "      <th>BALANCE AMT</th>\n",
              "      <td>BALANCE AMT</td>\n",
              "      <td>0.000000</td>\n",
              "    </tr>\n",
              "    <tr>\n",
              "      <th>Category</th>\n",
              "      <td>Category</td>\n",
              "      <td>3.054818</td>\n",
              "    </tr>\n",
              "  </tbody>\n",
              "</table>\n",
              "</div>\n",
              "      <button class=\"colab-df-convert\" onclick=\"convertToInteractive('df-8c2d340b-b574-4077-903b-93e4def082d3')\"\n",
              "              title=\"Convert this dataframe to an interactive table.\"\n",
              "              style=\"display:none;\">\n",
              "        \n",
              "  <svg xmlns=\"http://www.w3.org/2000/svg\" height=\"24px\"viewBox=\"0 0 24 24\"\n",
              "       width=\"24px\">\n",
              "    <path d=\"M0 0h24v24H0V0z\" fill=\"none\"/>\n",
              "    <path d=\"M18.56 5.44l.94 2.06.94-2.06 2.06-.94-2.06-.94-.94-2.06-.94 2.06-2.06.94zm-11 1L8.5 8.5l.94-2.06 2.06-.94-2.06-.94L8.5 2.5l-.94 2.06-2.06.94zm10 10l.94 2.06.94-2.06 2.06-.94-2.06-.94-.94-2.06-.94 2.06-2.06.94z\"/><path d=\"M17.41 7.96l-1.37-1.37c-.4-.4-.92-.59-1.43-.59-.52 0-1.04.2-1.43.59L10.3 9.45l-7.72 7.72c-.78.78-.78 2.05 0 2.83L4 21.41c.39.39.9.59 1.41.59.51 0 1.02-.2 1.41-.59l7.78-7.78 2.81-2.81c.8-.78.8-2.07 0-2.86zM5.41 20L4 18.59l7.72-7.72 1.47 1.35L5.41 20z\"/>\n",
              "  </svg>\n",
              "      </button>\n",
              "      \n",
              "  <style>\n",
              "    .colab-df-container {\n",
              "      display:flex;\n",
              "      flex-wrap:wrap;\n",
              "      gap: 12px;\n",
              "    }\n",
              "\n",
              "    .colab-df-convert {\n",
              "      background-color: #E8F0FE;\n",
              "      border: none;\n",
              "      border-radius: 50%;\n",
              "      cursor: pointer;\n",
              "      display: none;\n",
              "      fill: #1967D2;\n",
              "      height: 32px;\n",
              "      padding: 0 0 0 0;\n",
              "      width: 32px;\n",
              "    }\n",
              "\n",
              "    .colab-df-convert:hover {\n",
              "      background-color: #E2EBFA;\n",
              "      box-shadow: 0px 1px 2px rgba(60, 64, 67, 0.3), 0px 1px 3px 1px rgba(60, 64, 67, 0.15);\n",
              "      fill: #174EA6;\n",
              "    }\n",
              "\n",
              "    [theme=dark] .colab-df-convert {\n",
              "      background-color: #3B4455;\n",
              "      fill: #D2E3FC;\n",
              "    }\n",
              "\n",
              "    [theme=dark] .colab-df-convert:hover {\n",
              "      background-color: #434B5C;\n",
              "      box-shadow: 0px 1px 3px 1px rgba(0, 0, 0, 0.15);\n",
              "      filter: drop-shadow(0px 1px 2px rgba(0, 0, 0, 0.3));\n",
              "      fill: #FFFFFF;\n",
              "    }\n",
              "  </style>\n",
              "\n",
              "      <script>\n",
              "        const buttonEl =\n",
              "          document.querySelector('#df-8c2d340b-b574-4077-903b-93e4def082d3 button.colab-df-convert');\n",
              "        buttonEl.style.display =\n",
              "          google.colab.kernel.accessAllowed ? 'block' : 'none';\n",
              "\n",
              "        async function convertToInteractive(key) {\n",
              "          const element = document.querySelector('#df-8c2d340b-b574-4077-903b-93e4def082d3');\n",
              "          const dataTable =\n",
              "            await google.colab.kernel.invokeFunction('convertToInteractive',\n",
              "                                                     [key], {});\n",
              "          if (!dataTable) return;\n",
              "\n",
              "          const docLinkHtml = 'Like what you see? Visit the ' +\n",
              "            '<a target=\"_blank\" href=https://colab.research.google.com/notebooks/data_table.ipynb>data table notebook</a>'\n",
              "            + ' to learn more about interactive tables.';\n",
              "          element.innerHTML = '';\n",
              "          dataTable['output_type'] = 'display_data';\n",
              "          await google.colab.output.renderOutput(dataTable, element);\n",
              "          const docLink = document.createElement('div');\n",
              "          docLink.innerHTML = docLinkHtml;\n",
              "          element.appendChild(docLink);\n",
              "        }\n",
              "      </script>\n",
              "    </div>\n",
              "  </div>\n",
              "  "
            ],
            "text/plain": [
              "                             column_name  percent_missing\n",
              "DATE                                DATE         0.000000\n",
              "TRANSACTION DETAILS  TRANSACTION DETAILS         2.847828\n",
              "Account_NO                    Account_NO         0.000000\n",
              "CHQ.NO.                          CHQ.NO.        99.330734\n",
              "WITHDRAWAL AMT            WITHDRAWAL AMT         0.000000\n",
              "DEPOSIT AMT                  DEPOSIT AMT         0.000000\n",
              "BALANCE AMT                  BALANCE AMT         0.000000\n",
              "Category                        Category         3.054818"
            ]
          },
          "execution_count": 9,
          "metadata": {},
          "output_type": "execute_result"
        }
      ],
      "source": [
        "#check for missing values\n",
        "percent_missing = Train.isnull().sum() * 100 / len(Train)\n",
        "missing_value_train = pd.DataFrame({'column_name': Train.columns,\n",
        "                                 'percent_missing': percent_missing})\n",
        "missing_value_train"
      ]
    },
    {
      "cell_type": "code",
      "execution_count": 10,
      "metadata": {
        "colab": {
          "base_uri": "https://localhost:8080/",
          "height": 417
        },
        "id": "P0GePd4GkJ6A",
        "outputId": "d436ea0a-fba8-49e2-c04f-51cb72d94be2"
      },
      "outputs": [
        {
          "data": {
            "text/html": [
              "\n",
              "  <div id=\"df-54e00b1d-8a82-4a0c-ae1d-7613ce5d10c0\">\n",
              "    <div class=\"colab-df-container\">\n",
              "      <div>\n",
              "<style scoped>\n",
              "    .dataframe tbody tr th:only-of-type {\n",
              "        vertical-align: middle;\n",
              "    }\n",
              "\n",
              "    .dataframe tbody tr th {\n",
              "        vertical-align: top;\n",
              "    }\n",
              "\n",
              "    .dataframe thead th {\n",
              "        text-align: right;\n",
              "    }\n",
              "</style>\n",
              "<table border=\"1\" class=\"dataframe\">\n",
              "  <thead>\n",
              "    <tr style=\"text-align: right;\">\n",
              "      <th></th>\n",
              "      <th>column_name</th>\n",
              "      <th>percent_missing</th>\n",
              "    </tr>\n",
              "  </thead>\n",
              "  <tbody>\n",
              "    <tr>\n",
              "      <th>DATE</th>\n",
              "      <td>DATE</td>\n",
              "      <td>0.000000</td>\n",
              "    </tr>\n",
              "    <tr>\n",
              "      <th>TRANSACTION DETAILS</th>\n",
              "      <td>TRANSACTION DETAILS</td>\n",
              "      <td>0.000000</td>\n",
              "    </tr>\n",
              "    <tr>\n",
              "      <th>Account_NO</th>\n",
              "      <td>Account_NO</td>\n",
              "      <td>0.000000</td>\n",
              "    </tr>\n",
              "    <tr>\n",
              "      <th>CHQ.NO.</th>\n",
              "      <td>CHQ.NO.</td>\n",
              "      <td>99.465193</td>\n",
              "    </tr>\n",
              "    <tr>\n",
              "      <th>WITHDRAWAL AMT</th>\n",
              "      <td>WITHDRAWAL AMT</td>\n",
              "      <td>0.000000</td>\n",
              "    </tr>\n",
              "    <tr>\n",
              "      <th>DEPOSIT AMT</th>\n",
              "      <td>DEPOSIT AMT</td>\n",
              "      <td>0.000000</td>\n",
              "    </tr>\n",
              "    <tr>\n",
              "      <th>BALANCE AMT</th>\n",
              "      <td>BALANCE AMT</td>\n",
              "      <td>0.000000</td>\n",
              "    </tr>\n",
              "    <tr>\n",
              "      <th>ID</th>\n",
              "      <td>ID</td>\n",
              "      <td>0.000000</td>\n",
              "    </tr>\n",
              "  </tbody>\n",
              "</table>\n",
              "</div>\n",
              "      <button class=\"colab-df-convert\" onclick=\"convertToInteractive('df-54e00b1d-8a82-4a0c-ae1d-7613ce5d10c0')\"\n",
              "              title=\"Convert this dataframe to an interactive table.\"\n",
              "              style=\"display:none;\">\n",
              "        \n",
              "  <svg xmlns=\"http://www.w3.org/2000/svg\" height=\"24px\"viewBox=\"0 0 24 24\"\n",
              "       width=\"24px\">\n",
              "    <path d=\"M0 0h24v24H0V0z\" fill=\"none\"/>\n",
              "    <path d=\"M18.56 5.44l.94 2.06.94-2.06 2.06-.94-2.06-.94-.94-2.06-.94 2.06-2.06.94zm-11 1L8.5 8.5l.94-2.06 2.06-.94-2.06-.94L8.5 2.5l-.94 2.06-2.06.94zm10 10l.94 2.06.94-2.06 2.06-.94-2.06-.94-.94-2.06-.94 2.06-2.06.94z\"/><path d=\"M17.41 7.96l-1.37-1.37c-.4-.4-.92-.59-1.43-.59-.52 0-1.04.2-1.43.59L10.3 9.45l-7.72 7.72c-.78.78-.78 2.05 0 2.83L4 21.41c.39.39.9.59 1.41.59.51 0 1.02-.2 1.41-.59l7.78-7.78 2.81-2.81c.8-.78.8-2.07 0-2.86zM5.41 20L4 18.59l7.72-7.72 1.47 1.35L5.41 20z\"/>\n",
              "  </svg>\n",
              "      </button>\n",
              "      \n",
              "  <style>\n",
              "    .colab-df-container {\n",
              "      display:flex;\n",
              "      flex-wrap:wrap;\n",
              "      gap: 12px;\n",
              "    }\n",
              "\n",
              "    .colab-df-convert {\n",
              "      background-color: #E8F0FE;\n",
              "      border: none;\n",
              "      border-radius: 50%;\n",
              "      cursor: pointer;\n",
              "      display: none;\n",
              "      fill: #1967D2;\n",
              "      height: 32px;\n",
              "      padding: 0 0 0 0;\n",
              "      width: 32px;\n",
              "    }\n",
              "\n",
              "    .colab-df-convert:hover {\n",
              "      background-color: #E2EBFA;\n",
              "      box-shadow: 0px 1px 2px rgba(60, 64, 67, 0.3), 0px 1px 3px 1px rgba(60, 64, 67, 0.15);\n",
              "      fill: #174EA6;\n",
              "    }\n",
              "\n",
              "    [theme=dark] .colab-df-convert {\n",
              "      background-color: #3B4455;\n",
              "      fill: #D2E3FC;\n",
              "    }\n",
              "\n",
              "    [theme=dark] .colab-df-convert:hover {\n",
              "      background-color: #434B5C;\n",
              "      box-shadow: 0px 1px 3px 1px rgba(0, 0, 0, 0.15);\n",
              "      filter: drop-shadow(0px 1px 2px rgba(0, 0, 0, 0.3));\n",
              "      fill: #FFFFFF;\n",
              "    }\n",
              "  </style>\n",
              "\n",
              "      <script>\n",
              "        const buttonEl =\n",
              "          document.querySelector('#df-54e00b1d-8a82-4a0c-ae1d-7613ce5d10c0 button.colab-df-convert');\n",
              "        buttonEl.style.display =\n",
              "          google.colab.kernel.accessAllowed ? 'block' : 'none';\n",
              "\n",
              "        async function convertToInteractive(key) {\n",
              "          const element = document.querySelector('#df-54e00b1d-8a82-4a0c-ae1d-7613ce5d10c0');\n",
              "          const dataTable =\n",
              "            await google.colab.kernel.invokeFunction('convertToInteractive',\n",
              "                                                     [key], {});\n",
              "          if (!dataTable) return;\n",
              "\n",
              "          const docLinkHtml = 'Like what you see? Visit the ' +\n",
              "            '<a target=\"_blank\" href=https://colab.research.google.com/notebooks/data_table.ipynb>data table notebook</a>'\n",
              "            + ' to learn more about interactive tables.';\n",
              "          element.innerHTML = '';\n",
              "          dataTable['output_type'] = 'display_data';\n",
              "          await google.colab.output.renderOutput(dataTable, element);\n",
              "          const docLink = document.createElement('div');\n",
              "          docLink.innerHTML = docLinkHtml;\n",
              "          element.appendChild(docLink);\n",
              "        }\n",
              "      </script>\n",
              "    </div>\n",
              "  </div>\n",
              "  "
            ],
            "text/plain": [
              "                             column_name  percent_missing\n",
              "DATE                                DATE         0.000000\n",
              "TRANSACTION DETAILS  TRANSACTION DETAILS         0.000000\n",
              "Account_NO                    Account_NO         0.000000\n",
              "CHQ.NO.                          CHQ.NO.        99.465193\n",
              "WITHDRAWAL AMT            WITHDRAWAL AMT         0.000000\n",
              "DEPOSIT AMT                  DEPOSIT AMT         0.000000\n",
              "BALANCE AMT                  BALANCE AMT         0.000000\n",
              "ID                                    ID         0.000000"
            ]
          },
          "execution_count": 10,
          "metadata": {},
          "output_type": "execute_result"
        }
      ],
      "source": [
        "#check for missing values\n",
        "percent_missing = Test.isnull().sum() * 100 / len(Test)\n",
        "missing_value_test = pd.DataFrame({'column_name': Test.columns,\n",
        "                                 'percent_missing': percent_missing})\n",
        "missing_value_test"
      ]
    },
    {
      "cell_type": "code",
      "execution_count": 11,
      "metadata": {
        "id": "dsnOSsDgkJ6B"
      },
      "outputs": [],
      "source": [
        "Train = Train.drop(columns = ['CHQ.NO.'])\n",
        "Test = Test.drop(columns = ['CHQ.NO.'])"
      ]
    },
    {
      "cell_type": "code",
      "execution_count": 12,
      "metadata": {
        "id": "vkmTUw6bPeCW"
      },
      "outputs": [],
      "source": [
        " Train = Train.dropna()"
      ]
    },
    {
      "cell_type": "markdown",
      "metadata": {
        "id": "tiM7n-LAkJ6D"
      },
      "source": [
        "## Unique values"
      ]
    },
    {
      "cell_type": "code",
      "execution_count": 13,
      "metadata": {
        "colab": {
          "base_uri": "https://localhost:8080/"
        },
        "id": "D_9eleVZkJ6E",
        "outputId": "09fe34be-35c3-4786-8a8b-2369c55a037e"
      },
      "outputs": [
        {
          "data": {
            "text/plain": [
              "DATE                    2311\n",
              "TRANSACTION DETAILS    29367\n",
              "Account_NO                10\n",
              "WITHDRAWAL AMT          5991\n",
              "DEPOSIT AMT            13147\n",
              "BALANCE AMT            54546\n",
              "Category                  21\n",
              "dtype: int64"
            ]
          },
          "execution_count": 13,
          "metadata": {},
          "output_type": "execute_result"
        }
      ],
      "source": [
        "# check unique values in dataset\n",
        "Train.apply(lambda x: len(x.unique()))"
      ]
    },
    {
      "cell_type": "code",
      "execution_count": 14,
      "metadata": {
        "colab": {
          "base_uri": "https://localhost:8080/"
        },
        "id": "ZBa6hnWlkJ6E",
        "outputId": "33dd5a10-42f2-4aab-9207-1602d2188545"
      },
      "outputs": [
        {
          "data": {
            "text/plain": [
              "DATE                    2136\n",
              "TRANSACTION DETAILS    12588\n",
              "Account_NO                10\n",
              "WITHDRAWAL AMT          4116\n",
              "DEPOSIT AMT             7326\n",
              "BALANCE AMT            22624\n",
              "ID                     22625\n",
              "dtype: int64"
            ]
          },
          "execution_count": 14,
          "metadata": {},
          "output_type": "execute_result"
        }
      ],
      "source": [
        "# check unique values in dataset\n",
        "Test.apply(lambda x: len(x.unique()))"
      ]
    },
    {
      "cell_type": "markdown",
      "metadata": {
        "id": "uR7H9KmYtqqg"
      },
      "source": [
        "## 2. EDA,Preprocessing and Feature Engineering"
      ]
    },
    {
      "cell_type": "markdown",
      "metadata": {
        "id": "6Gp_xSOrtyfj"
      },
      "source": [
        "### Plots"
      ]
    },
    {
      "cell_type": "code",
      "execution_count": 18,
      "metadata": {
        "colab": {
          "base_uri": "https://localhost:8080/"
        },
        "id": "ZGGw6ccHwU77",
        "outputId": "c6f27095-40ac-469b-9b20-fe84ec4dfedb"
      },
      "outputs": [
        {
          "data": {
            "text/plain": [
              "21"
            ]
          },
          "execution_count": 18,
          "metadata": {},
          "output_type": "execute_result"
        }
      ],
      "source": [
        "Train['Category'].nunique()"
      ]
    },
    {
      "cell_type": "code",
      "execution_count": 19,
      "metadata": {
        "colab": {
          "base_uri": "https://localhost:8080/",
          "height": 489
        },
        "id": "3_E4cGDvstrK",
        "outputId": "3164bb18-67a9-4d0d-ef43-8380a9970772"
      },
      "outputs": [
        {
          "name": "stdout",
          "output_type": "stream",
          "text": [
            "Money-Transfer                      33555\n",
            "Deposit                             12431\n",
            "Merchant-Payment                     3160\n",
            "Cheque-Payment                       1427\n",
            "Bank Charges                         1122\n",
            "Cash-Pickup                          1064\n",
            "Salary and wages                      808\n",
            "Bill-Payments                         482\n",
            "Shopping                              119\n",
            "Cell Phone and Airtime                103\n",
            "Interest                               70\n",
            "Loan Repayment                         69\n",
            "Reversal                               66\n",
            "Internet and IT Services               22\n",
            "Insurance                              20\n",
            "Professional services                  15\n",
            "Savings and Investments                10\n",
            "General Purchases                       4\n",
            "Transport, Travel, and Logistics        2\n",
            "Donations                               2\n",
            "Entertainment                           1\n",
            "Name: Category, dtype: int64\n"
          ]
        },
        {
          "data": {
            "text/plain": [
              "Text(0.5, 0, 'Category')"
            ]
          },
          "execution_count": 19,
          "metadata": {},
          "output_type": "execute_result"
        },
        {
          "data": {
            "image/png": "[encoded data removed]",
            "text/plain": [
              "<Figure size 720x360 with 1 Axes>"
            ]
          },
          "metadata": {
            "needs_background": "light"
          },
          "output_type": "display_data"
        }
      ],
      "source": [
        "print(Train['Category'].value_counts())\n",
        "plt.figure(figsize=(10,5))\n",
        "Train['Category'].value_counts(normalize=True).plot(kind='bar')\n",
        "plt.ylabel('counts')\n",
        "plt.xlabel('Category')"
      ]
    },
    {
      "cell_type": "code",
      "execution_count": 20,
      "metadata": {
        "colab": {
          "base_uri": "https://localhost:8080/",
          "height": 298
        },
        "id": "QGPzvCzskJ6I",
        "outputId": "8dab3810-8eea-4856-897c-0dab0feccbb3"
      },
      "outputs": [
        {
          "name": "stdout",
          "output_type": "stream",
          "text": [
            "20179201    23339\n",
            "56986993     9739\n",
            "84903292     7371\n",
            "80157410     6577\n",
            "4969373      4013\n",
            "28039243     2288\n",
            "10908140      550\n",
            "83234289      496\n",
            "68304903      172\n",
            "22937010        7\n",
            "Name: Account_NO, dtype: int64\n"
          ]
        },
        {
          "data": {
            "text/plain": [
              "Text(0.5, 0, 'Account_NO')"
            ]
          },
          "execution_count": 20,
          "metadata": {},
          "output_type": "execute_result"
        },
        {
          "data": {
            "image/png": "[encoded data removed]",
            "text/plain": [
              "<Figure size 720x360 with 1 Axes>"
            ]
          },
          "metadata": {
            "needs_background": "light"
          },
          "output_type": "display_data"
        }
      ],
      "source": [
        "print(Train['Account_NO'].value_counts())\n",
        "plt.figure(figsize=(10,5))\n",
        "Train['Account_NO'].value_counts(normalize=True).plot(kind='bar')\n",
        "plt.ylabel('counts')\n",
        "plt.xlabel('Account_NO')"
      ]
    },
    {
      "cell_type": "code",
      "execution_count": 20,
      "metadata": {
        "id": "IEW4YBAYNhAV"
      },
      "outputs": [],
      "source": []
    },
    {
      "cell_type": "markdown",
      "metadata": {
        "id": "RrKHsKinkJ6J"
      },
      "source": [
        "#### Very imbalanced target column"
      ]
    },
    {
      "cell_type": "code",
      "execution_count": 21,
      "metadata": {
        "colab": {
          "base_uri": "https://localhost:8080/",
          "height": 106
        },
        "id": "wz0D5MgukJ6J",
        "outputId": "b0c3008c-1dd8-4b95-c51d-d1924018c96b"
      },
      "outputs": [
        {
          "data": {
            "text/plain": [
              "<matplotlib.axes._subplots.AxesSubplot at 0x7f20078bbc50>"
            ]
          },
          "execution_count": 21,
          "metadata": {},
          "output_type": "execute_result"
        },
        {
          "data": {
            "image/png": "[encoded data removed]",
            "text/plain": [
              "<Figure size 432x288 with 1 Axes>"
            ]
          },
          "metadata": {
            "needs_background": "light"
          },
          "output_type": "display_data"
        }
      ],
      "source": [
        "sns.distplot(Train['WITHDRAWAL AMT'])"
      ]
    },
    {
      "cell_type": "code",
      "execution_count": 22,
      "metadata": {
        "colab": {
          "base_uri": "https://localhost:8080/",
          "height": 106
        },
        "id": "6wm53MRmkJ6K",
        "outputId": "ecece8b3-c687-4ce5-f783-d4cffe8db01b"
      },
      "outputs": [
        {
          "data": {
            "text/plain": [
              "<matplotlib.axes._subplots.AxesSubplot at 0x7f2004f5d7d0>"
            ]
          },
          "execution_count": 22,
          "metadata": {},
          "output_type": "execute_result"
        },
        {
          "data": {
            "image/png": "[encoded data removed]",
            "text/plain": [
              "<Figure size 432x288 with 1 Axes>"
            ]
          },
          "metadata": {
            "needs_background": "light"
          },
          "output_type": "display_data"
        }
      ],
      "source": [
        "sns.boxplot(Train['WITHDRAWAL AMT'])"
      ]
    },
    {
      "cell_type": "code",
      "execution_count": 23,
      "metadata": {
        "colab": {
          "base_uri": "https://localhost:8080/",
          "height": 106
        },
        "id": "yLMxVXalBqZV",
        "outputId": "626d585b-c990-4925-b086-a13c58c0f8a4"
      },
      "outputs": [
        {
          "data": {
            "text/plain": [
              "<matplotlib.axes._subplots.AxesSubplot at 0x7f2004ec9110>"
            ]
          },
          "execution_count": 23,
          "metadata": {},
          "output_type": "execute_result"
        },
        {
          "data": {
            "image/png": "[encoded data removed]",
            "text/plain": [
              "<Figure size 432x288 with 1 Axes>"
            ]
          },
          "metadata": {
            "needs_background": "light"
          },
          "output_type": "display_data"
        }
      ],
      "source": [
        "sns.boxplot(Test['WITHDRAWAL AMT'])"
      ]
    },
    {
      "cell_type": "code",
      "execution_count": 24,
      "metadata": {
        "colab": {
          "base_uri": "https://localhost:8080/",
          "height": 106
        },
        "id": "Ss5jaezNkJ6M",
        "outputId": "4750fc5a-6319-4f54-f041-bb7a3b37ed56"
      },
      "outputs": [
        {
          "data": {
            "text/plain": [
              "<matplotlib.axes._subplots.AxesSubplot at 0x7f2004eb60d0>"
            ]
          },
          "execution_count": 24,
          "metadata": {},
          "output_type": "execute_result"
        },
        {
          "data": {
            "image/png": "[encoded data removed]",
            "text/plain": [
              "<Figure size 432x288 with 1 Axes>"
            ]
          },
          "metadata": {
            "needs_background": "light"
          },
          "output_type": "display_data"
        }
      ],
      "source": [
        "sns.distplot(np.log1p(Train['WITHDRAWAL AMT']))"
      ]
    },
    {
      "cell_type": "code",
      "execution_count": 25,
      "metadata": {
        "colab": {
          "base_uri": "https://localhost:8080/",
          "height": 106
        },
        "id": "oMhS--5YkJ6M",
        "outputId": "98098e64-be81-4f17-c75e-f93afa05c69d"
      },
      "outputs": [
        {
          "data": {
            "text/plain": [
              "<matplotlib.axes._subplots.AxesSubplot at 0x7f2004e76f90>"
            ]
          },
          "execution_count": 25,
          "metadata": {},
          "output_type": "execute_result"
        },
        {
          "data": {
            "image/png": "[encoded data removed]",
            "text/plain": [
              "<Figure size 432x288 with 1 Axes>"
            ]
          },
          "metadata": {
            "needs_background": "light"
          },
          "output_type": "display_data"
        }
      ],
      "source": [
        "sns.boxplot(np.log1p(Train['WITHDRAWAL AMT']))"
      ]
    },
    {
      "cell_type": "code",
      "execution_count": 26,
      "metadata": {
        "colab": {
          "base_uri": "https://localhost:8080/",
          "height": 106
        },
        "id": "HL-SbvSGkJ6N",
        "outputId": "b831398f-c9cb-4bcf-fb68-72e7c7acbf6b"
      },
      "outputs": [
        {
          "data": {
            "text/plain": [
              "<matplotlib.axes._subplots.AxesSubplot at 0x7f2004d3e910>"
            ]
          },
          "execution_count": 26,
          "metadata": {},
          "output_type": "execute_result"
        },
        {
          "data": {
            "image/png": "[encoded data removed]",
            "text/plain": [
              "<Figure size 432x288 with 1 Axes>"
            ]
          },
          "metadata": {
            "needs_background": "light"
          },
          "output_type": "display_data"
        }
      ],
      "source": [
        "sns.distplot(Train['DEPOSIT AMT'])"
      ]
    },
    {
      "cell_type": "code",
      "execution_count": 27,
      "metadata": {
        "colab": {
          "base_uri": "https://localhost:8080/",
          "height": 106
        },
        "id": "6ZQnKmQckJ6O",
        "outputId": "8fff3580-9acd-49ef-8cda-73d7e729f5cf"
      },
      "outputs": [
        {
          "data": {
            "text/plain": [
              "<matplotlib.axes._subplots.AxesSubplot at 0x7f2004dc2f50>"
            ]
          },
          "execution_count": 27,
          "metadata": {},
          "output_type": "execute_result"
        },
        {
          "data": {
            "image/png": "[encoded data removed]",
            "text/plain": [
              "<Figure size 432x288 with 1 Axes>"
            ]
          },
          "metadata": {
            "needs_background": "light"
          },
          "output_type": "display_data"
        }
      ],
      "source": [
        "sns.boxplot(Train['DEPOSIT AMT'])"
      ]
    },
    {
      "cell_type": "code",
      "execution_count": 28,
      "metadata": {
        "colab": {
          "base_uri": "https://localhost:8080/",
          "height": 106
        },
        "id": "WnF7wjMOBqZY",
        "outputId": "bb64c630-4e18-4e13-9678-41098a4530b5"
      },
      "outputs": [
        {
          "data": {
            "text/plain": [
              "<matplotlib.axes._subplots.AxesSubplot at 0x7f2004b976d0>"
            ]
          },
          "execution_count": 28,
          "metadata": {},
          "output_type": "execute_result"
        },
        {
          "data": {
            "image/png": "[encoded data removed]",
            "text/plain": [
              "<Figure size 432x288 with 1 Axes>"
            ]
          },
          "metadata": {
            "needs_background": "light"
          },
          "output_type": "display_data"
        }
      ],
      "source": [
        "sns.boxplot(Test['DEPOSIT AMT'])"
      ]
    },
    {
      "cell_type": "code",
      "execution_count": 28,
      "metadata": {
        "id": "b_kIEYhZBqZY"
      },
      "outputs": [],
      "source": []
    },
    {
      "cell_type": "code",
      "execution_count": 29,
      "metadata": {
        "colab": {
          "base_uri": "https://localhost:8080/",
          "height": 106
        },
        "id": "LLTHeZCDkJ6O",
        "outputId": "216981fc-4244-4a44-9510-0ce4be88f8df"
      },
      "outputs": [
        {
          "data": {
            "text/plain": [
              "<matplotlib.axes._subplots.AxesSubplot at 0x7f2004b05890>"
            ]
          },
          "execution_count": 29,
          "metadata": {},
          "output_type": "execute_result"
        },
        {
          "data": {
            "image/png": "[encoded data removed]",
            "text/plain": [
              "<Figure size 432x288 with 1 Axes>"
            ]
          },
          "metadata": {
            "needs_background": "light"
          },
          "output_type": "display_data"
        }
      ],
      "source": [
        "sns.distplot(np.log1p(Train['DEPOSIT AMT']))"
      ]
    },
    {
      "cell_type": "code",
      "execution_count": 30,
      "metadata": {
        "colab": {
          "base_uri": "https://localhost:8080/",
          "height": 106
        },
        "id": "2HlbzLDXkJ6P",
        "outputId": "ff58bd5d-cd25-4dad-a73e-9702b572fd47"
      },
      "outputs": [
        {
          "data": {
            "text/plain": [
              "<matplotlib.axes._subplots.AxesSubplot at 0x7f2004a53990>"
            ]
          },
          "execution_count": 30,
          "metadata": {},
          "output_type": "execute_result"
        },
        {
          "data": {
            "image/png": "[encoded data removed]",
            "text/plain": [
              "<Figure size 432x288 with 1 Axes>"
            ]
          },
          "metadata": {
            "needs_background": "light"
          },
          "output_type": "display_data"
        }
      ],
      "source": [
        "sns.boxplot(np.log1p(Train['DEPOSIT AMT']))"
      ]
    },
    {
      "cell_type": "code",
      "execution_count": 31,
      "metadata": {
        "colab": {
          "base_uri": "https://localhost:8080/",
          "height": 106
        },
        "id": "Men9QznikJ6Q",
        "outputId": "0693af33-a060-44b8-ad69-cc54f265f81c"
      },
      "outputs": [
        {
          "data": {
            "text/plain": [
              "<matplotlib.axes._subplots.AxesSubplot at 0x7f2004b3f990>"
            ]
          },
          "execution_count": 31,
          "metadata": {},
          "output_type": "execute_result"
        },
        {
          "data": {
            "image/png": "[encoded data removed]",
            "text/plain": [
              "<Figure size 432x288 with 1 Axes>"
            ]
          },
          "metadata": {
            "needs_background": "light"
          },
          "output_type": "display_data"
        }
      ],
      "source": [
        "sns.distplot(Train['BALANCE AMT'])"
      ]
    },
    {
      "cell_type": "code",
      "execution_count": 32,
      "metadata": {
        "colab": {
          "base_uri": "https://localhost:8080/",
          "height": 106
        },
        "id": "Lc6UYY2nkJ6Q",
        "outputId": "d8a29b85-11d2-4219-91f8-44fbe8f97163"
      },
      "outputs": [
        {
          "data": {
            "text/plain": [
              "<matplotlib.axes._subplots.AxesSubplot at 0x7f2004a59c90>"
            ]
          },
          "execution_count": 32,
          "metadata": {},
          "output_type": "execute_result"
        },
        {
          "data": {
            "image/png": "[encoded data removed]",
            "text/plain": [
              "<Figure size 432x288 with 1 Axes>"
            ]
          },
          "metadata": {
            "needs_background": "light"
          },
          "output_type": "display_data"
        }
      ],
      "source": [
        "sns.boxplot(Train['BALANCE AMT'])"
      ]
    },
    {
      "cell_type": "code",
      "execution_count": 33,
      "metadata": {
        "colab": {
          "base_uri": "https://localhost:8080/",
          "height": 106
        },
        "id": "mhnzB6FSkJ6V",
        "outputId": "d149f233-8e82-4f2e-f60f-dbfe01ed2412"
      },
      "outputs": [
        {
          "data": {
            "text/plain": [
              "<matplotlib.axes._subplots.AxesSubplot at 0x7f20048b33d0>"
            ]
          },
          "execution_count": 33,
          "metadata": {},
          "output_type": "execute_result"
        },
        {
          "data": {
            "image/png": "[encoded data removed]",
            "text/plain": [
              "<Figure size 432x288 with 1 Axes>"
            ]
          },
          "metadata": {
            "needs_background": "light"
          },
          "output_type": "display_data"
        }
      ],
      "source": [
        "sns.distplot(np.log1p(Train['BALANCE AMT']))"
      ]
    },
    {
      "cell_type": "code",
      "execution_count": 34,
      "metadata": {
        "colab": {
          "base_uri": "https://localhost:8080/",
          "height": 106
        },
        "id": "E1zRD89tkJ6V",
        "outputId": "846c6ac6-2b0a-42ab-ac33-6bb7c709cba9"
      },
      "outputs": [
        {
          "data": {
            "text/plain": [
              "<matplotlib.axes._subplots.AxesSubplot at 0x7f2004874fd0>"
            ]
          },
          "execution_count": 34,
          "metadata": {},
          "output_type": "execute_result"
        },
        {
          "data": {
            "image/png": "[encoded data removed]",
            "text/plain": [
              "<Figure size 432x288 with 1 Axes>"
            ]
          },
          "metadata": {
            "needs_background": "light"
          },
          "output_type": "display_data"
        }
      ],
      "source": [
        "sns.boxplot(np.log1p(Train['BALANCE AMT']))"
      ]
    },
    {
      "cell_type": "markdown",
      "metadata": {
        "id": "5PpQaWBdiI06"
      },
      "source": [
        "#### Lets combine all the Train and Test"
      ]
    },
    {
      "cell_type": "code",
      "execution_count": 35,
      "metadata": {
        "id": "UXWWI15thShU"
      },
      "outputs": [],
      "source": [
        "ID = Test['ID']\n",
        "Train[\"train\"] = 1\n",
        "Test[\"train\"] = 0\n",
        "all_data = pd.concat([Train, Test])\n",
        "all_data.drop(['ID'], axis=1, inplace=True)"
      ]
    },
    {
      "cell_type": "code",
      "execution_count": 36,
      "metadata": {
        "id": "e7RlGZDRMm51"
      },
      "outputs": [],
      "source": [
        "all_data['WITHDRAWAL AMT'] = np.log1p(all_data['WITHDRAWAL AMT'])\n",
        "all_data['DEPOSIT AMT'] = np.log1p(all_data['DEPOSIT AMT'])"
      ]
    },
    {
      "cell_type": "code",
      "execution_count": 37,
      "metadata": {
        "id": "lxO0WdPijn4r"
      },
      "outputs": [],
      "source": [
        "# all_data['WITHDRAWAL AMT'].loc[all_data['WITHDRAWAL AMT'] > 150000000]  = 150000000\n",
        "# all_data['DEPOSIT AMT'].loc[all_data['DEPOSIT AMT'] > 120000000]  = 120000000"
      ]
    },
    {
      "cell_type": "code",
      "execution_count": 38,
      "metadata": {
        "colab": {
          "base_uri": "https://localhost:8080/",
          "height": 228
        },
        "id": "ruhcRZAAPscd",
        "outputId": "279ce360-d0d1-4944-9a40-c4e0498d52b9"
      },
      "outputs": [
        {
          "data": {
            "text/html": [
              "\n",
              "  <div id=\"df-ad304efb-c867-487f-a2cf-d7badf4ec01b\">\n",
              "    <div class=\"colab-df-container\">\n",
              "      <div>\n",
              "<style scoped>\n",
              "    .dataframe tbody tr th:only-of-type {\n",
              "        vertical-align: middle;\n",
              "    }\n",
              "\n",
              "    .dataframe tbody tr th {\n",
              "        vertical-align: top;\n",
              "    }\n",
              "\n",
              "    .dataframe thead th {\n",
              "        text-align: right;\n",
              "    }\n",
              "</style>\n",
              "<table border=\"1\" class=\"dataframe\">\n",
              "  <thead>\n",
              "    <tr style=\"text-align: right;\">\n",
              "      <th></th>\n",
              "      <th>DATE</th>\n",
              "      <th>TRANSACTION DETAILS</th>\n",
              "      <th>Account_NO</th>\n",
              "      <th>WITHDRAWAL AMT</th>\n",
              "      <th>DEPOSIT AMT</th>\n",
              "      <th>BALANCE AMT</th>\n",
              "      <th>Category</th>\n",
              "      <th>train</th>\n",
              "      <th>count_Account_NO</th>\n",
              "    </tr>\n",
              "  </thead>\n",
              "  <tbody>\n",
              "    <tr>\n",
              "      <th>0</th>\n",
              "      <td>2014-02-28</td>\n",
              "      <td>NEFT/FDRL401249529/INDIAFORENSIC</td>\n",
              "      <td>84903292</td>\n",
              "      <td>0.0</td>\n",
              "      <td>16.523561</td>\n",
              "      <td>15000000.0</td>\n",
              "      <td>Money-Transfer</td>\n",
              "      <td>1</td>\n",
              "      <td>12196</td>\n",
              "    </tr>\n",
              "    <tr>\n",
              "      <th>1</th>\n",
              "      <td>2014-02-28</td>\n",
              "      <td>NEFT/FDRL401249532/INDIAFORENSIC</td>\n",
              "      <td>84903292</td>\n",
              "      <td>0.0</td>\n",
              "      <td>16.523561</td>\n",
              "      <td>60000000.0</td>\n",
              "      <td>Money-Transfer</td>\n",
              "      <td>1</td>\n",
              "      <td>12196</td>\n",
              "    </tr>\n",
              "  </tbody>\n",
              "</table>\n",
              "</div>\n",
              "      <button class=\"colab-df-convert\" onclick=\"convertToInteractive('df-ad304efb-c867-487f-a2cf-d7badf4ec01b')\"\n",
              "              title=\"Convert this dataframe to an interactive table.\"\n",
              "              style=\"display:none;\">\n",
              "        \n",
              "  <svg xmlns=\"http://www.w3.org/2000/svg\" height=\"24px\"viewBox=\"0 0 24 24\"\n",
              "       width=\"24px\">\n",
              "    <path d=\"M0 0h24v24H0V0z\" fill=\"none\"/>\n",
              "    <path d=\"M18.56 5.44l.94 2.06.94-2.06 2.06-.94-2.06-.94-.94-2.06-.94 2.06-2.06.94zm-11 1L8.5 8.5l.94-2.06 2.06-.94-2.06-.94L8.5 2.5l-.94 2.06-2.06.94zm10 10l.94 2.06.94-2.06 2.06-.94-2.06-.94-.94-2.06-.94 2.06-2.06.94z\"/><path d=\"M17.41 7.96l-1.37-1.37c-.4-.4-.92-.59-1.43-.59-.52 0-1.04.2-1.43.59L10.3 9.45l-7.72 7.72c-.78.78-.78 2.05 0 2.83L4 21.41c.39.39.9.59 1.41.59.51 0 1.02-.2 1.41-.59l7.78-7.78 2.81-2.81c.8-.78.8-2.07 0-2.86zM5.41 20L4 18.59l7.72-7.72 1.47 1.35L5.41 20z\"/>\n",
              "  </svg>\n",
              "      </button>\n",
              "      \n",
              "  <style>\n",
              "    .colab-df-container {\n",
              "      display:flex;\n",
              "      flex-wrap:wrap;\n",
              "      gap: 12px;\n",
              "    }\n",
              "\n",
              "    .colab-df-convert {\n",
              "      background-color: #E8F0FE;\n",
              "      border: none;\n",
              "      border-radius: 50%;\n",
              "      cursor: pointer;\n",
              "      display: none;\n",
              "      fill: #1967D2;\n",
              "      height: 32px;\n",
              "      padding: 0 0 0 0;\n",
              "      width: 32px;\n",
              "    }\n",
              "\n",
              "    .colab-df-convert:hover {\n",
              "      background-color: #E2EBFA;\n",
              "      box-shadow: 0px 1px 2px rgba(60, 64, 67, 0.3), 0px 1px 3px 1px rgba(60, 64, 67, 0.15);\n",
              "      fill: #174EA6;\n",
              "    }\n",
              "\n",
              "    [theme=dark] .colab-df-convert {\n",
              "      background-color: #3B4455;\n",
              "      fill: #D2E3FC;\n",
              "    }\n",
              "\n",
              "    [theme=dark] .colab-df-convert:hover {\n",
              "      background-color: #434B5C;\n",
              "      box-shadow: 0px 1px 3px 1px rgba(0, 0, 0, 0.15);\n",
              "      filter: drop-shadow(0px 1px 2px rgba(0, 0, 0, 0.3));\n",
              "      fill: #FFFFFF;\n",
              "    }\n",
              "  </style>\n",
              "\n",
              "      <script>\n",
              "        const buttonEl =\n",
              "          document.querySelector('#df-ad304efb-c867-487f-a2cf-d7badf4ec01b button.colab-df-convert');\n",
              "        buttonEl.style.display =\n",
              "          google.colab.kernel.accessAllowed ? 'block' : 'none';\n",
              "\n",
              "        async function convertToInteractive(key) {\n",
              "          const element = document.querySelector('#df-ad304efb-c867-487f-a2cf-d7badf4ec01b');\n",
              "          const dataTable =\n",
              "            await google.colab.kernel.invokeFunction('convertToInteractive',\n",
              "                                                     [key], {});\n",
              "          if (!dataTable) return;\n",
              "\n",
              "          const docLinkHtml = 'Like what you see? Visit the ' +\n",
              "            '<a target=\"_blank\" href=https://colab.research.google.com/notebooks/data_table.ipynb>data table notebook</a>'\n",
              "            + ' to learn more about interactive tables.';\n",
              "          element.innerHTML = '';\n",
              "          dataTable['output_type'] = 'display_data';\n",
              "          await google.colab.output.renderOutput(dataTable, element);\n",
              "          const docLink = document.createElement('div');\n",
              "          docLink.innerHTML = docLinkHtml;\n",
              "          element.appendChild(docLink);\n",
              "        }\n",
              "      </script>\n",
              "    </div>\n",
              "  </div>\n",
              "  "
            ],
            "text/plain": [
              "        DATE               TRANSACTION DETAILS  Account_NO  WITHDRAWAL AMT  \\\n",
              "0 2014-02-28  NEFT/FDRL401249529/INDIAFORENSIC    84903292             0.0   \n",
              "1 2014-02-28  NEFT/FDRL401249532/INDIAFORENSIC    84903292             0.0   \n",
              "\n",
              "   DEPOSIT AMT  BALANCE AMT        Category  train  count_Account_NO  \n",
              "0    16.523561   15000000.0  Money-Transfer      1             12196  \n",
              "1    16.523561   60000000.0  Money-Transfer      1             12196  "
            ]
          },
          "execution_count": 38,
          "metadata": {},
          "output_type": "execute_result"
        }
      ],
      "source": [
        "col = ['Account_NO']\n",
        "\n",
        "\n",
        "\n",
        "\n",
        "for i in col:\n",
        "    all_data['count_'+i] = all_data[i].map(all_data[i].value_counts())\n",
        "\n",
        "all_data.head(2)"
      ]
    },
    {
      "cell_type": "code",
      "execution_count": 39,
      "metadata": {
        "id": "Xx4zlFWLPW3m"
      },
      "outputs": [],
      "source": [
        "def account_bins(x):\n",
        "\n",
        "    \n",
        "  one = [20179201]\n",
        "  two = [56986993]\n",
        "  three = [84903292]\n",
        "  four = [80157410]\n",
        "  five = [4969373]\n",
        "  six = [28039243]\n",
        "\n",
        "  seven = [22937010,68304903,83234289,10908140]\n",
        "\n",
        "  if x in one:\n",
        "      return 1\n",
        "  elif x in two:\n",
        "      return 2\n",
        "  elif x in three:\n",
        "      return 3\n",
        "  elif x in four:\n",
        "      return 4\n",
        "  elif x in five:\n",
        "      return 5\n",
        "  elif x in six:\n",
        "      return 6\n",
        "  elif x in seven:\n",
        "      return 7\n",
        "\n",
        "all_data['Account_NO'] = all_data['Account_NO'].apply(account_bins)        \n",
        "                                       \n",
        "  "
      ]
    },
    {
      "cell_type": "markdown",
      "metadata": {
        "id": "uSR21HEdkck6"
      },
      "source": [
        "### Feature Engineering"
      ]
    },
    {
      "cell_type": "code",
      "execution_count": 40,
      "metadata": {
        "id": "FEHn0VoeH3gT"
      },
      "outputs": [],
      "source": [
        "all_data['bef_deposit'] = all_data['BALANCE AMT'] - all_data['DEPOSIT AMT']\n",
        "all_data['bef_withdrawal'] = all_data['BALANCE AMT'] + all_data['WITHDRAWAL AMT']"
      ]
    },
    {
      "cell_type": "code",
      "execution_count": 41,
      "metadata": {
        "id": "RnXwJcEnBqZe"
      },
      "outputs": [],
      "source": [
        "all_data['gb_feature_account_blance'] = all_data.groupby(['Account_NO'])['BALANCE AMT'].transform('mean')\n",
        "all_data['gb_feature_account_balnce_diff'] = all_data['BALANCE AMT'] - all_data['gb_feature_account_blance']\n",
        "\n",
        "all_data['gb_feature_account_WITHDRAWAL'] = all_data.groupby(['Account_NO'])['WITHDRAWAL AMT'].transform('mean')\n",
        "all_data['gb_feature_account_WITHDRAWAL_diff'] = all_data['WITHDRAWAL AMT'] - all_data['gb_feature_account_WITHDRAWAL']\n",
        "\n",
        "all_data['gb_feature_account_DEPOSIT'] = all_data.groupby(['Account_NO'])['DEPOSIT AMT'].transform('mean')\n",
        "all_data['gb_feature_account_DEPOSI_diff'] = all_data['DEPOSIT AMT'] - all_data['gb_feature_account_DEPOSIT']\n",
        "\n",
        "\n"
      ]
    },
    {
      "cell_type": "code",
      "execution_count": 42,
      "metadata": {
        "colab": {
          "base_uri": "https://localhost:8080/"
        },
        "id": "CXFtwn-lBqZe",
        "outputId": "053e204d-d445-4f23-8060-db1dda945113"
      },
      "outputs": [
        {
          "data": {
            "text/plain": [
              "array(['Money-Transfer', 'Salary and wages', 'Bank Charges',\n",
              "       'Cash-Pickup', 'Cheque-Payment', 'Deposit', 'Merchant-Payment',\n",
              "       'Reversal', 'Savings and Investments', 'Internet and IT Services',\n",
              "       'Bill-Payments', 'Shopping', 'Interest',\n",
              "       'Transport, Travel, and Logistics', 'Insurance',\n",
              "       'Cell Phone and Airtime', 'Entertainment', 'Professional services',\n",
              "       'General Purchases', 'Donations', 'Loan Repayment', nan],\n",
              "      dtype=object)"
            ]
          },
          "execution_count": 42,
          "metadata": {},
          "output_type": "execute_result"
        }
      ],
      "source": [
        "domain_categories = {}\n",
        "all_data[\"Category\"].unique()"
      ]
    },
    {
      "cell_type": "code",
      "execution_count": 43,
      "metadata": {
        "colab": {
          "base_uri": "https://localhost:8080/"
        },
        "id": "IasDAQA_OgUL",
        "outputId": "9fe1c898-2010-451a-c81b-f40a0942624a"
      },
      "outputs": [
        {
          "name": "stdout",
          "output_type": "stream",
          "text": [
            "(1668, 17)\n"
          ]
        },
        {
          "data": {
            "text/plain": [
              "Bank Charges     1122\n",
              "Reversal            3\n",
              "Bill-Payments       1\n",
              "Name: Category, dtype: int64"
            ]
          },
          "execution_count": 43,
          "metadata": {},
          "output_type": "execute_result"
        }
      ],
      "source": [
        "Bank_Charges = all_data[all_data[\"TRANSACTION DETAILS\"].str.contains(\"fee|tax|charg\", case=False)]\n",
        "domain_categories[\"Bank_Charges\"] = Bank_Charges\n",
        "print(Bank_Charges.shape)\n",
        "Bank_Charges.Category.value_counts()\n"
      ]
    },
    {
      "cell_type": "code",
      "execution_count": 44,
      "metadata": {
        "colab": {
          "base_uri": "https://localhost:8080/"
        },
        "id": "DXo7znnkBqZf",
        "outputId": "4a0147df-e259-4d0a-e86a-69a9be888123"
      },
      "outputs": [
        {
          "name": "stdout",
          "output_type": "stream",
          "text": [
            "(1155, 17)\n"
          ]
        },
        {
          "data": {
            "text/plain": [
              "Salary and wages    808\n",
              "Name: Category, dtype: int64"
            ]
          },
          "execution_count": 44,
          "metadata": {},
          "output_type": "execute_result"
        }
      ],
      "source": [
        "Salary_and_wages = all_data[all_data[\"TRANSACTION DETAILS\"].str.contains(\"income\", case=False)]\n",
        "domain_categories[\"Salary_and_wages\"] = Salary_and_wages\n",
        "print(Salary_and_wages.shape)\n",
        "Salary_and_wages.Category.value_counts()\n"
      ]
    },
    {
      "cell_type": "code",
      "execution_count": 45,
      "metadata": {
        "colab": {
          "base_uri": "https://localhost:8080/"
        },
        "id": "UCN_zSWplHmM",
        "outputId": "e6ebe57e-1695-4e43-ebf4-758991112f2e"
      },
      "outputs": [
        {
          "name": "stdout",
          "output_type": "stream",
          "text": [
            "(1754, 17)\n"
          ]
        },
        {
          "data": {
            "text/plain": [
              "<bound method IndexOpsMixin.value_counts of 190      Cash-Pickup\n",
              "192      Cash-Pickup\n",
              "195      Cash-Pickup\n",
              "199      Cash-Pickup\n",
              "201      Cash-Pickup\n",
              "            ...     \n",
              "20299            NaN\n",
              "20308            NaN\n",
              "20311            NaN\n",
              "20321            NaN\n",
              "20324            NaN\n",
              "Name: Category, Length: 1754, dtype: object>"
            ]
          },
          "execution_count": 45,
          "metadata": {},
          "output_type": "execute_result"
        }
      ],
      "source": [
        "Cash_Pickup = all_data[all_data[\"TRANSACTION DETAILS\"].str.contains(\"cashpic|dsb|beat\", case=False)]\n",
        "domain_categories[\"Cash_Pickup\"] = Cash_Pickup\n",
        "print(Cash_Pickup.shape)\n",
        "Cash_Pickup.Category.value_counts\n"
      ]
    },
    {
      "cell_type": "code",
      "execution_count": 46,
      "metadata": {
        "colab": {
          "base_uri": "https://localhost:8080/"
        },
        "id": "AY6gic9qBqZg",
        "outputId": "61f8e905-bd80-4852-fef5-d958dd6ce3d2"
      },
      "outputs": [
        {
          "name": "stdout",
          "output_type": "stream",
          "text": [
            "(2565, 17)\n"
          ]
        },
        {
          "data": {
            "text/plain": [
              "Cheque-Payment      1427\n",
              "Merchant-Payment     335\n",
              "Money-Transfer        36\n",
              "Name: Category, dtype: int64"
            ]
          },
          "execution_count": 46,
          "metadata": {},
          "output_type": "execute_result"
        }
      ],
      "source": [
        "Cheque_Payment = all_data[all_data[\"TRANSACTION DETAILS\"].str.contains(\"chqdep\", case=False)]\n",
        "domain_categories[\"Cheque_Payment\"] = Cheque_Payment\n",
        "print(Cheque_Payment.shape)\n",
        "Cheque_Payment.Category.value_counts()\n"
      ]
    },
    {
      "cell_type": "code",
      "execution_count": 47,
      "metadata": {
        "colab": {
          "base_uri": "https://localhost:8080/"
        },
        "id": "X2dGBacLBqZg",
        "outputId": "d4a008de-c3dd-4ced-c1e9-35a802f010e8"
      },
      "outputs": [
        {
          "name": "stdout",
          "output_type": "stream",
          "text": [
            "(783, 17)\n",
            "['BBPSSETTLEMENTDT30/08/' 'BBPSSETTLEMENTDT31/08/'\n",
            " 'BBPSSETTLEMENTDT01/09/' 'BBPSSETTLEMENTDTD17.10'\n",
            " 'BBPSSETTLEMENTDTD18.10' 'BBPSSETTLEMENTDTD20.10'\n",
            " 'BBPSSETTLEMENTDTD21.10' 'BBPSSETTLEMENTFORDT03' 'BBPSSETTLEMENTFORDT04'\n",
            " 'BBPSSETTLEMENTFORDT05' 'BBPSSETTLEMENTFORDTD0' 'BBPSSETTLEMENTFORDT17'\n",
            " 'BBPSSETTLEMENTFORDTD1' 'BBPSSETTLEMENTFORDT24' 'BBPSSETTLEMENTFORDT21'\n",
            " 'BBPSSETTLEMENTFORDT22' 'BBPSSETTLEMENTDTD30DEC' 'BBPSSETTLEMENTDTD17JAN'\n",
            " 'BBPSSETTLEMENTDTD20JAN' 'BBPSSETTLEMENTDTD21JAN']\n"
          ]
        },
        {
          "data": {
            "text/plain": [
              "Bill-Payments     482\n",
              "Money-Transfer     96\n",
              "Name: Category, dtype: int64"
            ]
          },
          "execution_count": 47,
          "metadata": {},
          "output_type": "execute_result"
        }
      ],
      "source": [
        "Bill_Payments = all_data[all_data[\"TRANSACTION DETAILS\"].str.contains(\"bbps|billpay\", case=False)]\n",
        "domain_categories[\"Bill_Payments\"] = Bill_Payments\n",
        "print(Bill_Payments.shape)\n",
        "print(Bill_Payments[\"TRANSACTION DETAILS\"].unique()[:20])\n",
        "Bill_Payments.Category.value_counts()\n"
      ]
    },
    {
      "cell_type": "code",
      "execution_count": 48,
      "metadata": {
        "colab": {
          "base_uri": "https://localhost:8080/"
        },
        "id": "9Lp35FpMBqZh",
        "outputId": "c62f5776-dae3-434e-9b8b-c22611446152"
      },
      "outputs": [
        {
          "name": "stdout",
          "output_type": "stream",
          "text": [
            "17157\n",
            "['CASHDEP/NOIDA/TP' 'CASHDEP/NALASOPARA/900200' 'CASHDEP/RAJOURI/'\n",
            " 'CASHDEP/BHI-RIICO/' 'CASHDEP/VAPI/' 'CASHDEP/NEW-DELHI/'\n",
            " 'CASHDEP/KOVVADA/ROCODE-9' 'CASHDEP/DHARWAD/' 'CASHDEP/HAUSKHAS/CASHDE'\n",
            " 'CASHDEP/BORIVALI/CASHREC' 'CASHDEP/HAUSKHAS/ALOK' 'CASHDEP/THANE-W/'\n",
            " 'CASHDEP/BOISAR/' 'CASHDEP/NOIDA/TP/ONETIME' 'CASHDEP/VILE-PARLE/'\n",
            " 'CASHDEP/HAUSKHAS/TP' 'CASHDEP/CAPITOLPT/@CP' 'CASHDEP/THANEWEST/'\n",
            " 'CASHDEP/NOIDA/TP/RECHARGE' 'CASHDEP/DAMAN/']\n"
          ]
        },
        {
          "data": {
            "text/plain": [
              "Deposit             12431\n",
              "Bank Charges            3\n",
              "Merchant-Payment        1\n",
              "Name: Category, dtype: int64"
            ]
          },
          "execution_count": 48,
          "metadata": {},
          "output_type": "execute_result"
        }
      ],
      "source": [
        "Deposit = all_data[(all_data[\"TRANSACTION DETAILS\"].str.contains(\"cashdep|ica17\", case=False))]\n",
        "print(Deposit.shape[0])\n",
        "print(Deposit[\"TRANSACTION DETAILS\"].unique()[:20])\n",
        "Deposit.Category.value_counts()\n"
      ]
    },
    {
      "cell_type": "code",
      "execution_count": 49,
      "metadata": {
        "colab": {
          "base_uri": "https://localhost:8080/"
        },
        "id": "Kc7vfG5HBqZh",
        "outputId": "9b637cd4-5b07-4040-e899-61281150873c"
      },
      "outputs": [
        {
          "name": "stdout",
          "output_type": "stream",
          "text": [
            "23\n",
            "['TIMESINTERNETLIMITED' 'DEOBAZAARINTERNETCOMMER']\n"
          ]
        },
        {
          "data": {
            "text/plain": [
              "Internet and IT Services    22\n",
              "Name: Category, dtype: int64"
            ]
          },
          "execution_count": 49,
          "metadata": {},
          "output_type": "execute_result"
        }
      ],
      "source": [
        "Internet_and_IT_Services = all_data[all_data[\"TRANSACTION DETAILS\"].str.contains(\"internet\", case=False)]\n",
        "domain_categories[\"Internet_and_IT_Services\"] = Internet_and_IT_Services\n",
        "print(Internet_and_IT_Services.shape[0])\n",
        "print(Internet_and_IT_Services[\"TRANSACTION DETAILS\"].unique())\n",
        "Internet_and_IT_Services.Category.value_counts()\n"
      ]
    },
    {
      "cell_type": "code",
      "execution_count": 50,
      "metadata": {
        "colab": {
          "base_uri": "https://localhost:8080/"
        },
        "id": "L8u2h8mwBqZi",
        "outputId": "16efef0c-3474-4b8c-89fd-871cac03fab9"
      },
      "outputs": [
        {
          "name": "stdout",
          "output_type": "stream",
          "text": [
            "131\n",
            "['NAAPTOLONLINESHOPPINGP' 'INFINYPOOLONLINEPAYMENT'\n",
            " 'JEWELCLICKONLINEPAYMENT' 'STAMPPAPERPURCHASING' 'PAYMENTSFOR:9090000405'\n",
            " 'PAYMENTSFOR:9090000452' 'PAYMENTSFOR:9090000464'\n",
            " 'PAYMENTSFOR:9090000480' 'PAYMENTSFOR:9090000395'\n",
            " 'PAYMENTSFOR:9090000421' 'PAYMENTSFOR:9090000433'\n",
            " 'PAYMENTSFOR:9090000437' 'PAYMENTSFOR:9090000461'\n",
            " 'PAYMENTSFOR:9090000495' 'PAYMENTSFOR:9090000492'\n",
            " 'PAYMENTSFOR:9090000506' 'PAYMENTSFOR:9090000577'\n",
            " 'PAYMENTSFOR:9090000415' 'PAYMENTSFOR:9090000425'\n",
            " 'PAYMENTSFOR:9090000427' 'PAYMENTSFOR:9090000438'\n",
            " 'PAYMENTSFOR:9090000542' 'STAMPPAPERPURCHASINGCH'\n",
            " 'PAYMENTSFOR:9090000505']\n"
          ]
        },
        {
          "data": {
            "text/plain": [
              "Shopping    119\n",
              "Name: Category, dtype: int64"
            ]
          },
          "execution_count": 50,
          "metadata": {},
          "output_type": "execute_result"
        }
      ],
      "source": [
        "Shopping = all_data[all_data[\"TRANSACTION DETAILS\"].str.contains(\"shopping|onlinepay|purchasing|paymentsfor\", case=False)]\n",
        "domain_categories[\"Shopping\"] = Shopping\n",
        "print(Shopping.shape[0])\n",
        "print(Shopping[\"TRANSACTION DETAILS\"].unique())\n",
        "Shopping.Category.value_counts()\n"
      ]
    },
    {
      "cell_type": "code",
      "execution_count": 51,
      "metadata": {
        "colab": {
          "base_uri": "https://localhost:8080/"
        },
        "id": "MazA5HMmBqZi",
        "outputId": "d99d8e2f-87f4-42bf-e1dd-f14e275bcf5d"
      },
      "outputs": [
        {
          "name": "stdout",
          "output_type": "stream",
          "text": [
            "108\n",
            "['1196428:INT.COLL:01-11-20' '1196428:INT.COLL:01-01-20'\n",
            " '1196428:INT.COLL:01-03-20' '1196428:INT.COLL:01-04-20'\n",
            " '1196428:INT.COLL:01-05-20' '1196428:INT.COLL:01-07-20'\n",
            " '1196428:INT.COLL:01-08-20' '1196428:INT.COLL:01-09-20'\n",
            " '409000362497:INT.COLL:01-' '1196711:INT.COLL:01-06-20'\n",
            " '1196711:INT.COLL:01-07-20' '1196711:INT.COLL:01-08-20'\n",
            " '1196711:INT.COLL:01-09-20' '1196711:INT.COLL:01-11-20'\n",
            " '1196711:INT.COLL:01-01-20' '1196711:INT.COLL:01-02-20'\n",
            " '1196711:INT.COLL:01-03-20' '1196711:INT.COLL:01-05-20'\n",
            " '1196428:INT.COLL:01-10-20' '1196428:INT.COLL:01-12-20'\n",
            " '1196428:INT.COLL:01-02-20' '1196428:INT.COLL:01-06-20'\n",
            " '1196711:INT.COLL:01-10-20' '1196711:INT.COLL:01-12-20'\n",
            " '1196711:INT.COLL:01-04-20' '409000405747:INT.COLL:01-']\n"
          ]
        },
        {
          "data": {
            "text/plain": [
              "Interest    70\n",
              "Name: Category, dtype: int64"
            ]
          },
          "execution_count": 51,
          "metadata": {},
          "output_type": "execute_result"
        }
      ],
      "source": [
        "Interest = all_data[all_data[\"TRANSACTION DETAILS\"].str.contains(\"int.coll\", case=False)]\n",
        "\n",
        "domain_categories[\"Interest\"] = Interest\n",
        "print(Interest.shape[0])\n",
        "print(Interest[\"TRANSACTION DETAILS\"].unique())\n",
        "Interest.Category.value_counts()\n"
      ]
    },
    {
      "cell_type": "code",
      "execution_count": 52,
      "metadata": {
        "colab": {
          "base_uri": "https://localhost:8080/"
        },
        "id": "QlpWP4QMBqZi",
        "outputId": "76a62a4a-9fb3-45b7-c78f-22710ecce81d"
      },
      "outputs": [
        {
          "name": "stdout",
          "output_type": "stream",
          "text": [
            "21\n",
            "['NATIONALINSURANCECOLTD' 'BIRLASUNLIFEINSURANCE' 'NATIONALINSURANCECO'\n",
            " 'TATAAIGGENERALINSURANC' 'MAXBUPAHEALTHINSURANCE' 'MAXBUPAHELATHINSURACE'\n",
            " 'NATIONALINSURANCECOMPAN']\n"
          ]
        },
        {
          "data": {
            "text/plain": [
              "Insurance    20\n",
              "Name: Category, dtype: int64"
            ]
          },
          "execution_count": 52,
          "metadata": {},
          "output_type": "execute_result"
        }
      ],
      "source": [
        "Insurance = all_data[all_data[\"TRANSACTION DETAILS\"].str.contains(\"insura\", case=False)]\n",
        "\n",
        "domain_categories[\"Insurance\"] = Insurance\n",
        "print(Insurance.shape[0])\n",
        "print(Insurance[\"TRANSACTION DETAILS\"].unique())\n",
        "Insurance.Category.value_counts()\n"
      ]
    },
    {
      "cell_type": "code",
      "execution_count": 53,
      "metadata": {
        "colab": {
          "base_uri": "https://localhost:8080/"
        },
        "id": "9rN-9Bm2BqZj",
        "outputId": "3d4d14e9-6e74-4a8a-8833-a4966f6b765b"
      },
      "outputs": [
        {
          "name": "stdout",
          "output_type": "stream",
          "text": [
            "135\n",
            "['AIRTELRELATIONSHIP11614' 'AIRTELRELATIONSHIP10951'\n",
            " 'VODAFONEMOBILESERVICES' 'AIRTELRELATIONSHIP12539'\n",
            " 'AIRTELRELATIONSHIPNO12' 'AIRTELRELATIONSHIONO12'\n",
            " 'AIRTELRELATIONSHIONO11' 'VODAFONENO1247161300' 'AIRTELRELATIONSHIONO10'\n",
            " 'BHARTIAIRTELLLOCALBNKG' '.BHARTIAIRTELLLOCALBNK' 'VODAFONENO.1247161500'\n",
            " 'VODAFONENO1247161100' 'VODAFONENO1207151000' 'BHARTIAIRTELLTD1095173'\n",
            " 'BHARTIAIRTELLTD1161438' 'BHARTIAIRTELLTD1152033'\n",
            " 'BHARTIAIRTELLTD1155147' 'BHARTIAIRTELLTD1155141'\n",
            " 'BHARTIAIRTELLTD7006279' 'BHARTIAIRTELLTD' 'BHARTIAIRTEL'\n",
            " 'BHARTIAIRTEL12539330' 'VODAFONE1207191000' 'VODAFONE1247161500'\n",
            " 'AIRTELRELATIONSHIPNO11' 'AIRTEL' 'AIRTELRELATIONSHIP11520'\n",
            " 'AIRTELRELATIONSHIP11551' 'BHARTIAIRTELLLDLNCOLL' 'VODAFONE'\n",
            " 'VODAFONE9899294256' 'VODAFONE9873002188' 'NEFT/000022288318/AIRTEL'\n",
            " 'AIRTELRELATIONSHIP' 'AIRTELRELANO7025359034' 'VODAFONE1247'\n",
            " 'VODAFONE1247161300' 'BHARTIAIRTELLLOCBNKBILC']\n"
          ]
        },
        {
          "data": {
            "text/plain": [
              "Cell Phone and Airtime    103\n",
              "Name: Category, dtype: int64"
            ]
          },
          "execution_count": 53,
          "metadata": {},
          "output_type": "execute_result"
        }
      ],
      "source": [
        "Cell_Phone_and_Airtime = all_data[all_data[\"TRANSACTION DETAILS\"].str.contains(\"airtel|vodafone\", case=False)]\n",
        "\n",
        "domain_categories[\"Cell_Phone_and_Airtime\"] = Cell_Phone_and_Airtime\n",
        "print(Cell_Phone_and_Airtime.shape[0])\n",
        "print(Cell_Phone_and_Airtime[\"TRANSACTION DETAILS\"].unique())\n",
        "Cell_Phone_and_Airtime.Category.value_counts()\n"
      ]
    },
    {
      "cell_type": "code",
      "execution_count": 54,
      "metadata": {
        "colab": {
          "base_uri": "https://localhost:8080/"
        },
        "id": "3wwzBm7OBqZj",
        "outputId": "26d0cefd-aad8-4657-f6a2-00282aa09cb8"
      },
      "outputs": [
        {
          "name": "stdout",
          "output_type": "stream",
          "text": [
            "112\n",
            "['LOANRECOVERYFOR90900003' 'LOANRECOVERYFOR90900004'\n",
            " 'LOANRECOVERYFOR90900005']\n"
          ]
        },
        {
          "data": {
            "text/plain": [
              "Loan Repayment    69\n",
              "Name: Category, dtype: int64"
            ]
          },
          "execution_count": 54,
          "metadata": {},
          "output_type": "execute_result"
        }
      ],
      "source": [
        "Loan_Repayment = all_data[all_data[\"TRANSACTION DETAILS\"].str.contains(\"loan\", case=False)]\n",
        "\n",
        "domain_categories[\"Loan_Repayment\"] = Loan_Repayment\n",
        "print(Loan_Repayment.shape[0])\n",
        "print(Loan_Repayment[\"TRANSACTION DETAILS\"].unique())\n",
        "Loan_Repayment.Category.value_counts()\n"
      ]
    },
    {
      "cell_type": "code",
      "execution_count": 55,
      "metadata": {
        "colab": {
          "base_uri": "https://localhost:8080/",
          "height": 375
        },
        "id": "KEUkOHjLBqZj",
        "outputId": "21bcc577-b835-491b-e8e1-4120ec949247"
      },
      "outputs": [
        {
          "data": {
            "text/html": [
              "\n",
              "  <div id=\"df-8c748532-ab2e-461c-95e1-2d259883e49f\">\n",
              "    <div class=\"colab-df-container\">\n",
              "      <div>\n",
              "<style scoped>\n",
              "    .dataframe tbody tr th:only-of-type {\n",
              "        vertical-align: middle;\n",
              "    }\n",
              "\n",
              "    .dataframe tbody tr th {\n",
              "        vertical-align: top;\n",
              "    }\n",
              "\n",
              "    .dataframe thead th {\n",
              "        text-align: right;\n",
              "    }\n",
              "</style>\n",
              "<table border=\"1\" class=\"dataframe\">\n",
              "  <thead>\n",
              "    <tr style=\"text-align: right;\">\n",
              "      <th></th>\n",
              "      <th>DATE</th>\n",
              "      <th>TRANSACTION DETAILS</th>\n",
              "      <th>Account_NO</th>\n",
              "      <th>WITHDRAWAL AMT</th>\n",
              "      <th>DEPOSIT AMT</th>\n",
              "      <th>BALANCE AMT</th>\n",
              "      <th>Category</th>\n",
              "      <th>train</th>\n",
              "      <th>count_Account_NO</th>\n",
              "      <th>bef_deposit</th>\n",
              "      <th>bef_withdrawal</th>\n",
              "      <th>gb_feature_account_blance</th>\n",
              "      <th>gb_feature_account_balnce_diff</th>\n",
              "      <th>gb_feature_account_WITHDRAWAL</th>\n",
              "      <th>gb_feature_account_WITHDRAWAL_diff</th>\n",
              "      <th>gb_feature_account_DEPOSIT</th>\n",
              "      <th>gb_feature_account_DEPOSI_diff</th>\n",
              "      <th>dm-Bank_Charges</th>\n",
              "      <th>dm-Salary_and_wages</th>\n",
              "      <th>dm-Cash_Pickup</th>\n",
              "      <th>dm-Cheque_Payment</th>\n",
              "      <th>dm-Bill_Payments</th>\n",
              "      <th>dm-Internet_and_IT_Services</th>\n",
              "      <th>dm-Shopping</th>\n",
              "      <th>dm-Interest</th>\n",
              "      <th>dm-Insurance</th>\n",
              "      <th>dm-Cell_Phone_and_Airtime</th>\n",
              "      <th>dm-Loan_Repayment</th>\n",
              "    </tr>\n",
              "  </thead>\n",
              "  <tbody>\n",
              "    <tr>\n",
              "      <th>0</th>\n",
              "      <td>2014-02-28</td>\n",
              "      <td>NEFT/FDRL401249529/INDIAFORENSIC</td>\n",
              "      <td>3</td>\n",
              "      <td>0.0</td>\n",
              "      <td>16.523561</td>\n",
              "      <td>15000000.0</td>\n",
              "      <td>Money-Transfer</td>\n",
              "      <td>1</td>\n",
              "      <td>12196</td>\n",
              "      <td>1.499998e+07</td>\n",
              "      <td>15000000.0</td>\n",
              "      <td>7.242483e+09</td>\n",
              "      <td>-7.227483e+09</td>\n",
              "      <td>4.64617</td>\n",
              "      <td>-4.64617</td>\n",
              "      <td>3.928218</td>\n",
              "      <td>12.595343</td>\n",
              "      <td>0</td>\n",
              "      <td>0</td>\n",
              "      <td>0</td>\n",
              "      <td>0</td>\n",
              "      <td>0</td>\n",
              "      <td>0</td>\n",
              "      <td>0</td>\n",
              "      <td>0</td>\n",
              "      <td>0</td>\n",
              "      <td>0</td>\n",
              "      <td>0</td>\n",
              "    </tr>\n",
              "    <tr>\n",
              "      <th>1</th>\n",
              "      <td>2014-02-28</td>\n",
              "      <td>NEFT/FDRL401249532/INDIAFORENSIC</td>\n",
              "      <td>3</td>\n",
              "      <td>0.0</td>\n",
              "      <td>16.523561</td>\n",
              "      <td>60000000.0</td>\n",
              "      <td>Money-Transfer</td>\n",
              "      <td>1</td>\n",
              "      <td>12196</td>\n",
              "      <td>5.999998e+07</td>\n",
              "      <td>60000000.0</td>\n",
              "      <td>7.242483e+09</td>\n",
              "      <td>-7.182483e+09</td>\n",
              "      <td>4.64617</td>\n",
              "      <td>-4.64617</td>\n",
              "      <td>3.928218</td>\n",
              "      <td>12.595343</td>\n",
              "      <td>0</td>\n",
              "      <td>0</td>\n",
              "      <td>0</td>\n",
              "      <td>0</td>\n",
              "      <td>0</td>\n",
              "      <td>0</td>\n",
              "      <td>0</td>\n",
              "      <td>0</td>\n",
              "      <td>0</td>\n",
              "      <td>0</td>\n",
              "      <td>0</td>\n",
              "    </tr>\n",
              "    <tr>\n",
              "      <th>2</th>\n",
              "      <td>2014-02-28</td>\n",
              "      <td>NEFT/FDRL401249534/INDIAFORENSIC</td>\n",
              "      <td>3</td>\n",
              "      <td>0.0</td>\n",
              "      <td>16.523561</td>\n",
              "      <td>90000000.0</td>\n",
              "      <td>Money-Transfer</td>\n",
              "      <td>1</td>\n",
              "      <td>12196</td>\n",
              "      <td>8.999998e+07</td>\n",
              "      <td>90000000.0</td>\n",
              "      <td>7.242483e+09</td>\n",
              "      <td>-7.152483e+09</td>\n",
              "      <td>4.64617</td>\n",
              "      <td>-4.64617</td>\n",
              "      <td>3.928218</td>\n",
              "      <td>12.595343</td>\n",
              "      <td>0</td>\n",
              "      <td>0</td>\n",
              "      <td>0</td>\n",
              "      <td>0</td>\n",
              "      <td>0</td>\n",
              "      <td>0</td>\n",
              "      <td>0</td>\n",
              "      <td>0</td>\n",
              "      <td>0</td>\n",
              "      <td>0</td>\n",
              "      <td>0</td>\n",
              "    </tr>\n",
              "    <tr>\n",
              "      <th>3</th>\n",
              "      <td>2014-02-28</td>\n",
              "      <td>NEFT/FDRL401249590/INDIAFORENSIC</td>\n",
              "      <td>3</td>\n",
              "      <td>0.0</td>\n",
              "      <td>16.118096</td>\n",
              "      <td>100000000.0</td>\n",
              "      <td>Money-Transfer</td>\n",
              "      <td>1</td>\n",
              "      <td>12196</td>\n",
              "      <td>9.999998e+07</td>\n",
              "      <td>100000000.0</td>\n",
              "      <td>7.242483e+09</td>\n",
              "      <td>-7.142483e+09</td>\n",
              "      <td>4.64617</td>\n",
              "      <td>-4.64617</td>\n",
              "      <td>3.928218</td>\n",
              "      <td>12.189877</td>\n",
              "      <td>0</td>\n",
              "      <td>0</td>\n",
              "      <td>0</td>\n",
              "      <td>0</td>\n",
              "      <td>0</td>\n",
              "      <td>0</td>\n",
              "      <td>0</td>\n",
              "      <td>0</td>\n",
              "      <td>0</td>\n",
              "      <td>0</td>\n",
              "      <td>0</td>\n",
              "    </tr>\n",
              "    <tr>\n",
              "      <th>4</th>\n",
              "      <td>2014-02-28</td>\n",
              "      <td>NEFT/FDRL401249531/INDIAFORENSIC</td>\n",
              "      <td>3</td>\n",
              "      <td>0.0</td>\n",
              "      <td>16.523561</td>\n",
              "      <td>45000000.0</td>\n",
              "      <td>Money-Transfer</td>\n",
              "      <td>1</td>\n",
              "      <td>12196</td>\n",
              "      <td>4.499998e+07</td>\n",
              "      <td>45000000.0</td>\n",
              "      <td>7.242483e+09</td>\n",
              "      <td>-7.197483e+09</td>\n",
              "      <td>4.64617</td>\n",
              "      <td>-4.64617</td>\n",
              "      <td>3.928218</td>\n",
              "      <td>12.595343</td>\n",
              "      <td>0</td>\n",
              "      <td>0</td>\n",
              "      <td>0</td>\n",
              "      <td>0</td>\n",
              "      <td>0</td>\n",
              "      <td>0</td>\n",
              "      <td>0</td>\n",
              "      <td>0</td>\n",
              "      <td>0</td>\n",
              "      <td>0</td>\n",
              "      <td>0</td>\n",
              "    </tr>\n",
              "  </tbody>\n",
              "</table>\n",
              "</div>\n",
              "      <button class=\"colab-df-convert\" onclick=\"convertToInteractive('df-8c748532-ab2e-461c-95e1-2d259883e49f')\"\n",
              "              title=\"Convert this dataframe to an interactive table.\"\n",
              "              style=\"display:none;\">\n",
              "        \n",
              "  <svg xmlns=\"http://www.w3.org/2000/svg\" height=\"24px\"viewBox=\"0 0 24 24\"\n",
              "       width=\"24px\">\n",
              "    <path d=\"M0 0h24v24H0V0z\" fill=\"none\"/>\n",
              "    <path d=\"M18.56 5.44l.94 2.06.94-2.06 2.06-.94-2.06-.94-.94-2.06-.94 2.06-2.06.94zm-11 1L8.5 8.5l.94-2.06 2.06-.94-2.06-.94L8.5 2.5l-.94 2.06-2.06.94zm10 10l.94 2.06.94-2.06 2.06-.94-2.06-.94-.94-2.06-.94 2.06-2.06.94z\"/><path d=\"M17.41 7.96l-1.37-1.37c-.4-.4-.92-.59-1.43-.59-.52 0-1.04.2-1.43.59L10.3 9.45l-7.72 7.72c-.78.78-.78 2.05 0 2.83L4 21.41c.39.39.9.59 1.41.59.51 0 1.02-.2 1.41-.59l7.78-7.78 2.81-2.81c.8-.78.8-2.07 0-2.86zM5.41 20L4 18.59l7.72-7.72 1.47 1.35L5.41 20z\"/>\n",
              "  </svg>\n",
              "      </button>\n",
              "      \n",
              "  <style>\n",
              "    .colab-df-container {\n",
              "      display:flex;\n",
              "      flex-wrap:wrap;\n",
              "      gap: 12px;\n",
              "    }\n",
              "\n",
              "    .colab-df-convert {\n",
              "      background-color: #E8F0FE;\n",
              "      border: none;\n",
              "      border-radius: 50%;\n",
              "      cursor: pointer;\n",
              "      display: none;\n",
              "      fill: #1967D2;\n",
              "      height: 32px;\n",
              "      padding: 0 0 0 0;\n",
              "      width: 32px;\n",
              "    }\n",
              "\n",
              "    .colab-df-convert:hover {\n",
              "      background-color: #E2EBFA;\n",
              "      box-shadow: 0px 1px 2px rgba(60, 64, 67, 0.3), 0px 1px 3px 1px rgba(60, 64, 67, 0.15);\n",
              "      fill: #174EA6;\n",
              "    }\n",
              "\n",
              "    [theme=dark] .colab-df-convert {\n",
              "      background-color: #3B4455;\n",
              "      fill: #D2E3FC;\n",
              "    }\n",
              "\n",
              "    [theme=dark] .colab-df-convert:hover {\n",
              "      background-color: #434B5C;\n",
              "      box-shadow: 0px 1px 3px 1px rgba(0, 0, 0, 0.15);\n",
              "      filter: drop-shadow(0px 1px 2px rgba(0, 0, 0, 0.3));\n",
              "      fill: #FFFFFF;\n",
              "    }\n",
              "  </style>\n",
              "\n",
              "      <script>\n",
              "        const buttonEl =\n",
              "          document.querySelector('#df-8c748532-ab2e-461c-95e1-2d259883e49f button.colab-df-convert');\n",
              "        buttonEl.style.display =\n",
              "          google.colab.kernel.accessAllowed ? 'block' : 'none';\n",
              "\n",
              "        async function convertToInteractive(key) {\n",
              "          const element = document.querySelector('#df-8c748532-ab2e-461c-95e1-2d259883e49f');\n",
              "          const dataTable =\n",
              "            await google.colab.kernel.invokeFunction('convertToInteractive',\n",
              "                                                     [key], {});\n",
              "          if (!dataTable) return;\n",
              "\n",
              "          const docLinkHtml = 'Like what you see? Visit the ' +\n",
              "            '<a target=\"_blank\" href=https://colab.research.google.com/notebooks/data_table.ipynb>data table notebook</a>'\n",
              "            + ' to learn more about interactive tables.';\n",
              "          element.innerHTML = '';\n",
              "          dataTable['output_type'] = 'display_data';\n",
              "          await google.colab.output.renderOutput(dataTable, element);\n",
              "          const docLink = document.createElement('div');\n",
              "          docLink.innerHTML = docLinkHtml;\n",
              "          element.appendChild(docLink);\n",
              "        }\n",
              "      </script>\n",
              "    </div>\n",
              "  </div>\n",
              "  "
            ],
            "text/plain": [
              "        DATE               TRANSACTION DETAILS  Account_NO  WITHDRAWAL AMT  \\\n",
              "0 2014-02-28  NEFT/FDRL401249529/INDIAFORENSIC           3             0.0   \n",
              "1 2014-02-28  NEFT/FDRL401249532/INDIAFORENSIC           3             0.0   \n",
              "2 2014-02-28  NEFT/FDRL401249534/INDIAFORENSIC           3             0.0   \n",
              "3 2014-02-28  NEFT/FDRL401249590/INDIAFORENSIC           3             0.0   \n",
              "4 2014-02-28  NEFT/FDRL401249531/INDIAFORENSIC           3             0.0   \n",
              "\n",
              "   DEPOSIT AMT  BALANCE AMT        Category  train  count_Account_NO  \\\n",
              "0    16.523561   15000000.0  Money-Transfer      1             12196   \n",
              "1    16.523561   60000000.0  Money-Transfer      1             12196   \n",
              "2    16.523561   90000000.0  Money-Transfer      1             12196   \n",
              "3    16.118096  100000000.0  Money-Transfer      1             12196   \n",
              "4    16.523561   45000000.0  Money-Transfer      1             12196   \n",
              "\n",
              "    bef_deposit  bef_withdrawal  gb_feature_account_blance  \\\n",
              "0  1.499998e+07      15000000.0               7.242483e+09   \n",
              "1  5.999998e+07      60000000.0               7.242483e+09   \n",
              "2  8.999998e+07      90000000.0               7.242483e+09   \n",
              "3  9.999998e+07     100000000.0               7.242483e+09   \n",
              "4  4.499998e+07      45000000.0               7.242483e+09   \n",
              "\n",
              "   gb_feature_account_balnce_diff  gb_feature_account_WITHDRAWAL  \\\n",
              "0                   -7.227483e+09                        4.64617   \n",
              "1                   -7.182483e+09                        4.64617   \n",
              "2                   -7.152483e+09                        4.64617   \n",
              "3                   -7.142483e+09                        4.64617   \n",
              "4                   -7.197483e+09                        4.64617   \n",
              "\n",
              "   gb_feature_account_WITHDRAWAL_diff  gb_feature_account_DEPOSIT  \\\n",
              "0                            -4.64617                    3.928218   \n",
              "1                            -4.64617                    3.928218   \n",
              "2                            -4.64617                    3.928218   \n",
              "3                            -4.64617                    3.928218   \n",
              "4                            -4.64617                    3.928218   \n",
              "\n",
              "   gb_feature_account_DEPOSI_diff  dm-Bank_Charges  dm-Salary_and_wages  \\\n",
              "0                       12.595343                0                    0   \n",
              "1                       12.595343                0                    0   \n",
              "2                       12.595343                0                    0   \n",
              "3                       12.189877                0                    0   \n",
              "4                       12.595343                0                    0   \n",
              "\n",
              "   dm-Cash_Pickup  dm-Cheque_Payment  dm-Bill_Payments  \\\n",
              "0               0                  0                 0   \n",
              "1               0                  0                 0   \n",
              "2               0                  0                 0   \n",
              "3               0                  0                 0   \n",
              "4               0                  0                 0   \n",
              "\n",
              "   dm-Internet_and_IT_Services  dm-Shopping  dm-Interest  dm-Insurance  \\\n",
              "0                            0            0            0             0   \n",
              "1                            0            0            0             0   \n",
              "2                            0            0            0             0   \n",
              "3                            0            0            0             0   \n",
              "4                            0            0            0             0   \n",
              "\n",
              "   dm-Cell_Phone_and_Airtime  dm-Loan_Repayment  \n",
              "0                          0                  0  \n",
              "1                          0                  0  \n",
              "2                          0                  0  \n",
              "3                          0                  0  \n",
              "4                          0                  0  "
            ]
          },
          "execution_count": 55,
          "metadata": {},
          "output_type": "execute_result"
        }
      ],
      "source": [
        "for cat in domain_categories:\n",
        "    tr_dt = domain_categories[cat]['TRANSACTION DETAILS']\n",
        "    unq = tr_dt.unique()\n",
        "    domain_categories[cat] = (len(unq), unq)\n",
        "\n",
        "    all_data[f\"dm-{cat}\"] = all_data['TRANSACTION DETAILS'].apply(\n",
        "        lambda x:x in unq\n",
        "    ).astype(int)\n",
        "\n",
        "all_data.head()\n"
      ]
    },
    {
      "cell_type": "markdown",
      "metadata": {
        "id": "iOCpQUMUmBPz"
      },
      "source": [
        "other features"
      ]
    },
    {
      "cell_type": "code",
      "execution_count": 56,
      "metadata": {
        "id": "M-6YRKhZOgUM"
      },
      "outputs": [],
      "source": [
        "st_dm_cat = [j for i, j in sorted(domain_categories.values())]\n",
        "\n",
        "def get_bins(x):\n",
        "    for i, j in enumerate(st_dm_cat):\n",
        "        if x in j:\n",
        "            return i\n",
        "    \n",
        "    return 11\n",
        "\n",
        "all_data['TRANSACTION_DETAILS_bins'] = all_data['TRANSACTION DETAILS'].apply(\n",
        "        get_bins\n",
        "    )"
      ]
    },
    {
      "cell_type": "code",
      "execution_count": 57,
      "metadata": {
        "id": "nd96vLtVBqZl"
      },
      "outputs": [],
      "source": [
        "del Bank_Charges,Cell_Phone_and_Airtime,Insurance,Salary_and_wages,Cash_Pickup,Cheque_Payment,Bill_Payments,Deposit,Internet_and_IT_Services,Shopping,Interest"
      ]
    },
    {
      "cell_type": "code",
      "execution_count": 60,
      "metadata": {
        "colab": {
          "base_uri": "https://localhost:8080/"
        },
        "id": "vT40HyZTOgUQ",
        "outputId": "e87efdc1-37a0-4c03-e63f-94ad44efe09f"
      },
      "outputs": [
        {
          "data": {
            "text/plain": [
              "(77177, 29)"
            ]
          },
          "execution_count": 60,
          "metadata": {},
          "output_type": "execute_result"
        }
      ],
      "source": [
        "all_data.shape"
      ]
    },
    {
      "cell_type": "markdown",
      "metadata": {
        "id": "-0Gun6DLuVGG"
      },
      "source": [
        "#### More feature engineering"
      ]
    },
    {
      "cell_type": "markdown",
      "metadata": {
        "id": "HJ5jDkc9ukJt"
      },
      "source": [
        "##### Date features"
      ]
    },
    {
      "cell_type": "code",
      "execution_count": 61,
      "metadata": {
        "id": "oVhM8zo4OgUQ"
      },
      "outputs": [],
      "source": [
        "all_data.DATE = pd.to_datetime(all_data.DATE)"
      ]
    },
    {
      "cell_type": "code",
      "execution_count": 62,
      "metadata": {
        "id": "fv8MOd4kOgUR"
      },
      "outputs": [],
      "source": [
        "dt_ft = ['day', 'month', 'dayofweek', 'hour', 'quarter']\n",
        "for ft in dt_ft:\n",
        "    exec(f'all_data[\"DATE_{ft}\"] = all_data.DATE.dt.{ft}.astype(str)')\n",
        "\n"
      ]
    },
    {
      "cell_type": "code",
      "execution_count": 63,
      "metadata": {
        "id": "rvRlT9CoOgUS"
      },
      "outputs": [],
      "source": [
        "def hour_cluster(x):\n",
        "    x = int(x)\n",
        "    if (x > 4) and (x <= 8):\n",
        "        return 0\n",
        "    elif (x > 8) and (x <= 12 ):\n",
        "        return 1\n",
        "    elif (x > 12) and (x <= 16):\n",
        "        return 2\n",
        "    elif (x > 16) and (x <= 20) :\n",
        "        return 3\n",
        "    elif (x > 20) and (x <= 24):\n",
        "        return 4\n",
        "    elif (x <= 4):\n",
        "        return 5\n",
        "\n",
        "\n",
        "all_data['DATE_hour'] = all_data['DATE_hour'].apply(hour_cluster)"
      ]
    },
    {
      "cell_type": "code",
      "execution_count": 64,
      "metadata": {
        "colab": {
          "base_uri": "https://localhost:8080/",
          "height": 375
        },
        "id": "RqkNRjYXKz_H",
        "outputId": "b9128038-1c1b-4c94-e4df-9dc51b3c927e"
      },
      "outputs": [
        {
          "data": {
            "text/html": [
              "\n",
              "  <div id=\"df-617f5680-1ef1-4ba2-a642-141be2e6f637\">\n",
              "    <div class=\"colab-df-container\">\n",
              "      <div>\n",
              "<style scoped>\n",
              "    .dataframe tbody tr th:only-of-type {\n",
              "        vertical-align: middle;\n",
              "    }\n",
              "\n",
              "    .dataframe tbody tr th {\n",
              "        vertical-align: top;\n",
              "    }\n",
              "\n",
              "    .dataframe thead th {\n",
              "        text-align: right;\n",
              "    }\n",
              "</style>\n",
              "<table border=\"1\" class=\"dataframe\">\n",
              "  <thead>\n",
              "    <tr style=\"text-align: right;\">\n",
              "      <th></th>\n",
              "      <th>DATE</th>\n",
              "      <th>TRANSACTION DETAILS</th>\n",
              "      <th>Account_NO</th>\n",
              "      <th>WITHDRAWAL AMT</th>\n",
              "      <th>DEPOSIT AMT</th>\n",
              "      <th>BALANCE AMT</th>\n",
              "      <th>Category</th>\n",
              "      <th>train</th>\n",
              "      <th>count_Account_NO</th>\n",
              "      <th>bef_deposit</th>\n",
              "      <th>bef_withdrawal</th>\n",
              "      <th>gb_feature_account_blance</th>\n",
              "      <th>gb_feature_account_balnce_diff</th>\n",
              "      <th>gb_feature_account_WITHDRAWAL</th>\n",
              "      <th>gb_feature_account_WITHDRAWAL_diff</th>\n",
              "      <th>gb_feature_account_DEPOSIT</th>\n",
              "      <th>gb_feature_account_DEPOSI_diff</th>\n",
              "      <th>dm-Bank_Charges</th>\n",
              "      <th>dm-Salary_and_wages</th>\n",
              "      <th>dm-Cash_Pickup</th>\n",
              "      <th>dm-Cheque_Payment</th>\n",
              "      <th>dm-Bill_Payments</th>\n",
              "      <th>dm-Internet_and_IT_Services</th>\n",
              "      <th>dm-Shopping</th>\n",
              "      <th>dm-Interest</th>\n",
              "      <th>dm-Insurance</th>\n",
              "      <th>dm-Cell_Phone_and_Airtime</th>\n",
              "      <th>dm-Loan_Repayment</th>\n",
              "      <th>TRANSACTION_DETAILS_bins</th>\n",
              "      <th>DATE_day</th>\n",
              "      <th>DATE_month</th>\n",
              "      <th>DATE_dayofweek</th>\n",
              "      <th>DATE_hour</th>\n",
              "      <th>DATE_quarter</th>\n",
              "      <th>TRANSACTION DETAILS WORD</th>\n",
              "    </tr>\n",
              "  </thead>\n",
              "  <tbody>\n",
              "    <tr>\n",
              "      <th>16250</th>\n",
              "      <td>2015-12-25</td>\n",
              "      <td>CASHDEP/KAROLBAGH/</td>\n",
              "      <td>1</td>\n",
              "      <td>0.000000</td>\n",
              "      <td>12.676079</td>\n",
              "      <td>8.507077e+09</td>\n",
              "      <td>Deposit</td>\n",
              "      <td>1</td>\n",
              "      <td>32239</td>\n",
              "      <td>8.507076e+09</td>\n",
              "      <td>8.507077e+09</td>\n",
              "      <td>2.456121e+10</td>\n",
              "      <td>-1.605413e+10</td>\n",
              "      <td>1.390866</td>\n",
              "      <td>-1.390866</td>\n",
              "      <td>11.222157</td>\n",
              "      <td>1.453923</td>\n",
              "      <td>0</td>\n",
              "      <td>0</td>\n",
              "      <td>0</td>\n",
              "      <td>0</td>\n",
              "      <td>0</td>\n",
              "      <td>0</td>\n",
              "      <td>0</td>\n",
              "      <td>0</td>\n",
              "      <td>0</td>\n",
              "      <td>0</td>\n",
              "      <td>0</td>\n",
              "      <td>11</td>\n",
              "      <td>25</td>\n",
              "      <td>12</td>\n",
              "      <td>4</td>\n",
              "      <td>5</td>\n",
              "      <td>4</td>\n",
              "      <td>CASHDEP KAROLBAGH</td>\n",
              "    </tr>\n",
              "    <tr>\n",
              "      <th>33514</th>\n",
              "      <td>2016-12-18</td>\n",
              "      <td>CASHDEP/SURAT/</td>\n",
              "      <td>1</td>\n",
              "      <td>0.000000</td>\n",
              "      <td>10.714440</td>\n",
              "      <td>3.965923e+10</td>\n",
              "      <td>Deposit</td>\n",
              "      <td>1</td>\n",
              "      <td>32239</td>\n",
              "      <td>3.965923e+10</td>\n",
              "      <td>3.965923e+10</td>\n",
              "      <td>2.456121e+10</td>\n",
              "      <td>1.509802e+10</td>\n",
              "      <td>1.390866</td>\n",
              "      <td>-1.390866</td>\n",
              "      <td>11.222157</td>\n",
              "      <td>-0.507717</td>\n",
              "      <td>0</td>\n",
              "      <td>0</td>\n",
              "      <td>0</td>\n",
              "      <td>0</td>\n",
              "      <td>0</td>\n",
              "      <td>0</td>\n",
              "      <td>0</td>\n",
              "      <td>0</td>\n",
              "      <td>0</td>\n",
              "      <td>0</td>\n",
              "      <td>0</td>\n",
              "      <td>11</td>\n",
              "      <td>18</td>\n",
              "      <td>12</td>\n",
              "      <td>6</td>\n",
              "      <td>5</td>\n",
              "      <td>4</td>\n",
              "      <td>CASHDEP SURAT</td>\n",
              "    </tr>\n",
              "    <tr>\n",
              "      <th>3813</th>\n",
              "      <td>2015-03-16</td>\n",
              "      <td>CR/704008055485/RMCPL07498/</td>\n",
              "      <td>3</td>\n",
              "      <td>7.601402</td>\n",
              "      <td>0.000000</td>\n",
              "      <td>3.063950e+08</td>\n",
              "      <td>Money-Transfer</td>\n",
              "      <td>1</td>\n",
              "      <td>12196</td>\n",
              "      <td>3.063950e+08</td>\n",
              "      <td>3.063950e+08</td>\n",
              "      <td>7.242483e+09</td>\n",
              "      <td>-6.936088e+09</td>\n",
              "      <td>4.646170</td>\n",
              "      <td>2.955233</td>\n",
              "      <td>3.928218</td>\n",
              "      <td>-3.928218</td>\n",
              "      <td>0</td>\n",
              "      <td>0</td>\n",
              "      <td>0</td>\n",
              "      <td>0</td>\n",
              "      <td>0</td>\n",
              "      <td>0</td>\n",
              "      <td>0</td>\n",
              "      <td>0</td>\n",
              "      <td>0</td>\n",
              "      <td>0</td>\n",
              "      <td>0</td>\n",
              "      <td>11</td>\n",
              "      <td>16</td>\n",
              "      <td>3</td>\n",
              "      <td>0</td>\n",
              "      <td>5</td>\n",
              "      <td>1</td>\n",
              "      <td>CR 704008055485 RMCPL07498</td>\n",
              "    </tr>\n",
              "    <tr>\n",
              "      <th>19929</th>\n",
              "      <td>2016-02-20</td>\n",
              "      <td>CASHDEP/RAJOURI/</td>\n",
              "      <td>1</td>\n",
              "      <td>0.000000</td>\n",
              "      <td>12.185875</td>\n",
              "      <td>1.329574e+10</td>\n",
              "      <td>Deposit</td>\n",
              "      <td>1</td>\n",
              "      <td>32239</td>\n",
              "      <td>1.329574e+10</td>\n",
              "      <td>1.329574e+10</td>\n",
              "      <td>2.456121e+10</td>\n",
              "      <td>-1.126547e+10</td>\n",
              "      <td>1.390866</td>\n",
              "      <td>-1.390866</td>\n",
              "      <td>11.222157</td>\n",
              "      <td>0.963718</td>\n",
              "      <td>0</td>\n",
              "      <td>0</td>\n",
              "      <td>0</td>\n",
              "      <td>0</td>\n",
              "      <td>0</td>\n",
              "      <td>0</td>\n",
              "      <td>0</td>\n",
              "      <td>0</td>\n",
              "      <td>0</td>\n",
              "      <td>0</td>\n",
              "      <td>0</td>\n",
              "      <td>11</td>\n",
              "      <td>20</td>\n",
              "      <td>2</td>\n",
              "      <td>5</td>\n",
              "      <td>5</td>\n",
              "      <td>1</td>\n",
              "      <td>CASHDEP RAJOURI</td>\n",
              "    </tr>\n",
              "    <tr>\n",
              "      <th>9398</th>\n",
              "      <td>2015-08-02</td>\n",
              "      <td>CASHDEP/KADI/</td>\n",
              "      <td>1</td>\n",
              "      <td>0.000000</td>\n",
              "      <td>10.308986</td>\n",
              "      <td>2.396131e+09</td>\n",
              "      <td>Deposit</td>\n",
              "      <td>1</td>\n",
              "      <td>32239</td>\n",
              "      <td>2.396131e+09</td>\n",
              "      <td>2.396131e+09</td>\n",
              "      <td>2.456121e+10</td>\n",
              "      <td>-2.216508e+10</td>\n",
              "      <td>1.390866</td>\n",
              "      <td>-1.390866</td>\n",
              "      <td>11.222157</td>\n",
              "      <td>-0.913171</td>\n",
              "      <td>0</td>\n",
              "      <td>0</td>\n",
              "      <td>0</td>\n",
              "      <td>0</td>\n",
              "      <td>0</td>\n",
              "      <td>0</td>\n",
              "      <td>0</td>\n",
              "      <td>0</td>\n",
              "      <td>0</td>\n",
              "      <td>0</td>\n",
              "      <td>0</td>\n",
              "      <td>11</td>\n",
              "      <td>2</td>\n",
              "      <td>8</td>\n",
              "      <td>6</td>\n",
              "      <td>5</td>\n",
              "      <td>3</td>\n",
              "      <td>CASHDEP KADI</td>\n",
              "    </tr>\n",
              "  </tbody>\n",
              "</table>\n",
              "</div>\n",
              "      <button class=\"colab-df-convert\" onclick=\"convertToInteractive('df-617f5680-1ef1-4ba2-a642-141be2e6f637')\"\n",
              "              title=\"Convert this dataframe to an interactive table.\"\n",
              "              style=\"display:none;\">\n",
              "        \n",
              "  <svg xmlns=\"http://www.w3.org/2000/svg\" height=\"24px\"viewBox=\"0 0 24 24\"\n",
              "       width=\"24px\">\n",
              "    <path d=\"M0 0h24v24H0V0z\" fill=\"none\"/>\n",
              "    <path d=\"M18.56 5.44l.94 2.06.94-2.06 2.06-.94-2.06-.94-.94-2.06-.94 2.06-2.06.94zm-11 1L8.5 8.5l.94-2.06 2.06-.94-2.06-.94L8.5 2.5l-.94 2.06-2.06.94zm10 10l.94 2.06.94-2.06 2.06-.94-2.06-.94-.94-2.06-.94 2.06-2.06.94z\"/><path d=\"M17.41 7.96l-1.37-1.37c-.4-.4-.92-.59-1.43-.59-.52 0-1.04.2-1.43.59L10.3 9.45l-7.72 7.72c-.78.78-.78 2.05 0 2.83L4 21.41c.39.39.9.59 1.41.59.51 0 1.02-.2 1.41-.59l7.78-7.78 2.81-2.81c.8-.78.8-2.07 0-2.86zM5.41 20L4 18.59l7.72-7.72 1.47 1.35L5.41 20z\"/>\n",
              "  </svg>\n",
              "      </button>\n",
              "      \n",
              "  <style>\n",
              "    .colab-df-container {\n",
              "      display:flex;\n",
              "      flex-wrap:wrap;\n",
              "      gap: 12px;\n",
              "    }\n",
              "\n",
              "    .colab-df-convert {\n",
              "      background-color: #E8F0FE;\n",
              "      border: none;\n",
              "      border-radius: 50%;\n",
              "      cursor: pointer;\n",
              "      display: none;\n",
              "      fill: #1967D2;\n",
              "      height: 32px;\n",
              "      padding: 0 0 0 0;\n",
              "      width: 32px;\n",
              "    }\n",
              "\n",
              "    .colab-df-convert:hover {\n",
              "      background-color: #E2EBFA;\n",
              "      box-shadow: 0px 1px 2px rgba(60, 64, 67, 0.3), 0px 1px 3px 1px rgba(60, 64, 67, 0.15);\n",
              "      fill: #174EA6;\n",
              "    }\n",
              "\n",
              "    [theme=dark] .colab-df-convert {\n",
              "      background-color: #3B4455;\n",
              "      fill: #D2E3FC;\n",
              "    }\n",
              "\n",
              "    [theme=dark] .colab-df-convert:hover {\n",
              "      background-color: #434B5C;\n",
              "      box-shadow: 0px 1px 3px 1px rgba(0, 0, 0, 0.15);\n",
              "      filter: drop-shadow(0px 1px 2px rgba(0, 0, 0, 0.3));\n",
              "      fill: #FFFFFF;\n",
              "    }\n",
              "  </style>\n",
              "\n",
              "      <script>\n",
              "        const buttonEl =\n",
              "          document.querySelector('#df-617f5680-1ef1-4ba2-a642-141be2e6f637 button.colab-df-convert');\n",
              "        buttonEl.style.display =\n",
              "          google.colab.kernel.accessAllowed ? 'block' : 'none';\n",
              "\n",
              "        async function convertToInteractive(key) {\n",
              "          const element = document.querySelector('#df-617f5680-1ef1-4ba2-a642-141be2e6f637');\n",
              "          const dataTable =\n",
              "            await google.colab.kernel.invokeFunction('convertToInteractive',\n",
              "                                                     [key], {});\n",
              "          if (!dataTable) return;\n",
              "\n",
              "          const docLinkHtml = 'Like what you see? Visit the ' +\n",
              "            '<a target=\"_blank\" href=https://colab.research.google.com/notebooks/data_table.ipynb>data table notebook</a>'\n",
              "            + ' to learn more about interactive tables.';\n",
              "          element.innerHTML = '';\n",
              "          dataTable['output_type'] = 'display_data';\n",
              "          await google.colab.output.renderOutput(dataTable, element);\n",
              "          const docLink = document.createElement('div');\n",
              "          docLink.innerHTML = docLinkHtml;\n",
              "          element.appendChild(docLink);\n",
              "        }\n",
              "      </script>\n",
              "    </div>\n",
              "  </div>\n",
              "  "
            ],
            "text/plain": [
              "            DATE          TRANSACTION DETAILS  Account_NO  WITHDRAWAL AMT  \\\n",
              "16250 2015-12-25           CASHDEP/KAROLBAGH/           1        0.000000   \n",
              "33514 2016-12-18               CASHDEP/SURAT/           1        0.000000   \n",
              "3813  2015-03-16  CR/704008055485/RMCPL07498/           3        7.601402   \n",
              "19929 2016-02-20             CASHDEP/RAJOURI/           1        0.000000   \n",
              "9398  2015-08-02                CASHDEP/KADI/           1        0.000000   \n",
              "\n",
              "       DEPOSIT AMT   BALANCE AMT        Category  train  count_Account_NO  \\\n",
              "16250    12.676079  8.507077e+09         Deposit      1             32239   \n",
              "33514    10.714440  3.965923e+10         Deposit      1             32239   \n",
              "3813      0.000000  3.063950e+08  Money-Transfer      1             12196   \n",
              "19929    12.185875  1.329574e+10         Deposit      1             32239   \n",
              "9398     10.308986  2.396131e+09         Deposit      1             32239   \n",
              "\n",
              "        bef_deposit  bef_withdrawal  gb_feature_account_blance  \\\n",
              "16250  8.507076e+09    8.507077e+09               2.456121e+10   \n",
              "33514  3.965923e+10    3.965923e+10               2.456121e+10   \n",
              "3813   3.063950e+08    3.063950e+08               7.242483e+09   \n",
              "19929  1.329574e+10    1.329574e+10               2.456121e+10   \n",
              "9398   2.396131e+09    2.396131e+09               2.456121e+10   \n",
              "\n",
              "       gb_feature_account_balnce_diff  gb_feature_account_WITHDRAWAL  \\\n",
              "16250                   -1.605413e+10                       1.390866   \n",
              "33514                    1.509802e+10                       1.390866   \n",
              "3813                    -6.936088e+09                       4.646170   \n",
              "19929                   -1.126547e+10                       1.390866   \n",
              "9398                    -2.216508e+10                       1.390866   \n",
              "\n",
              "       gb_feature_account_WITHDRAWAL_diff  gb_feature_account_DEPOSIT  \\\n",
              "16250                           -1.390866                   11.222157   \n",
              "33514                           -1.390866                   11.222157   \n",
              "3813                             2.955233                    3.928218   \n",
              "19929                           -1.390866                   11.222157   \n",
              "9398                            -1.390866                   11.222157   \n",
              "\n",
              "       gb_feature_account_DEPOSI_diff  dm-Bank_Charges  dm-Salary_and_wages  \\\n",
              "16250                        1.453923                0                    0   \n",
              "33514                       -0.507717                0                    0   \n",
              "3813                        -3.928218                0                    0   \n",
              "19929                        0.963718                0                    0   \n",
              "9398                        -0.913171                0                    0   \n",
              "\n",
              "       dm-Cash_Pickup  dm-Cheque_Payment  dm-Bill_Payments  \\\n",
              "16250               0                  0                 0   \n",
              "33514               0                  0                 0   \n",
              "3813                0                  0                 0   \n",
              "19929               0                  0                 0   \n",
              "9398                0                  0                 0   \n",
              "\n",
              "       dm-Internet_and_IT_Services  dm-Shopping  dm-Interest  dm-Insurance  \\\n",
              "16250                            0            0            0             0   \n",
              "33514                            0            0            0             0   \n",
              "3813                             0            0            0             0   \n",
              "19929                            0            0            0             0   \n",
              "9398                             0            0            0             0   \n",
              "\n",
              "       dm-Cell_Phone_and_Airtime  dm-Loan_Repayment  TRANSACTION_DETAILS_bins  \\\n",
              "16250                          0                  0                        11   \n",
              "33514                          0                  0                        11   \n",
              "3813                           0                  0                        11   \n",
              "19929                          0                  0                        11   \n",
              "9398                           0                  0                        11   \n",
              "\n",
              "      DATE_day DATE_month DATE_dayofweek  DATE_hour DATE_quarter  \\\n",
              "16250       25         12              4          5            4   \n",
              "33514       18         12              6          5            4   \n",
              "3813        16          3              0          5            1   \n",
              "19929       20          2              5          5            1   \n",
              "9398         2          8              6          5            3   \n",
              "\n",
              "          TRANSACTION DETAILS WORD  \n",
              "16250           CASHDEP KAROLBAGH   \n",
              "33514               CASHDEP SURAT   \n",
              "3813   CR 704008055485 RMCPL07498   \n",
              "19929             CASHDEP RAJOURI   \n",
              "9398                 CASHDEP KADI   "
            ]
          },
          "execution_count": 64,
          "metadata": {},
          "output_type": "execute_result"
        }
      ],
      "source": [
        "all_data['TRANSACTION DETAILS WORD'] = all_data['TRANSACTION DETAILS'].str\\\n",
        "    .replace('/', \" \").replace(\"-\", \" \")\n",
        "all_data.sample(5)"
      ]
    },
    {
      "cell_type": "code",
      "execution_count": 65,
      "metadata": {
        "colab": {
          "base_uri": "https://localhost:8080/"
        },
        "id": "MIcEcMuKOgUU",
        "outputId": "391b1241-cf7a-4876-d616-799d53c45880"
      },
      "outputs": [
        {
          "data": {
            "text/plain": [
              "(77177, 1254447)"
            ]
          },
          "execution_count": 65,
          "metadata": {},
          "output_type": "execute_result"
        }
      ],
      "source": [
        "wb_vector = TfidfVectorizer(analyzer='char_wb', ngram_range=(1,9))\n",
        "X_vect = wb_vector.fit_transform(all_data['TRANSACTION DETAILS'])\n",
        "\n",
        "X_vect.shape"
      ]
    },
    {
      "cell_type": "code",
      "execution_count": 66,
      "metadata": {
        "colab": {
          "base_uri": "https://localhost:8080/",
          "height": 214
        },
        "id": "3bVm7Gx1OgUV",
        "outputId": "d7e86a6d-95e0-4877-a462-3b7f73ea1468"
      },
      "outputs": [
        {
          "data": {
            "text/html": [
              "\n",
              "  <div id=\"df-69035f09-a45f-42b9-aa4f-1faca7c79db1\">\n",
              "    <div class=\"colab-df-container\">\n",
              "      <div>\n",
              "<style scoped>\n",
              "    .dataframe tbody tr th:only-of-type {\n",
              "        vertical-align: middle;\n",
              "    }\n",
              "\n",
              "    .dataframe tbody tr th {\n",
              "        vertical-align: top;\n",
              "    }\n",
              "\n",
              "    .dataframe thead th {\n",
              "        text-align: right;\n",
              "    }\n",
              "</style>\n",
              "<table border=\"1\" class=\"dataframe\">\n",
              "  <thead>\n",
              "    <tr style=\"text-align: right;\">\n",
              "      <th></th>\n",
              "      <th>DATE</th>\n",
              "      <th>TRANSACTION DETAILS</th>\n",
              "      <th>Account_NO</th>\n",
              "      <th>WITHDRAWAL AMT</th>\n",
              "      <th>DEPOSIT AMT</th>\n",
              "      <th>BALANCE AMT</th>\n",
              "      <th>Category</th>\n",
              "      <th>train</th>\n",
              "      <th>count_Account_NO</th>\n",
              "      <th>bef_deposit</th>\n",
              "      <th>bef_withdrawal</th>\n",
              "      <th>gb_feature_account_blance</th>\n",
              "      <th>gb_feature_account_balnce_diff</th>\n",
              "      <th>gb_feature_account_WITHDRAWAL</th>\n",
              "      <th>gb_feature_account_WITHDRAWAL_diff</th>\n",
              "      <th>gb_feature_account_DEPOSIT</th>\n",
              "      <th>gb_feature_account_DEPOSI_diff</th>\n",
              "      <th>dm-Bank_Charges</th>\n",
              "      <th>dm-Salary_and_wages</th>\n",
              "      <th>dm-Cash_Pickup</th>\n",
              "      <th>dm-Cheque_Payment</th>\n",
              "      <th>dm-Bill_Payments</th>\n",
              "      <th>dm-Internet_and_IT_Services</th>\n",
              "      <th>dm-Shopping</th>\n",
              "      <th>dm-Interest</th>\n",
              "      <th>dm-Insurance</th>\n",
              "      <th>dm-Cell_Phone_and_Airtime</th>\n",
              "      <th>dm-Loan_Repayment</th>\n",
              "      <th>TRANSACTION_DETAILS_bins</th>\n",
              "      <th>DATE_day</th>\n",
              "      <th>DATE_month</th>\n",
              "      <th>DATE_dayofweek</th>\n",
              "      <th>DATE_hour</th>\n",
              "      <th>DATE_quarter</th>\n",
              "      <th>TRANSACTION DETAILS WORD</th>\n",
              "      <th>transction_detail_truncft_1</th>\n",
              "      <th>transction_detail_truncft_2</th>\n",
              "      <th>transction_detail_truncft_3</th>\n",
              "      <th>transction_detail_truncft_4</th>\n",
              "      <th>transction_detail_truncft_5</th>\n",
              "    </tr>\n",
              "  </thead>\n",
              "  <tbody>\n",
              "    <tr>\n",
              "      <th>13151</th>\n",
              "      <td>2016-11-06</td>\n",
              "      <td>CASHDEP/VIKASMARG/TP/CASH</td>\n",
              "      <td>1</td>\n",
              "      <td>0.0</td>\n",
              "      <td>11.238502</td>\n",
              "      <td>3.693109e+10</td>\n",
              "      <td>NaN</td>\n",
              "      <td>0</td>\n",
              "      <td>32239</td>\n",
              "      <td>3.693109e+10</td>\n",
              "      <td>3.693109e+10</td>\n",
              "      <td>2.456121e+10</td>\n",
              "      <td>1.236988e+10</td>\n",
              "      <td>1.390866</td>\n",
              "      <td>-1.390866</td>\n",
              "      <td>11.222157</td>\n",
              "      <td>0.016345</td>\n",
              "      <td>0</td>\n",
              "      <td>0</td>\n",
              "      <td>0</td>\n",
              "      <td>0</td>\n",
              "      <td>0</td>\n",
              "      <td>0</td>\n",
              "      <td>0</td>\n",
              "      <td>0</td>\n",
              "      <td>0</td>\n",
              "      <td>0</td>\n",
              "      <td>0</td>\n",
              "      <td>11</td>\n",
              "      <td>6</td>\n",
              "      <td>11</td>\n",
              "      <td>6</td>\n",
              "      <td>5</td>\n",
              "      <td>4</td>\n",
              "      <td>CASHDEP VIKASMARG TP CASH</td>\n",
              "      <td>0.166474</td>\n",
              "      <td>-0.222382</td>\n",
              "      <td>-0.06216</td>\n",
              "      <td>-0.063582</td>\n",
              "      <td>-0.054549</td>\n",
              "    </tr>\n",
              "  </tbody>\n",
              "</table>\n",
              "</div>\n",
              "      <button class=\"colab-df-convert\" onclick=\"convertToInteractive('df-69035f09-a45f-42b9-aa4f-1faca7c79db1')\"\n",
              "              title=\"Convert this dataframe to an interactive table.\"\n",
              "              style=\"display:none;\">\n",
              "        \n",
              "  <svg xmlns=\"http://www.w3.org/2000/svg\" height=\"24px\"viewBox=\"0 0 24 24\"\n",
              "       width=\"24px\">\n",
              "    <path d=\"M0 0h24v24H0V0z\" fill=\"none\"/>\n",
              "    <path d=\"M18.56 5.44l.94 2.06.94-2.06 2.06-.94-2.06-.94-.94-2.06-.94 2.06-2.06.94zm-11 1L8.5 8.5l.94-2.06 2.06-.94-2.06-.94L8.5 2.5l-.94 2.06-2.06.94zm10 10l.94 2.06.94-2.06 2.06-.94-2.06-.94-.94-2.06-.94 2.06-2.06.94z\"/><path d=\"M17.41 7.96l-1.37-1.37c-.4-.4-.92-.59-1.43-.59-.52 0-1.04.2-1.43.59L10.3 9.45l-7.72 7.72c-.78.78-.78 2.05 0 2.83L4 21.41c.39.39.9.59 1.41.59.51 0 1.02-.2 1.41-.59l7.78-7.78 2.81-2.81c.8-.78.8-2.07 0-2.86zM5.41 20L4 18.59l7.72-7.72 1.47 1.35L5.41 20z\"/>\n",
              "  </svg>\n",
              "      </button>\n",
              "      \n",
              "  <style>\n",
              "    .colab-df-container {\n",
              "      display:flex;\n",
              "      flex-wrap:wrap;\n",
              "      gap: 12px;\n",
              "    }\n",
              "\n",
              "    .colab-df-convert {\n",
              "      background-color: #E8F0FE;\n",
              "      border: none;\n",
              "      border-radius: 50%;\n",
              "      cursor: pointer;\n",
              "      display: none;\n",
              "      fill: #1967D2;\n",
              "      height: 32px;\n",
              "      padding: 0 0 0 0;\n",
              "      width: 32px;\n",
              "    }\n",
              "\n",
              "    .colab-df-convert:hover {\n",
              "      background-color: #E2EBFA;\n",
              "      box-shadow: 0px 1px 2px rgba(60, 64, 67, 0.3), 0px 1px 3px 1px rgba(60, 64, 67, 0.15);\n",
              "      fill: #174EA6;\n",
              "    }\n",
              "\n",
              "    [theme=dark] .colab-df-convert {\n",
              "      background-color: #3B4455;\n",
              "      fill: #D2E3FC;\n",
              "    }\n",
              "\n",
              "    [theme=dark] .colab-df-convert:hover {\n",
              "      background-color: #434B5C;\n",
              "      box-shadow: 0px 1px 3px 1px rgba(0, 0, 0, 0.15);\n",
              "      filter: drop-shadow(0px 1px 2px rgba(0, 0, 0, 0.3));\n",
              "      fill: #FFFFFF;\n",
              "    }\n",
              "  </style>\n",
              "\n",
              "      <script>\n",
              "        const buttonEl =\n",
              "          document.querySelector('#df-69035f09-a45f-42b9-aa4f-1faca7c79db1 button.colab-df-convert');\n",
              "        buttonEl.style.display =\n",
              "          google.colab.kernel.accessAllowed ? 'block' : 'none';\n",
              "\n",
              "        async function convertToInteractive(key) {\n",
              "          const element = document.querySelector('#df-69035f09-a45f-42b9-aa4f-1faca7c79db1');\n",
              "          const dataTable =\n",
              "            await google.colab.kernel.invokeFunction('convertToInteractive',\n",
              "                                                     [key], {});\n",
              "          if (!dataTable) return;\n",
              "\n",
              "          const docLinkHtml = 'Like what you see? Visit the ' +\n",
              "            '<a target=\"_blank\" href=https://colab.research.google.com/notebooks/data_table.ipynb>data table notebook</a>'\n",
              "            + ' to learn more about interactive tables.';\n",
              "          element.innerHTML = '';\n",
              "          dataTable['output_type'] = 'display_data';\n",
              "          await google.colab.output.renderOutput(dataTable, element);\n",
              "          const docLink = document.createElement('div');\n",
              "          docLink.innerHTML = docLinkHtml;\n",
              "          element.appendChild(docLink);\n",
              "        }\n",
              "      </script>\n",
              "    </div>\n",
              "  </div>\n",
              "  "
            ],
            "text/plain": [
              "            DATE        TRANSACTION DETAILS  Account_NO  WITHDRAWAL AMT  \\\n",
              "13151 2016-11-06  CASHDEP/VIKASMARG/TP/CASH           1             0.0   \n",
              "\n",
              "       DEPOSIT AMT   BALANCE AMT Category  train  count_Account_NO  \\\n",
              "13151    11.238502  3.693109e+10      NaN      0             32239   \n",
              "\n",
              "        bef_deposit  bef_withdrawal  gb_feature_account_blance  \\\n",
              "13151  3.693109e+10    3.693109e+10               2.456121e+10   \n",
              "\n",
              "       gb_feature_account_balnce_diff  gb_feature_account_WITHDRAWAL  \\\n",
              "13151                    1.236988e+10                       1.390866   \n",
              "\n",
              "       gb_feature_account_WITHDRAWAL_diff  gb_feature_account_DEPOSIT  \\\n",
              "13151                           -1.390866                   11.222157   \n",
              "\n",
              "       gb_feature_account_DEPOSI_diff  dm-Bank_Charges  dm-Salary_and_wages  \\\n",
              "13151                        0.016345                0                    0   \n",
              "\n",
              "       dm-Cash_Pickup  dm-Cheque_Payment  dm-Bill_Payments  \\\n",
              "13151               0                  0                 0   \n",
              "\n",
              "       dm-Internet_and_IT_Services  dm-Shopping  dm-Interest  dm-Insurance  \\\n",
              "13151                            0            0            0             0   \n",
              "\n",
              "       dm-Cell_Phone_and_Airtime  dm-Loan_Repayment  TRANSACTION_DETAILS_bins  \\\n",
              "13151                          0                  0                        11   \n",
              "\n",
              "      DATE_day DATE_month DATE_dayofweek  DATE_hour DATE_quarter  \\\n",
              "13151        6         11              6          5            4   \n",
              "\n",
              "        TRANSACTION DETAILS WORD  transction_detail_truncft_1  \\\n",
              "13151  CASHDEP VIKASMARG TP CASH                     0.166474   \n",
              "\n",
              "       transction_detail_truncft_2  transction_detail_truncft_3  \\\n",
              "13151                    -0.222382                     -0.06216   \n",
              "\n",
              "       transction_detail_truncft_4  transction_detail_truncft_5  \n",
              "13151                    -0.063582                    -0.054549  "
            ]
          },
          "execution_count": 66,
          "metadata": {},
          "output_type": "execute_result"
        }
      ],
      "source": [
        "n_fts = 5\n",
        "trunc = TruncatedSVD(n_fts, random_state=21, n_iter=10)\n",
        "\n",
        "trunc_fts = trunc.fit_transform(X_vect)\n",
        "for i in range(n_fts):\n",
        "    all_data[f\"transction_detail_truncft_{i+1}\"] = trunc_fts[:, i]\n",
        "\n",
        "all_data.sample()"
      ]
    },
    {
      "cell_type": "code",
      "execution_count": 67,
      "metadata": {
        "colab": {
          "base_uri": "https://localhost:8080/"
        },
        "id": "03-1FU5mOgUV",
        "outputId": "8d6191a5-8648-420f-c305-68f241978a10"
      },
      "outputs": [
        {
          "data": {
            "text/plain": [
              "60"
            ]
          },
          "execution_count": 67,
          "metadata": {},
          "output_type": "execute_result"
        }
      ],
      "source": [
        "\n",
        "# del trunc, trunc_fts\n",
        "gc.collect()"
      ]
    },
    {
      "cell_type": "code",
      "execution_count": 68,
      "metadata": {
        "id": "0XNT_tJiOgUW"
      },
      "outputs": [],
      "source": [
        "classes = 12\n",
        "km = KMeans(\n",
        "        n_clusters=classes, init='random',\n",
        "        n_init=4, max_iter=1000,\n",
        "        tol=1e-04, random_state=0\n",
        "    )\n",
        "km.fit(X_vect)\n",
        "ktrans = km.predict(X_vect)\n",
        "all_data['transction_detail_kmeans'] = ktrans"
      ]
    },
    {
      "cell_type": "code",
      "execution_count": 69,
      "metadata": {
        "colab": {
          "base_uri": "https://localhost:8080/"
        },
        "id": "7_bExRtA1EPy",
        "outputId": "2d5ed9cf-544b-4226-fde1-9872cfdc8e57"
      },
      "outputs": [
        {
          "data": {
            "text/plain": [
              "22"
            ]
          },
          "execution_count": 69,
          "metadata": {},
          "output_type": "execute_result"
        }
      ],
      "source": [
        "del km, ktrans, X_vect\n",
        "gc.collect()"
      ]
    },
    {
      "cell_type": "code",
      "execution_count": 70,
      "metadata": {
        "colab": {
          "base_uri": "https://localhost:8080/"
        },
        "id": "shy5PXdiwqPv",
        "outputId": "48ab8f58-539c-4215-8ab5-6b76e2ce84dc"
      },
      "outputs": [
        {
          "data": {
            "text/plain": [
              "(77177, 3936)"
            ]
          },
          "execution_count": 70,
          "metadata": {},
          "output_type": "execute_result"
        }
      ],
      "source": [
        "for i in range(11):\n",
        "    all_data['TRANSACTION DETAILS WORD'] = all_data['TRANSACTION DETAILS WORD'].str.replace(str(i), \"\")\n",
        "wb_vector = TfidfVectorizer(analyzer='word',ngram_range=(1, 3))\n",
        "X_vect = wb_vector.fit_transform(all_data['TRANSACTION DETAILS WORD'])\n",
        "\n",
        "X_vect.shape"
      ]
    },
    {
      "cell_type": "code",
      "execution_count": 71,
      "metadata": {
        "colab": {
          "base_uri": "https://localhost:8080/",
          "height": 197
        },
        "id": "i6Htd7Cy1G23",
        "outputId": "56f2469e-d45c-4c0c-a695-26351d009fc9"
      },
      "outputs": [
        {
          "data": {
            "text/html": [
              "\n",
              "  <div id=\"df-309272a5-f9c5-4844-888f-204a73f76807\">\n",
              "    <div class=\"colab-df-container\">\n",
              "      <div>\n",
              "<style scoped>\n",
              "    .dataframe tbody tr th:only-of-type {\n",
              "        vertical-align: middle;\n",
              "    }\n",
              "\n",
              "    .dataframe tbody tr th {\n",
              "        vertical-align: top;\n",
              "    }\n",
              "\n",
              "    .dataframe thead th {\n",
              "        text-align: right;\n",
              "    }\n",
              "</style>\n",
              "<table border=\"1\" class=\"dataframe\">\n",
              "  <thead>\n",
              "    <tr style=\"text-align: right;\">\n",
              "      <th></th>\n",
              "      <th>DATE</th>\n",
              "      <th>TRANSACTION DETAILS</th>\n",
              "      <th>Account_NO</th>\n",
              "      <th>WITHDRAWAL AMT</th>\n",
              "      <th>DEPOSIT AMT</th>\n",
              "      <th>BALANCE AMT</th>\n",
              "      <th>Category</th>\n",
              "      <th>train</th>\n",
              "      <th>count_Account_NO</th>\n",
              "      <th>bef_deposit</th>\n",
              "      <th>bef_withdrawal</th>\n",
              "      <th>gb_feature_account_blance</th>\n",
              "      <th>gb_feature_account_balnce_diff</th>\n",
              "      <th>gb_feature_account_WITHDRAWAL</th>\n",
              "      <th>gb_feature_account_WITHDRAWAL_diff</th>\n",
              "      <th>gb_feature_account_DEPOSIT</th>\n",
              "      <th>gb_feature_account_DEPOSI_diff</th>\n",
              "      <th>dm-Bank_Charges</th>\n",
              "      <th>dm-Salary_and_wages</th>\n",
              "      <th>dm-Cash_Pickup</th>\n",
              "      <th>dm-Cheque_Payment</th>\n",
              "      <th>dm-Bill_Payments</th>\n",
              "      <th>dm-Internet_and_IT_Services</th>\n",
              "      <th>dm-Shopping</th>\n",
              "      <th>dm-Interest</th>\n",
              "      <th>dm-Insurance</th>\n",
              "      <th>dm-Cell_Phone_and_Airtime</th>\n",
              "      <th>dm-Loan_Repayment</th>\n",
              "      <th>TRANSACTION_DETAILS_bins</th>\n",
              "      <th>DATE_day</th>\n",
              "      <th>DATE_month</th>\n",
              "      <th>DATE_dayofweek</th>\n",
              "      <th>DATE_hour</th>\n",
              "      <th>DATE_quarter</th>\n",
              "      <th>TRANSACTION DETAILS WORD</th>\n",
              "      <th>transction_detail_truncft_1</th>\n",
              "      <th>transction_detail_truncft_2</th>\n",
              "      <th>transction_detail_truncft_3</th>\n",
              "      <th>transction_detail_truncft_4</th>\n",
              "      <th>transction_detail_truncft_5</th>\n",
              "      <th>transction_detail_kmeans</th>\n",
              "      <th>transction_detail_word_truncft_1</th>\n",
              "      <th>transction_detail_word_truncft_2</th>\n",
              "      <th>transction_detail_word_truncft_3</th>\n",
              "      <th>transction_detail_word_truncft_4</th>\n",
              "    </tr>\n",
              "  </thead>\n",
              "  <tbody>\n",
              "    <tr>\n",
              "      <th>41028</th>\n",
              "      <td>2017-06-19</td>\n",
              "      <td>NEFT/YESBN15365023366/INDFOR</td>\n",
              "      <td>4</td>\n",
              "      <td>16.523561</td>\n",
              "      <td>0.0</td>\n",
              "      <td>2.201157e+10</td>\n",
              "      <td>Money-Transfer</td>\n",
              "      <td>1</td>\n",
              "      <td>8370</td>\n",
              "      <td>2.201157e+10</td>\n",
              "      <td>2.201157e+10</td>\n",
              "      <td>2.189743e+10</td>\n",
              "      <td>1.141362e+08</td>\n",
              "      <td>6.008609</td>\n",
              "      <td>10.514951</td>\n",
              "      <td>8.583699</td>\n",
              "      <td>-8.583699</td>\n",
              "      <td>0</td>\n",
              "      <td>0</td>\n",
              "      <td>0</td>\n",
              "      <td>0</td>\n",
              "      <td>0</td>\n",
              "      <td>0</td>\n",
              "      <td>0</td>\n",
              "      <td>0</td>\n",
              "      <td>0</td>\n",
              "      <td>0</td>\n",
              "      <td>0</td>\n",
              "      <td>11</td>\n",
              "      <td>19</td>\n",
              "      <td>6</td>\n",
              "      <td>0</td>\n",
              "      <td>5</td>\n",
              "      <td>2</td>\n",
              "      <td>NEFT YESBN INDFOR</td>\n",
              "      <td>0.034671</td>\n",
              "      <td>-0.005403</td>\n",
              "      <td>0.025845</td>\n",
              "      <td>-0.001629</td>\n",
              "      <td>-0.003384</td>\n",
              "      <td>0</td>\n",
              "      <td>9.031695e-07</td>\n",
              "      <td>0.000002</td>\n",
              "      <td>-0.000016</td>\n",
              "      <td>0.000079</td>\n",
              "    </tr>\n",
              "  </tbody>\n",
              "</table>\n",
              "</div>\n",
              "      <button class=\"colab-df-convert\" onclick=\"convertToInteractive('df-309272a5-f9c5-4844-888f-204a73f76807')\"\n",
              "              title=\"Convert this dataframe to an interactive table.\"\n",
              "              style=\"display:none;\">\n",
              "        \n",
              "  <svg xmlns=\"http://www.w3.org/2000/svg\" height=\"24px\"viewBox=\"0 0 24 24\"\n",
              "       width=\"24px\">\n",
              "    <path d=\"M0 0h24v24H0V0z\" fill=\"none\"/>\n",
              "    <path d=\"M18.56 5.44l.94 2.06.94-2.06 2.06-.94-2.06-.94-.94-2.06-.94 2.06-2.06.94zm-11 1L8.5 8.5l.94-2.06 2.06-.94-2.06-.94L8.5 2.5l-.94 2.06-2.06.94zm10 10l.94 2.06.94-2.06 2.06-.94-2.06-.94-.94-2.06-.94 2.06-2.06.94z\"/><path d=\"M17.41 7.96l-1.37-1.37c-.4-.4-.92-.59-1.43-.59-.52 0-1.04.2-1.43.59L10.3 9.45l-7.72 7.72c-.78.78-.78 2.05 0 2.83L4 21.41c.39.39.9.59 1.41.59.51 0 1.02-.2 1.41-.59l7.78-7.78 2.81-2.81c.8-.78.8-2.07 0-2.86zM5.41 20L4 18.59l7.72-7.72 1.47 1.35L5.41 20z\"/>\n",
              "  </svg>\n",
              "      </button>\n",
              "      \n",
              "  <style>\n",
              "    .colab-df-container {\n",
              "      display:flex;\n",
              "      flex-wrap:wrap;\n",
              "      gap: 12px;\n",
              "    }\n",
              "\n",
              "    .colab-df-convert {\n",
              "      background-color: #E8F0FE;\n",
              "      border: none;\n",
              "      border-radius: 50%;\n",
              "      cursor: pointer;\n",
              "      display: none;\n",
              "      fill: #1967D2;\n",
              "      height: 32px;\n",
              "      padding: 0 0 0 0;\n",
              "      width: 32px;\n",
              "    }\n",
              "\n",
              "    .colab-df-convert:hover {\n",
              "      background-color: #E2EBFA;\n",
              "      box-shadow: 0px 1px 2px rgba(60, 64, 67, 0.3), 0px 1px 3px 1px rgba(60, 64, 67, 0.15);\n",
              "      fill: #174EA6;\n",
              "    }\n",
              "\n",
              "    [theme=dark] .colab-df-convert {\n",
              "      background-color: #3B4455;\n",
              "      fill: #D2E3FC;\n",
              "    }\n",
              "\n",
              "    [theme=dark] .colab-df-convert:hover {\n",
              "      background-color: #434B5C;\n",
              "      box-shadow: 0px 1px 3px 1px rgba(0, 0, 0, 0.15);\n",
              "      filter: drop-shadow(0px 1px 2px rgba(0, 0, 0, 0.3));\n",
              "      fill: #FFFFFF;\n",
              "    }\n",
              "  </style>\n",
              "\n",
              "      <script>\n",
              "        const buttonEl =\n",
              "          document.querySelector('#df-309272a5-f9c5-4844-888f-204a73f76807 button.colab-df-convert');\n",
              "        buttonEl.style.display =\n",
              "          google.colab.kernel.accessAllowed ? 'block' : 'none';\n",
              "\n",
              "        async function convertToInteractive(key) {\n",
              "          const element = document.querySelector('#df-309272a5-f9c5-4844-888f-204a73f76807');\n",
              "          const dataTable =\n",
              "            await google.colab.kernel.invokeFunction('convertToInteractive',\n",
              "                                                     [key], {});\n",
              "          if (!dataTable) return;\n",
              "\n",
              "          const docLinkHtml = 'Like what you see? Visit the ' +\n",
              "            '<a target=\"_blank\" href=https://colab.research.google.com/notebooks/data_table.ipynb>data table notebook</a>'\n",
              "            + ' to learn more about interactive tables.';\n",
              "          element.innerHTML = '';\n",
              "          dataTable['output_type'] = 'display_data';\n",
              "          await google.colab.output.renderOutput(dataTable, element);\n",
              "          const docLink = document.createElement('div');\n",
              "          docLink.innerHTML = docLinkHtml;\n",
              "          element.appendChild(docLink);\n",
              "        }\n",
              "      </script>\n",
              "    </div>\n",
              "  </div>\n",
              "  "
            ],
            "text/plain": [
              "            DATE           TRANSACTION DETAILS  Account_NO  WITHDRAWAL AMT  \\\n",
              "41028 2017-06-19  NEFT/YESBN15365023366/INDFOR           4       16.523561   \n",
              "\n",
              "       DEPOSIT AMT   BALANCE AMT        Category  train  count_Account_NO  \\\n",
              "41028          0.0  2.201157e+10  Money-Transfer      1              8370   \n",
              "\n",
              "        bef_deposit  bef_withdrawal  gb_feature_account_blance  \\\n",
              "41028  2.201157e+10    2.201157e+10               2.189743e+10   \n",
              "\n",
              "       gb_feature_account_balnce_diff  gb_feature_account_WITHDRAWAL  \\\n",
              "41028                    1.141362e+08                       6.008609   \n",
              "\n",
              "       gb_feature_account_WITHDRAWAL_diff  gb_feature_account_DEPOSIT  \\\n",
              "41028                           10.514951                    8.583699   \n",
              "\n",
              "       gb_feature_account_DEPOSI_diff  dm-Bank_Charges  dm-Salary_and_wages  \\\n",
              "41028                       -8.583699                0                    0   \n",
              "\n",
              "       dm-Cash_Pickup  dm-Cheque_Payment  dm-Bill_Payments  \\\n",
              "41028               0                  0                 0   \n",
              "\n",
              "       dm-Internet_and_IT_Services  dm-Shopping  dm-Interest  dm-Insurance  \\\n",
              "41028                            0            0            0             0   \n",
              "\n",
              "       dm-Cell_Phone_and_Airtime  dm-Loan_Repayment  TRANSACTION_DETAILS_bins  \\\n",
              "41028                          0                  0                        11   \n",
              "\n",
              "      DATE_day DATE_month DATE_dayofweek  DATE_hour DATE_quarter  \\\n",
              "41028       19          6              0          5            2   \n",
              "\n",
              "      TRANSACTION DETAILS WORD  transction_detail_truncft_1  \\\n",
              "41028        NEFT YESBN INDFOR                     0.034671   \n",
              "\n",
              "       transction_detail_truncft_2  transction_detail_truncft_3  \\\n",
              "41028                    -0.005403                     0.025845   \n",
              "\n",
              "       transction_detail_truncft_4  transction_detail_truncft_5  \\\n",
              "41028                    -0.001629                    -0.003384   \n",
              "\n",
              "       transction_detail_kmeans  transction_detail_word_truncft_1  \\\n",
              "41028                         0                      9.031695e-07   \n",
              "\n",
              "       transction_detail_word_truncft_2  transction_detail_word_truncft_3  \\\n",
              "41028                          0.000002                         -0.000016   \n",
              "\n",
              "       transction_detail_word_truncft_4  \n",
              "41028                          0.000079  "
            ]
          },
          "execution_count": 71,
          "metadata": {},
          "output_type": "execute_result"
        }
      ],
      "source": [
        "n_fts = 4\n",
        "trunc = TruncatedSVD(n_fts)\n",
        "\n",
        "trunc_fts = trunc.fit_transform(X_vect)\n",
        "for i in range(n_fts):\n",
        "    all_data[f\"transction_detail_word_truncft_{i+1}\"] = trunc_fts[:, i]\n",
        "\n",
        "all_data.sample()"
      ]
    },
    {
      "cell_type": "code",
      "execution_count": 72,
      "metadata": {
        "colab": {
          "base_uri": "https://localhost:8080/"
        },
        "id": "spUU0D4if8nV",
        "outputId": "13a54d7f-ca4d-490a-b934-f87bb9ece849"
      },
      "outputs": [
        {
          "data": {
            "text/plain": [
              "46"
            ]
          },
          "execution_count": 72,
          "metadata": {},
          "output_type": "execute_result"
        }
      ],
      "source": [
        "del trunc, trunc_fts, X_vect\n",
        "\n",
        "gc.collect()"
      ]
    },
    {
      "cell_type": "markdown",
      "metadata": {
        "id": "HJSfy6cBw38V"
      },
      "source": [
        "### Processing"
      ]
    },
    {
      "cell_type": "code",
      "execution_count": 73,
      "metadata": {
        "id": "dHjnINwcOgUY"
      },
      "outputs": [],
      "source": [
        "all_data.drop(['DATE'], axis=1, inplace=True)"
      ]
    },
    {
      "cell_type": "markdown",
      "metadata": {
        "id": "zTvXVYYnxYPU"
      },
      "source": [
        "Label Encoding for categorical columns"
      ]
    },
    {
      "cell_type": "code",
      "execution_count": 74,
      "metadata": {
        "colab": {
          "base_uri": "https://localhost:8080/"
        },
        "id": "Mu48po8vOgUZ",
        "outputId": "7aa40c34-a341-4998-b36c-b2c29ad138db"
      },
      "outputs": [
        {
          "name": "stdout",
          "output_type": "stream",
          "text": [
            "['TRANSACTION DETAILS', 'DATE_day', 'DATE_month', 'DATE_dayofweek', 'DATE_quarter', 'TRANSACTION DETAILS WORD']\n"
          ]
        }
      ],
      "source": [
        "cat_fts = [c for c in all_data.select_dtypes(include=['bool', 'object']).columns if c not in ['Category','Account_NO']]\n",
        "print(cat_fts)\n",
        "le = LabelEncoder()\n",
        "for ft in cat_fts:\n",
        "    all_data[ft] = le.fit_transform(all_data[ft])"
      ]
    },
    {
      "cell_type": "code",
      "execution_count": 75,
      "metadata": {
        "id": "19azRcFtQE_v"
      },
      "outputs": [],
      "source": [
        "all_data = pd.get_dummies(data=all_data, columns=['Account_NO'])\n"
      ]
    },
    {
      "cell_type": "code",
      "execution_count": 76,
      "metadata": {
        "colab": {
          "base_uri": "https://localhost:8080/",
          "height": 392
        },
        "id": "0HkBDZC3kJ6u",
        "outputId": "aedc6de1-6bb1-4fdc-cd24-e91e8a6043c6"
      },
      "outputs": [
        {
          "data": {
            "text/html": [
              "\n",
              "  <div id=\"df-baa0a6eb-8817-409a-a3dc-fe65aa0cf7b9\">\n",
              "    <div class=\"colab-df-container\">\n",
              "      <div>\n",
              "<style scoped>\n",
              "    .dataframe tbody tr th:only-of-type {\n",
              "        vertical-align: middle;\n",
              "    }\n",
              "\n",
              "    .dataframe tbody tr th {\n",
              "        vertical-align: top;\n",
              "    }\n",
              "\n",
              "    .dataframe thead th {\n",
              "        text-align: right;\n",
              "    }\n",
              "</style>\n",
              "<table border=\"1\" class=\"dataframe\">\n",
              "  <thead>\n",
              "    <tr style=\"text-align: right;\">\n",
              "      <th></th>\n",
              "      <th>TRANSACTION DETAILS</th>\n",
              "      <th>WITHDRAWAL AMT</th>\n",
              "      <th>DEPOSIT AMT</th>\n",
              "      <th>BALANCE AMT</th>\n",
              "      <th>Category</th>\n",
              "      <th>train</th>\n",
              "      <th>count_Account_NO</th>\n",
              "      <th>bef_deposit</th>\n",
              "      <th>bef_withdrawal</th>\n",
              "      <th>gb_feature_account_blance</th>\n",
              "      <th>gb_feature_account_balnce_diff</th>\n",
              "      <th>gb_feature_account_WITHDRAWAL</th>\n",
              "      <th>gb_feature_account_WITHDRAWAL_diff</th>\n",
              "      <th>gb_feature_account_DEPOSIT</th>\n",
              "      <th>gb_feature_account_DEPOSI_diff</th>\n",
              "      <th>dm-Bank_Charges</th>\n",
              "      <th>dm-Salary_and_wages</th>\n",
              "      <th>dm-Cash_Pickup</th>\n",
              "      <th>dm-Cheque_Payment</th>\n",
              "      <th>dm-Bill_Payments</th>\n",
              "      <th>dm-Internet_and_IT_Services</th>\n",
              "      <th>dm-Shopping</th>\n",
              "      <th>dm-Interest</th>\n",
              "      <th>dm-Insurance</th>\n",
              "      <th>dm-Cell_Phone_and_Airtime</th>\n",
              "      <th>dm-Loan_Repayment</th>\n",
              "      <th>TRANSACTION_DETAILS_bins</th>\n",
              "      <th>DATE_day</th>\n",
              "      <th>DATE_month</th>\n",
              "      <th>DATE_dayofweek</th>\n",
              "      <th>DATE_hour</th>\n",
              "      <th>DATE_quarter</th>\n",
              "      <th>TRANSACTION DETAILS WORD</th>\n",
              "      <th>transction_detail_truncft_1</th>\n",
              "      <th>transction_detail_truncft_2</th>\n",
              "      <th>transction_detail_truncft_3</th>\n",
              "      <th>transction_detail_truncft_4</th>\n",
              "      <th>transction_detail_truncft_5</th>\n",
              "      <th>transction_detail_kmeans</th>\n",
              "      <th>transction_detail_word_truncft_1</th>\n",
              "      <th>transction_detail_word_truncft_2</th>\n",
              "      <th>transction_detail_word_truncft_3</th>\n",
              "      <th>transction_detail_word_truncft_4</th>\n",
              "      <th>Account_NO_1</th>\n",
              "      <th>Account_NO_2</th>\n",
              "      <th>Account_NO_3</th>\n",
              "      <th>Account_NO_4</th>\n",
              "      <th>Account_NO_5</th>\n",
              "      <th>Account_NO_6</th>\n",
              "      <th>Account_NO_7</th>\n",
              "    </tr>\n",
              "  </thead>\n",
              "  <tbody>\n",
              "    <tr>\n",
              "      <th>0</th>\n",
              "      <td>29123</td>\n",
              "      <td>0.0</td>\n",
              "      <td>16.523561</td>\n",
              "      <td>15000000.0</td>\n",
              "      <td>Money-Transfer</td>\n",
              "      <td>1</td>\n",
              "      <td>12196</td>\n",
              "      <td>1.499998e+07</td>\n",
              "      <td>15000000.0</td>\n",
              "      <td>7.242483e+09</td>\n",
              "      <td>-7.227483e+09</td>\n",
              "      <td>4.64617</td>\n",
              "      <td>-4.64617</td>\n",
              "      <td>3.928218</td>\n",
              "      <td>12.595343</td>\n",
              "      <td>0</td>\n",
              "      <td>0</td>\n",
              "      <td>0</td>\n",
              "      <td>0</td>\n",
              "      <td>0</td>\n",
              "      <td>0</td>\n",
              "      <td>0</td>\n",
              "      <td>0</td>\n",
              "      <td>0</td>\n",
              "      <td>0</td>\n",
              "      <td>0</td>\n",
              "      <td>11</td>\n",
              "      <td>20</td>\n",
              "      <td>4</td>\n",
              "      <td>4</td>\n",
              "      <td>5</td>\n",
              "      <td>0</td>\n",
              "      <td>1344</td>\n",
              "      <td>0.100804</td>\n",
              "      <td>-0.016238</td>\n",
              "      <td>0.155537</td>\n",
              "      <td>0.001464</td>\n",
              "      <td>-0.006472</td>\n",
              "      <td>0</td>\n",
              "      <td>-0.000007</td>\n",
              "      <td>-0.000097</td>\n",
              "      <td>-0.000235</td>\n",
              "      <td>0.002341</td>\n",
              "      <td>0</td>\n",
              "      <td>0</td>\n",
              "      <td>1</td>\n",
              "      <td>0</td>\n",
              "      <td>0</td>\n",
              "      <td>0</td>\n",
              "      <td>0</td>\n",
              "    </tr>\n",
              "    <tr>\n",
              "      <th>1</th>\n",
              "      <td>29126</td>\n",
              "      <td>0.0</td>\n",
              "      <td>16.523561</td>\n",
              "      <td>60000000.0</td>\n",
              "      <td>Money-Transfer</td>\n",
              "      <td>1</td>\n",
              "      <td>12196</td>\n",
              "      <td>5.999998e+07</td>\n",
              "      <td>60000000.0</td>\n",
              "      <td>7.242483e+09</td>\n",
              "      <td>-7.182483e+09</td>\n",
              "      <td>4.64617</td>\n",
              "      <td>-4.64617</td>\n",
              "      <td>3.928218</td>\n",
              "      <td>12.595343</td>\n",
              "      <td>0</td>\n",
              "      <td>0</td>\n",
              "      <td>0</td>\n",
              "      <td>0</td>\n",
              "      <td>0</td>\n",
              "      <td>0</td>\n",
              "      <td>0</td>\n",
              "      <td>0</td>\n",
              "      <td>0</td>\n",
              "      <td>0</td>\n",
              "      <td>0</td>\n",
              "      <td>11</td>\n",
              "      <td>20</td>\n",
              "      <td>4</td>\n",
              "      <td>4</td>\n",
              "      <td>5</td>\n",
              "      <td>0</td>\n",
              "      <td>1344</td>\n",
              "      <td>0.101601</td>\n",
              "      <td>-0.016371</td>\n",
              "      <td>0.156762</td>\n",
              "      <td>0.001476</td>\n",
              "      <td>-0.006528</td>\n",
              "      <td>0</td>\n",
              "      <td>-0.000007</td>\n",
              "      <td>-0.000097</td>\n",
              "      <td>-0.000235</td>\n",
              "      <td>0.002341</td>\n",
              "      <td>0</td>\n",
              "      <td>0</td>\n",
              "      <td>1</td>\n",
              "      <td>0</td>\n",
              "      <td>0</td>\n",
              "      <td>0</td>\n",
              "      <td>0</td>\n",
              "    </tr>\n",
              "    <tr>\n",
              "      <th>2</th>\n",
              "      <td>29128</td>\n",
              "      <td>0.0</td>\n",
              "      <td>16.523561</td>\n",
              "      <td>90000000.0</td>\n",
              "      <td>Money-Transfer</td>\n",
              "      <td>1</td>\n",
              "      <td>12196</td>\n",
              "      <td>8.999998e+07</td>\n",
              "      <td>90000000.0</td>\n",
              "      <td>7.242483e+09</td>\n",
              "      <td>-7.152483e+09</td>\n",
              "      <td>4.64617</td>\n",
              "      <td>-4.64617</td>\n",
              "      <td>3.928218</td>\n",
              "      <td>12.595343</td>\n",
              "      <td>0</td>\n",
              "      <td>0</td>\n",
              "      <td>0</td>\n",
              "      <td>0</td>\n",
              "      <td>0</td>\n",
              "      <td>0</td>\n",
              "      <td>0</td>\n",
              "      <td>0</td>\n",
              "      <td>0</td>\n",
              "      <td>0</td>\n",
              "      <td>0</td>\n",
              "      <td>11</td>\n",
              "      <td>20</td>\n",
              "      <td>4</td>\n",
              "      <td>4</td>\n",
              "      <td>5</td>\n",
              "      <td>0</td>\n",
              "      <td>1344</td>\n",
              "      <td>0.102049</td>\n",
              "      <td>-0.016463</td>\n",
              "      <td>0.157287</td>\n",
              "      <td>0.001459</td>\n",
              "      <td>-0.006523</td>\n",
              "      <td>0</td>\n",
              "      <td>-0.000007</td>\n",
              "      <td>-0.000097</td>\n",
              "      <td>-0.000235</td>\n",
              "      <td>0.002341</td>\n",
              "      <td>0</td>\n",
              "      <td>0</td>\n",
              "      <td>1</td>\n",
              "      <td>0</td>\n",
              "      <td>0</td>\n",
              "      <td>0</td>\n",
              "      <td>0</td>\n",
              "    </tr>\n",
              "    <tr>\n",
              "      <th>3</th>\n",
              "      <td>29129</td>\n",
              "      <td>0.0</td>\n",
              "      <td>16.118096</td>\n",
              "      <td>100000000.0</td>\n",
              "      <td>Money-Transfer</td>\n",
              "      <td>1</td>\n",
              "      <td>12196</td>\n",
              "      <td>9.999998e+07</td>\n",
              "      <td>100000000.0</td>\n",
              "      <td>7.242483e+09</td>\n",
              "      <td>-7.142483e+09</td>\n",
              "      <td>4.64617</td>\n",
              "      <td>-4.64617</td>\n",
              "      <td>3.928218</td>\n",
              "      <td>12.189877</td>\n",
              "      <td>0</td>\n",
              "      <td>0</td>\n",
              "      <td>0</td>\n",
              "      <td>0</td>\n",
              "      <td>0</td>\n",
              "      <td>0</td>\n",
              "      <td>0</td>\n",
              "      <td>0</td>\n",
              "      <td>0</td>\n",
              "      <td>0</td>\n",
              "      <td>0</td>\n",
              "      <td>11</td>\n",
              "      <td>20</td>\n",
              "      <td>4</td>\n",
              "      <td>4</td>\n",
              "      <td>5</td>\n",
              "      <td>0</td>\n",
              "      <td>1344</td>\n",
              "      <td>0.100918</td>\n",
              "      <td>-0.016264</td>\n",
              "      <td>0.155778</td>\n",
              "      <td>0.001462</td>\n",
              "      <td>-0.006522</td>\n",
              "      <td>0</td>\n",
              "      <td>-0.000007</td>\n",
              "      <td>-0.000097</td>\n",
              "      <td>-0.000235</td>\n",
              "      <td>0.002341</td>\n",
              "      <td>0</td>\n",
              "      <td>0</td>\n",
              "      <td>1</td>\n",
              "      <td>0</td>\n",
              "      <td>0</td>\n",
              "      <td>0</td>\n",
              "      <td>0</td>\n",
              "    </tr>\n",
              "    <tr>\n",
              "      <th>4</th>\n",
              "      <td>29125</td>\n",
              "      <td>0.0</td>\n",
              "      <td>16.523561</td>\n",
              "      <td>45000000.0</td>\n",
              "      <td>Money-Transfer</td>\n",
              "      <td>1</td>\n",
              "      <td>12196</td>\n",
              "      <td>4.499998e+07</td>\n",
              "      <td>45000000.0</td>\n",
              "      <td>7.242483e+09</td>\n",
              "      <td>-7.197483e+09</td>\n",
              "      <td>4.64617</td>\n",
              "      <td>-4.64617</td>\n",
              "      <td>3.928218</td>\n",
              "      <td>12.595343</td>\n",
              "      <td>0</td>\n",
              "      <td>0</td>\n",
              "      <td>0</td>\n",
              "      <td>0</td>\n",
              "      <td>0</td>\n",
              "      <td>0</td>\n",
              "      <td>0</td>\n",
              "      <td>0</td>\n",
              "      <td>0</td>\n",
              "      <td>0</td>\n",
              "      <td>0</td>\n",
              "      <td>11</td>\n",
              "      <td>20</td>\n",
              "      <td>4</td>\n",
              "      <td>4</td>\n",
              "      <td>5</td>\n",
              "      <td>0</td>\n",
              "      <td>1344</td>\n",
              "      <td>0.101799</td>\n",
              "      <td>-0.016450</td>\n",
              "      <td>0.157030</td>\n",
              "      <td>0.001452</td>\n",
              "      <td>-0.006581</td>\n",
              "      <td>0</td>\n",
              "      <td>-0.000007</td>\n",
              "      <td>-0.000097</td>\n",
              "      <td>-0.000235</td>\n",
              "      <td>0.002341</td>\n",
              "      <td>0</td>\n",
              "      <td>0</td>\n",
              "      <td>1</td>\n",
              "      <td>0</td>\n",
              "      <td>0</td>\n",
              "      <td>0</td>\n",
              "      <td>0</td>\n",
              "    </tr>\n",
              "  </tbody>\n",
              "</table>\n",
              "</div>\n",
              "      <button class=\"colab-df-convert\" onclick=\"convertToInteractive('df-baa0a6eb-8817-409a-a3dc-fe65aa0cf7b9')\"\n",
              "              title=\"Convert this dataframe to an interactive table.\"\n",
              "              style=\"display:none;\">\n",
              "        \n",
              "  <svg xmlns=\"http://www.w3.org/2000/svg\" height=\"24px\"viewBox=\"0 0 24 24\"\n",
              "       width=\"24px\">\n",
              "    <path d=\"M0 0h24v24H0V0z\" fill=\"none\"/>\n",
              "    <path d=\"M18.56 5.44l.94 2.06.94-2.06 2.06-.94-2.06-.94-.94-2.06-.94 2.06-2.06.94zm-11 1L8.5 8.5l.94-2.06 2.06-.94-2.06-.94L8.5 2.5l-.94 2.06-2.06.94zm10 10l.94 2.06.94-2.06 2.06-.94-2.06-.94-.94-2.06-.94 2.06-2.06.94z\"/><path d=\"M17.41 7.96l-1.37-1.37c-.4-.4-.92-.59-1.43-.59-.52 0-1.04.2-1.43.59L10.3 9.45l-7.72 7.72c-.78.78-.78 2.05 0 2.83L4 21.41c.39.39.9.59 1.41.59.51 0 1.02-.2 1.41-.59l7.78-7.78 2.81-2.81c.8-.78.8-2.07 0-2.86zM5.41 20L4 18.59l7.72-7.72 1.47 1.35L5.41 20z\"/>\n",
              "  </svg>\n",
              "      </button>\n",
              "      \n",
              "  <style>\n",
              "    .colab-df-container {\n",
              "      display:flex;\n",
              "      flex-wrap:wrap;\n",
              "      gap: 12px;\n",
              "    }\n",
              "\n",
              "    .colab-df-convert {\n",
              "      background-color: #E8F0FE;\n",
              "      border: none;\n",
              "      border-radius: 50%;\n",
              "      cursor: pointer;\n",
              "      display: none;\n",
              "      fill: #1967D2;\n",
              "      height: 32px;\n",
              "      padding: 0 0 0 0;\n",
              "      width: 32px;\n",
              "    }\n",
              "\n",
              "    .colab-df-convert:hover {\n",
              "      background-color: #E2EBFA;\n",
              "      box-shadow: 0px 1px 2px rgba(60, 64, 67, 0.3), 0px 1px 3px 1px rgba(60, 64, 67, 0.15);\n",
              "      fill: #174EA6;\n",
              "    }\n",
              "\n",
              "    [theme=dark] .colab-df-convert {\n",
              "      background-color: #3B4455;\n",
              "      fill: #D2E3FC;\n",
              "    }\n",
              "\n",
              "    [theme=dark] .colab-df-convert:hover {\n",
              "      background-color: #434B5C;\n",
              "      box-shadow: 0px 1px 3px 1px rgba(0, 0, 0, 0.15);\n",
              "      filter: drop-shadow(0px 1px 2px rgba(0, 0, 0, 0.3));\n",
              "      fill: #FFFFFF;\n",
              "    }\n",
              "  </style>\n",
              "\n",
              "      <script>\n",
              "        const buttonEl =\n",
              "          document.querySelector('#df-baa0a6eb-8817-409a-a3dc-fe65aa0cf7b9 button.colab-df-convert');\n",
              "        buttonEl.style.display =\n",
              "          google.colab.kernel.accessAllowed ? 'block' : 'none';\n",
              "\n",
              "        async function convertToInteractive(key) {\n",
              "          const element = document.querySelector('#df-baa0a6eb-8817-409a-a3dc-fe65aa0cf7b9');\n",
              "          const dataTable =\n",
              "            await google.colab.kernel.invokeFunction('convertToInteractive',\n",
              "                                                     [key], {});\n",
              "          if (!dataTable) return;\n",
              "\n",
              "          const docLinkHtml = 'Like what you see? Visit the ' +\n",
              "            '<a target=\"_blank\" href=https://colab.research.google.com/notebooks/data_table.ipynb>data table notebook</a>'\n",
              "            + ' to learn more about interactive tables.';\n",
              "          element.innerHTML = '';\n",
              "          dataTable['output_type'] = 'display_data';\n",
              "          await google.colab.output.renderOutput(dataTable, element);\n",
              "          const docLink = document.createElement('div');\n",
              "          docLink.innerHTML = docLinkHtml;\n",
              "          element.appendChild(docLink);\n",
              "        }\n",
              "      </script>\n",
              "    </div>\n",
              "  </div>\n",
              "  "
            ],
            "text/plain": [
              "   TRANSACTION DETAILS  WITHDRAWAL AMT  DEPOSIT AMT  BALANCE AMT  \\\n",
              "0                29123             0.0    16.523561   15000000.0   \n",
              "1                29126             0.0    16.523561   60000000.0   \n",
              "2                29128             0.0    16.523561   90000000.0   \n",
              "3                29129             0.0    16.118096  100000000.0   \n",
              "4                29125             0.0    16.523561   45000000.0   \n",
              "\n",
              "         Category  train  count_Account_NO   bef_deposit  bef_withdrawal  \\\n",
              "0  Money-Transfer      1             12196  1.499998e+07      15000000.0   \n",
              "1  Money-Transfer      1             12196  5.999998e+07      60000000.0   \n",
              "2  Money-Transfer      1             12196  8.999998e+07      90000000.0   \n",
              "3  Money-Transfer      1             12196  9.999998e+07     100000000.0   \n",
              "4  Money-Transfer      1             12196  4.499998e+07      45000000.0   \n",
              "\n",
              "   gb_feature_account_blance  gb_feature_account_balnce_diff  \\\n",
              "0               7.242483e+09                   -7.227483e+09   \n",
              "1               7.242483e+09                   -7.182483e+09   \n",
              "2               7.242483e+09                   -7.152483e+09   \n",
              "3               7.242483e+09                   -7.142483e+09   \n",
              "4               7.242483e+09                   -7.197483e+09   \n",
              "\n",
              "   gb_feature_account_WITHDRAWAL  gb_feature_account_WITHDRAWAL_diff  \\\n",
              "0                        4.64617                            -4.64617   \n",
              "1                        4.64617                            -4.64617   \n",
              "2                        4.64617                            -4.64617   \n",
              "3                        4.64617                            -4.64617   \n",
              "4                        4.64617                            -4.64617   \n",
              "\n",
              "   gb_feature_account_DEPOSIT  gb_feature_account_DEPOSI_diff  \\\n",
              "0                    3.928218                       12.595343   \n",
              "1                    3.928218                       12.595343   \n",
              "2                    3.928218                       12.595343   \n",
              "3                    3.928218                       12.189877   \n",
              "4                    3.928218                       12.595343   \n",
              "\n",
              "   dm-Bank_Charges  dm-Salary_and_wages  dm-Cash_Pickup  dm-Cheque_Payment  \\\n",
              "0                0                    0               0                  0   \n",
              "1                0                    0               0                  0   \n",
              "2                0                    0               0                  0   \n",
              "3                0                    0               0                  0   \n",
              "4                0                    0               0                  0   \n",
              "\n",
              "   dm-Bill_Payments  dm-Internet_and_IT_Services  dm-Shopping  dm-Interest  \\\n",
              "0                 0                            0            0            0   \n",
              "1                 0                            0            0            0   \n",
              "2                 0                            0            0            0   \n",
              "3                 0                            0            0            0   \n",
              "4                 0                            0            0            0   \n",
              "\n",
              "   dm-Insurance  dm-Cell_Phone_and_Airtime  dm-Loan_Repayment  \\\n",
              "0             0                          0                  0   \n",
              "1             0                          0                  0   \n",
              "2             0                          0                  0   \n",
              "3             0                          0                  0   \n",
              "4             0                          0                  0   \n",
              "\n",
              "   TRANSACTION_DETAILS_bins  DATE_day  DATE_month  DATE_dayofweek  DATE_hour  \\\n",
              "0                        11        20           4               4          5   \n",
              "1                        11        20           4               4          5   \n",
              "2                        11        20           4               4          5   \n",
              "3                        11        20           4               4          5   \n",
              "4                        11        20           4               4          5   \n",
              "\n",
              "   DATE_quarter  TRANSACTION DETAILS WORD  transction_detail_truncft_1  \\\n",
              "0             0                      1344                     0.100804   \n",
              "1             0                      1344                     0.101601   \n",
              "2             0                      1344                     0.102049   \n",
              "3             0                      1344                     0.100918   \n",
              "4             0                      1344                     0.101799   \n",
              "\n",
              "   transction_detail_truncft_2  transction_detail_truncft_3  \\\n",
              "0                    -0.016238                     0.155537   \n",
              "1                    -0.016371                     0.156762   \n",
              "2                    -0.016463                     0.157287   \n",
              "3                    -0.016264                     0.155778   \n",
              "4                    -0.016450                     0.157030   \n",
              "\n",
              "   transction_detail_truncft_4  transction_detail_truncft_5  \\\n",
              "0                     0.001464                    -0.006472   \n",
              "1                     0.001476                    -0.006528   \n",
              "2                     0.001459                    -0.006523   \n",
              "3                     0.001462                    -0.006522   \n",
              "4                     0.001452                    -0.006581   \n",
              "\n",
              "   transction_detail_kmeans  transction_detail_word_truncft_1  \\\n",
              "0                         0                         -0.000007   \n",
              "1                         0                         -0.000007   \n",
              "2                         0                         -0.000007   \n",
              "3                         0                         -0.000007   \n",
              "4                         0                         -0.000007   \n",
              "\n",
              "   transction_detail_word_truncft_2  transction_detail_word_truncft_3  \\\n",
              "0                         -0.000097                         -0.000235   \n",
              "1                         -0.000097                         -0.000235   \n",
              "2                         -0.000097                         -0.000235   \n",
              "3                         -0.000097                         -0.000235   \n",
              "4                         -0.000097                         -0.000235   \n",
              "\n",
              "   transction_detail_word_truncft_4  Account_NO_1  Account_NO_2  Account_NO_3  \\\n",
              "0                          0.002341             0             0             1   \n",
              "1                          0.002341             0             0             1   \n",
              "2                          0.002341             0             0             1   \n",
              "3                          0.002341             0             0             1   \n",
              "4                          0.002341             0             0             1   \n",
              "\n",
              "   Account_NO_4  Account_NO_5  Account_NO_6  Account_NO_7  \n",
              "0             0             0             0             0  \n",
              "1             0             0             0             0  \n",
              "2             0             0             0             0  \n",
              "3             0             0             0             0  \n",
              "4             0             0             0             0  "
            ]
          },
          "execution_count": 76,
          "metadata": {},
          "output_type": "execute_result"
        }
      ],
      "source": [
        "all_data.head()"
      ]
    },
    {
      "cell_type": "markdown",
      "metadata": {
        "id": "adncTbdRBqZ2"
      },
      "source": [
        "## Statistical Information"
      ]
    },
    {
      "cell_type": "code",
      "execution_count": 78,
      "metadata": {
        "id": "Plx5H8CzBqZ3"
      },
      "outputs": [],
      "source": [
        "num_cols = ['DEPOSIT AMT','BALANCE AMT','bef_deposit','bef_withdrawal']\n",
        "def add_stats(data, feats):\n",
        "    \n",
        "    before_ = data.shape[1]\n",
        "    cols = feats\n",
        "    data['f_min']   = data[cols].fillna(0).min(axis = 1)\n",
        "    data['f_max']   = data[cols].fillna(0).max(axis = 1)\n",
        "    data['f_mean']  = data[cols].fillna(0).mean(axis = 1)\n",
        "    data['f_sd']    = data[cols].fillna(0).std(axis = 1)\n",
        "    data['f_median']= data[cols].fillna(0).median(axis = 1)\n",
        "    data['f_sum']   = data[cols].fillna(0).sum(axis = 1)\n",
        "    data['f_skew']  = data[cols].fillna(0).skew(axis=1)\n",
        "\n",
        "    after_ = data.shape[1]\n",
        "    new_cols = data.iloc[:,before_:after_].columns.tolist()\n",
        "    \n",
        "    return data, new_cols"
      ]
    },
    {
      "cell_type": "markdown",
      "metadata": {
        "id": "YWiid0t1xewO"
      },
      "source": [
        "Separate train and test from all_data"
      ]
    },
    {
      "cell_type": "code",
      "execution_count": 81,
      "metadata": {
        "id": "iq8d5afVhShZ"
      },
      "outputs": [],
      "source": [
        "train_df = all_data[all_data[\"train\"] == 1].drop([\"train\"], axis=1)\n",
        "test_df = all_data[all_data[\"train\"] == 0].drop([\"train\", 'Category'], axis=1)"
      ]
    },
    {
      "cell_type": "code",
      "execution_count": 82,
      "metadata": {
        "colab": {
          "base_uri": "https://localhost:8080/"
        },
        "id": "Ur_WN81srqMF",
        "outputId": "22c5cb78-7d2a-4937-a389-8fe24c30111f"
      },
      "outputs": [
        {
          "name": "stdout",
          "output_type": "stream",
          "text": [
            "Train:  (54552, 49)\n",
            "Test:  (22625, 48)\n"
          ]
        }
      ],
      "source": [
        "print(\"Train: \", train_df.shape)\n",
        "print(\"Test: \", test_df.shape)"
      ]
    },
    {
      "cell_type": "markdown",
      "metadata": {
        "id": "4ofAVhkhuarx"
      },
      "source": [
        "## 3. Feature Selection\n",
        "\n"
      ]
    },
    {
      "cell_type": "code",
      "execution_count": 83,
      "metadata": {
        "colab": {
          "base_uri": "https://localhost:8080/"
        },
        "id": "ZRuP0aOwGj-O",
        "outputId": "20f758ed-836d-4a9c-9271-a7e3ac2771b4"
      },
      "outputs": [
        {
          "data": {
            "text/plain": [
              "{0: 'Bank Charges',\n",
              " 1: 'Bill-Payments',\n",
              " 2: 'Cash-Pickup',\n",
              " 3: 'Cell Phone and Airtime',\n",
              " 4: 'Cheque-Payment',\n",
              " 5: 'Deposit',\n",
              " 6: 'Donations',\n",
              " 7: 'Entertainment',\n",
              " 8: 'General Purchases',\n",
              " 9: 'Insurance',\n",
              " 10: 'Interest',\n",
              " 11: 'Internet and IT Services',\n",
              " 12: 'Loan Repayment',\n",
              " 13: 'Merchant-Payment',\n",
              " 14: 'Money-Transfer',\n",
              " 15: 'Professional services',\n",
              " 16: 'Reversal',\n",
              " 17: 'Salary and wages',\n",
              " 18: 'Savings and Investments',\n",
              " 19: 'Shopping',\n",
              " 20: 'Transport, Travel, and Logistics'}"
            ]
          },
          "execution_count": 83,
          "metadata": {},
          "output_type": "execute_result"
        }
      ],
      "source": [
        "## modeling\n",
        "\n",
        "train_df['Category'] = le.fit_transform(train_df['Category'])\n",
        "cat_map = dict(zip(range(len(le.classes_)) , le.classes_))\n",
        "\n",
        "cat_map"
      ]
    },
    {
      "cell_type": "code",
      "execution_count": 84,
      "metadata": {
        "colab": {
          "base_uri": "https://localhost:8080/"
        },
        "id": "v0Y0uKWguZ9n",
        "outputId": "a90157cf-1d39-4b36-fdc0-9f6596da4753"
      },
      "outputs": [
        {
          "data": {
            "text/plain": [
              "((54552, 36), (22625, 36))"
            ]
          },
          "execution_count": 84,
          "metadata": {},
          "output_type": "execute_result"
        }
      ],
      "source": [
        "main_cols = train_df.columns.difference([\n",
        "    'Category', \n",
        "    # 'TRANSACTION DETAILS', 'TRANSACTION DETAILS WORD'\n",
        "    \n",
        "'DATE_hour','dm-Bank_Charges', 'dm-Salary_and_wages', 'dm-Cash_Pickup',\n",
        "       'dm-Cheque_Payment', 'dm-Bill_Payments', 'dm-Internet_and_IT_Services',\n",
        "       'dm-Shopping', 'dm-Interest', 'dm-Insurance',\n",
        "       'dm-Cell_Phone_and_Airtime', 'dm-Loan_Repayment',\n",
        "    \n",
        "])\n",
        "\n",
        "X = train_df[main_cols] \n",
        "y = train_df['Category']\n",
        "\n",
        "test = test_df[main_cols]\n",
        "\n",
        "X.shape, test.shape"
      ]
    },
    {
      "cell_type": "markdown",
      "metadata": {
        "id": "CzuYGcMXxyY2"
      },
      "source": [
        "Apply SMOTE to overcome the imbalance"
      ]
    },
    {
      "cell_type": "code",
      "execution_count": 85,
      "metadata": {
        "colab": {
          "base_uri": "https://localhost:8080/"
        },
        "id": "2xVFD8HvkJ6y",
        "outputId": "c9a45aca-e8d2-4ca1-e849-40419a4fce5b"
      },
      "outputs": [
        {
          "name": "stdout",
          "output_type": "stream",
          "text": [
            "{14: 33555, 5: 12431, 13: 3160, 4: 1427, 0: 1122, 2: 1064, 17: 808, 1: 482, 19: 119, 3: 103, 10: 70, 12: 69, 16: 66, 11: 22, 9: 20, 15: 15, 18: 10, 8: 4, 20: 2, 6: 2, 7: 1}\n"
          ]
        }
      ],
      "source": [
        "print(y.value_counts().to_dict())"
      ]
    },
    {
      "cell_type": "code",
      "execution_count": 86,
      "metadata": {
        "colab": {
          "base_uri": "https://localhost:8080/"
        },
        "id": "vmDZ4hNhkJ6y",
        "outputId": "8474cb1d-59d1-40cc-f532-dcdb7163a888"
      },
      "outputs": [
        {
          "data": {
            "text/plain": [
              "(12775, 36)"
            ]
          },
          "execution_count": 86,
          "metadata": {},
          "output_type": "execute_result"
        }
      ],
      "source": [
        "from imblearn import under_sampling as uns \n",
        "\n",
        "\n",
        "stra1 = {14: 4000, 5: 3000, 13: 1200, 4: 1000, 0: 900,\n",
        "        2: 850, 17: 700, 1: 400, 19: 119, 3: 103,\n",
        "        10: 70, 12: 69, 16: 66, 11: 22, 9: 20, 15: 15,\n",
        "        18: 10, 8: 4, 20: 2, 6: 2, 7: 1}\n",
        "\n",
        "stra2 = {14: 4000, 5: 3000, 13: 1200, 4: 1000, 0: 900,\n",
        "        2: 850, 17: 700, 1: 400, 19: 130, 3: 110,\n",
        "        10: 100, 12: 80, 16: 80, 11: 50, 9: 45, 15: 40,\n",
        "        18: 30, 8: 20, 20: 15, 6: 15, 7: 10}\n",
        "        \n",
        "undersample = uns.RandomUnderSampler(sampling_strategy=stra1, random_state=0)\n",
        "X, y = undersample.fit_resample(X, y)\n",
        "\n",
        "oversample = ovs.RandomOverSampler(sampling_strategy=stra2, random_state=0)\n",
        "X, y = oversample.fit_resample(X, y)\n",
        "\n",
        "X.shape"
      ]
    },
    {
      "cell_type": "code",
      "execution_count": 87,
      "metadata": {
        "id": "GjT7kLAmBqZ6"
      },
      "outputs": [],
      "source": [
        "\n",
        "# class for training more than one models and averging the results\n",
        "class My_model:\n",
        "    def __init__(self, models):\n",
        "        self.models = models\n",
        "\n",
        "    def fit_eval_pred(self, X, y, eval_set, val, test, verbose=True):\n",
        "        results_eval = []\n",
        "        results_test = []\n",
        "        for i, model in enumerate(self.models):\n",
        "            if verbose:\n",
        "                print(f\"[Training]............................... Model_{i+1}\")\n",
        "            st = time.time()\n",
        "            try:\n",
        "                model.fit(X, y, eval_set=eval_set, verbose=False)\n",
        "            except Exception as e:\n",
        "                model.fit(X, y)\n",
        "            if verbose:\n",
        "                print(f\"[Prediction]............................. Model_{i+1}\")\n",
        "            p = model.predict_proba(val)\n",
        "            results_eval.append(p)\n",
        "            results_test.append(model.predict_proba(test))\n",
        "            if verbose:\n",
        "                print(f\"Log loss = {log_loss(eval_set[0][1], p)}\", end=\" \"*6)\n",
        "                print(f\"Time {time.time() - st :.2f}sec\")\n",
        "\n",
        "        results_eval = np.mean(results_eval, axis=0)\n",
        "        results_test = np.mean(results_test, axis=0)\n",
        "\n",
        "        return results_eval, results_test\n"
      ]
    },
    {
      "cell_type": "code",
      "execution_count": 100,
      "metadata": {
        "id": "ZXxAOSTjBqZ7"
      },
      "outputs": [],
      "source": [
        "from catboost import CatBoostClassifier\n",
        "from lightgbm import LGBMClassifier\n",
        "\n",
        "\n",
        "# custom function gives models \n",
        "def get_models(seed=21):\n",
        "\n",
        "    cat_params = {\"iterations\":1000, \"verbose\":100, \"random_state\":seed,\n",
        "            'use_best_model':True, 'early_stopping_rounds':100, \n",
        "        #     \"learning_rate\":0.09,\n",
        "            }\n",
        "    lgb_params = {'learning_rate':0.01, 'n_estimators':10000, 'random_state':seed,\n",
        "            'early_stopping_round':100, 'verbose':-1, 'subsample':.8, 'colsample_bytree':0.6}\n",
        "\n",
        "\n",
        "    _models = [\n",
        "            CatBoostClassifier(**cat_params, task_type='GPU'),   \n",
        "            LGBMClassifier(**lgb_params)\n",
        "    ]\n",
        "    return _models\n"
      ]
    },
    {
      "cell_type": "code",
      "execution_count": 101,
      "metadata": {
        "colab": {
          "base_uri": "https://localhost:8080/"
        },
        "id": "gbQlP89eBqZ8",
        "outputId": "6085deb3-50a5-46b9-abbd-488462dc5e84"
      },
      "outputs": [
        {
          "name": "stdout",
          "output_type": "stream",
          "text": [
            "----------------------------------------------------------------------------------------------------\n",
            "Fold-1\n",
            "[Training]............................... Model_1\n",
            "[Prediction]............................. Model_1\n",
            "Log loss = 0.007438928529922189      Time 23.51sec\n",
            "[Training]............................... Model_2\n",
            "[Prediction]............................. Model_2\n",
            "Log loss = 0.010895704265659516      Time 100.99sec\n",
            "log loss = 0.00800184558768036\n",
            "----------------------------------------------------------------------------------------------------\n",
            "\n",
            "\n",
            "\n",
            "----------------------------------------------------------------------------------------------------\n",
            "Fold-2\n",
            "[Training]............................... Model_1\n",
            "[Prediction]............................. Model_1\n",
            "Log loss = 0.014788429125742597      Time 11.08sec\n",
            "[Training]............................... Model_2\n",
            "[Prediction]............................. Model_2\n",
            "Log loss = 0.012389940836196453      Time 119.84sec\n",
            "log loss = 0.00999773834378715\n",
            "----------------------------------------------------------------------------------------------------\n",
            "\n",
            "\n",
            "\n",
            "----------------------------------------------------------------------------------------------------\n",
            "Fold-3\n",
            "[Training]............................... Model_1\n",
            "[Prediction]............................. Model_1\n",
            "Log loss = 0.0029220950586997083      Time 11.99sec\n",
            "[Training]............................... Model_2\n",
            "[Prediction]............................. Model_2\n",
            "Log loss = 0.00574865878939437      Time 133.00sec\n",
            "log loss = 0.0028399444636936985\n",
            "----------------------------------------------------------------------------------------------------\n",
            "\n",
            "\n",
            "\n",
            "----------------------------------------------------------------------------------------------------\n",
            "Fold-4\n",
            "[Training]............................... Model_1\n",
            "[Prediction]............................. Model_1\n",
            "Log loss = 0.00808921657049436      Time 11.91sec\n",
            "[Training]............................... Model_2\n",
            "[Prediction]............................. Model_2\n",
            "Log loss = 0.007393361041306678      Time 119.99sec\n",
            "log loss = 0.007161437388144959\n",
            "----------------------------------------------------------------------------------------------------\n",
            "\n",
            "\n",
            "\n",
            "----------------------------------------------------------------------------------------------------\n",
            "Fold-5\n",
            "[Training]............................... Model_1\n",
            "[Prediction]............................. Model_1\n",
            "Log loss = 0.013816652899889767      Time 12.14sec\n",
            "[Training]............................... Model_2\n",
            "[Prediction]............................. Model_2\n",
            "Log loss = 0.01602061873192464      Time 98.41sec\n",
            "log loss = 0.01307817641079889\n",
            "----------------------------------------------------------------------------------------------------\n",
            "\n",
            "\n",
            "\n",
            "Average log loss = 0.008215828438821012\n"
          ]
        }
      ],
      "source": [
        "from sklearn.model_selection import StratifiedKFold\n",
        "\n",
        "results = []\n",
        "ns = 5\n",
        "tot = []\n",
        "\n",
        "\n",
        "skf = StratifiedKFold(n_splits=ns, random_state=seed, shuffle=True)\n",
        "for fold, (train_index, test_index) in enumerate(skf.split(X, y)):\n",
        "    print(100*\"-\")\n",
        "    print(f\"Fold-{fold+1}\")\n",
        "    X_train, X_test = X.loc[train_index], X.loc[test_index]\n",
        "    y_train, y_test = y.loc[train_index], y.loc[test_index]\n",
        "\n",
        "    main_model = My_model(get_models())\n",
        "    pred_train, pred_test = main_model.fit_eval_pred(X_train, y_train, [(X_test, y_test)], X_test, test)\n",
        "    try:\n",
        "      loss = log_loss(y_test, pred_train)\n",
        "      print(f\"log loss = {loss}\")\n",
        "      tot += [loss]\n",
        "    except Exception as e:\n",
        "      print(e)\n",
        "    results.append(pred_test)\n",
        "\n",
        "    print(100*\"-\")\n",
        "    print(\"\\n\\n\")\n",
        "\n",
        "print(f\"Average log loss = {sum(tot) / len(tot)}\")"
      ]
    },
    {
      "cell_type": "code",
      "execution_count": 102,
      "metadata": {
        "colab": {
          "base_uri": "https://localhost:8080/"
        },
        "id": "1kRd0Li0BqZ9",
        "outputId": "3e221209-a7ed-46a0-fd39-d6ffaeba8190"
      },
      "outputs": [
        {
          "data": {
            "text/plain": [
              "(22625, 21)"
            ]
          },
          "execution_count": 102,
          "metadata": {},
          "output_type": "execute_result"
        }
      ],
      "source": [
        "preds = np.mean(results, axis=0)\n",
        "preds.shape"
      ]
    },
    {
      "cell_type": "code",
      "execution_count": 103,
      "metadata": {
        "colab": {
          "base_uri": "https://localhost:8080/",
          "height": 441
        },
        "id": "DMfxCUQAkJ6z",
        "outputId": "1f91ed09-1bc8-41c2-8b1d-de432e225e4a"
      },
      "outputs": [
        {
          "data": {
            "text/html": [
              "\n",
              "  <div id=\"df-e4dc6c08-d818-4607-a3bd-0943065a1067\">\n",
              "    <div class=\"colab-df-container\">\n",
              "      <div>\n",
              "<style scoped>\n",
              "    .dataframe tbody tr th:only-of-type {\n",
              "        vertical-align: middle;\n",
              "    }\n",
              "\n",
              "    .dataframe tbody tr th {\n",
              "        vertical-align: top;\n",
              "    }\n",
              "\n",
              "    .dataframe thead th {\n",
              "        text-align: right;\n",
              "    }\n",
              "</style>\n",
              "<table border=\"1\" class=\"dataframe\">\n",
              "  <thead>\n",
              "    <tr style=\"text-align: right;\">\n",
              "      <th></th>\n",
              "      <th>Bank Charges</th>\n",
              "      <th>Bill-Payments</th>\n",
              "      <th>Cash-Pickup</th>\n",
              "      <th>Cell Phone and Airtime</th>\n",
              "      <th>Cheque-Payment</th>\n",
              "      <th>Deposit</th>\n",
              "      <th>Donations</th>\n",
              "      <th>General Purchases</th>\n",
              "      <th>Insurance</th>\n",
              "      <th>Interest</th>\n",
              "      <th>Internet and IT Services</th>\n",
              "      <th>Loan Repayment</th>\n",
              "      <th>Merchant-Payment</th>\n",
              "      <th>Money-Transfer</th>\n",
              "      <th>Professional services</th>\n",
              "      <th>Reversal</th>\n",
              "      <th>Salary and wages</th>\n",
              "      <th>Savings and Investments</th>\n",
              "      <th>Shopping</th>\n",
              "      <th>Transport, Travel, and Logistics</th>\n",
              "    </tr>\n",
              "    <tr>\n",
              "      <th>ID</th>\n",
              "      <th></th>\n",
              "      <th></th>\n",
              "      <th></th>\n",
              "      <th></th>\n",
              "      <th></th>\n",
              "      <th></th>\n",
              "      <th></th>\n",
              "      <th></th>\n",
              "      <th></th>\n",
              "      <th></th>\n",
              "      <th></th>\n",
              "      <th></th>\n",
              "      <th></th>\n",
              "      <th></th>\n",
              "      <th></th>\n",
              "      <th></th>\n",
              "      <th></th>\n",
              "      <th></th>\n",
              "      <th></th>\n",
              "      <th></th>\n",
              "    </tr>\n",
              "  </thead>\n",
              "  <tbody>\n",
              "    <tr>\n",
              "      <th>2014-02-28 00:00:00X3000000000</th>\n",
              "      <td>0.0000</td>\n",
              "      <td>0.0000</td>\n",
              "      <td>0.0000</td>\n",
              "      <td>0.0</td>\n",
              "      <td>0.0000</td>\n",
              "      <td>0.0001</td>\n",
              "      <td>0.0</td>\n",
              "      <td>0.0</td>\n",
              "      <td>0.0</td>\n",
              "      <td>0.0</td>\n",
              "      <td>0.0</td>\n",
              "      <td>0.0</td>\n",
              "      <td>0.0001</td>\n",
              "      <td>0.9996</td>\n",
              "      <td>0.0</td>\n",
              "      <td>0.0001</td>\n",
              "      <td>0.0001</td>\n",
              "      <td>0.0</td>\n",
              "      <td>0.0000</td>\n",
              "      <td>0.0</td>\n",
              "    </tr>\n",
              "    <tr>\n",
              "      <th>2014-02-28 00:00:00X7500000000</th>\n",
              "      <td>0.0000</td>\n",
              "      <td>0.0000</td>\n",
              "      <td>0.0000</td>\n",
              "      <td>0.0</td>\n",
              "      <td>0.0000</td>\n",
              "      <td>0.0000</td>\n",
              "      <td>0.0</td>\n",
              "      <td>0.0</td>\n",
              "      <td>0.0</td>\n",
              "      <td>0.0</td>\n",
              "      <td>0.0</td>\n",
              "      <td>0.0</td>\n",
              "      <td>0.0001</td>\n",
              "      <td>0.9996</td>\n",
              "      <td>0.0</td>\n",
              "      <td>0.0001</td>\n",
              "      <td>0.0001</td>\n",
              "      <td>0.0</td>\n",
              "      <td>0.0000</td>\n",
              "      <td>0.0</td>\n",
              "    </tr>\n",
              "    <tr>\n",
              "      <th>2014-03-08 00:00:00X4500002863</th>\n",
              "      <td>0.9931</td>\n",
              "      <td>0.0001</td>\n",
              "      <td>0.0001</td>\n",
              "      <td>0.0</td>\n",
              "      <td>0.0002</td>\n",
              "      <td>0.0003</td>\n",
              "      <td>0.0</td>\n",
              "      <td>0.0</td>\n",
              "      <td>0.0</td>\n",
              "      <td>0.0</td>\n",
              "      <td>0.0</td>\n",
              "      <td>0.0</td>\n",
              "      <td>0.0003</td>\n",
              "      <td>0.0013</td>\n",
              "      <td>0.0</td>\n",
              "      <td>0.0035</td>\n",
              "      <td>0.0006</td>\n",
              "      <td>0.0</td>\n",
              "      <td>0.0002</td>\n",
              "      <td>0.0</td>\n",
              "    </tr>\n",
              "    <tr>\n",
              "      <th>2014-03-08 00:00:00X6000002863</th>\n",
              "      <td>0.0000</td>\n",
              "      <td>0.0000</td>\n",
              "      <td>0.0000</td>\n",
              "      <td>0.0</td>\n",
              "      <td>0.0000</td>\n",
              "      <td>0.0000</td>\n",
              "      <td>0.0</td>\n",
              "      <td>0.0</td>\n",
              "      <td>0.0</td>\n",
              "      <td>0.0</td>\n",
              "      <td>0.0</td>\n",
              "      <td>0.0</td>\n",
              "      <td>0.0000</td>\n",
              "      <td>0.9998</td>\n",
              "      <td>0.0</td>\n",
              "      <td>0.0000</td>\n",
              "      <td>0.0001</td>\n",
              "      <td>0.0</td>\n",
              "      <td>0.0000</td>\n",
              "      <td>0.0</td>\n",
              "    </tr>\n",
              "    <tr>\n",
              "      <th>2014-03-08 00:00:00X6000005726</th>\n",
              "      <td>0.9930</td>\n",
              "      <td>0.0001</td>\n",
              "      <td>0.0001</td>\n",
              "      <td>0.0</td>\n",
              "      <td>0.0002</td>\n",
              "      <td>0.0003</td>\n",
              "      <td>0.0</td>\n",
              "      <td>0.0</td>\n",
              "      <td>0.0</td>\n",
              "      <td>0.0</td>\n",
              "      <td>0.0</td>\n",
              "      <td>0.0</td>\n",
              "      <td>0.0003</td>\n",
              "      <td>0.0013</td>\n",
              "      <td>0.0</td>\n",
              "      <td>0.0035</td>\n",
              "      <td>0.0006</td>\n",
              "      <td>0.0</td>\n",
              "      <td>0.0002</td>\n",
              "      <td>0.0</td>\n",
              "    </tr>\n",
              "  </tbody>\n",
              "</table>\n",
              "</div>\n",
              "      <button class=\"colab-df-convert\" onclick=\"convertToInteractive('df-e4dc6c08-d818-4607-a3bd-0943065a1067')\"\n",
              "              title=\"Convert this dataframe to an interactive table.\"\n",
              "              style=\"display:none;\">\n",
              "        \n",
              "  <svg xmlns=\"http://www.w3.org/2000/svg\" height=\"24px\"viewBox=\"0 0 24 24\"\n",
              "       width=\"24px\">\n",
              "    <path d=\"M0 0h24v24H0V0z\" fill=\"none\"/>\n",
              "    <path d=\"M18.56 5.44l.94 2.06.94-2.06 2.06-.94-2.06-.94-.94-2.06-.94 2.06-2.06.94zm-11 1L8.5 8.5l.94-2.06 2.06-.94-2.06-.94L8.5 2.5l-.94 2.06-2.06.94zm10 10l.94 2.06.94-2.06 2.06-.94-2.06-.94-.94-2.06-.94 2.06-2.06.94z\"/><path d=\"M17.41 7.96l-1.37-1.37c-.4-.4-.92-.59-1.43-.59-.52 0-1.04.2-1.43.59L10.3 9.45l-7.72 7.72c-.78.78-.78 2.05 0 2.83L4 21.41c.39.39.9.59 1.41.59.51 0 1.02-.2 1.41-.59l7.78-7.78 2.81-2.81c.8-.78.8-2.07 0-2.86zM5.41 20L4 18.59l7.72-7.72 1.47 1.35L5.41 20z\"/>\n",
              "  </svg>\n",
              "      </button>\n",
              "      \n",
              "  <style>\n",
              "    .colab-df-container {\n",
              "      display:flex;\n",
              "      flex-wrap:wrap;\n",
              "      gap: 12px;\n",
              "    }\n",
              "\n",
              "    .colab-df-convert {\n",
              "      background-color: #E8F0FE;\n",
              "      border: none;\n",
              "      border-radius: 50%;\n",
              "      cursor: pointer;\n",
              "      display: none;\n",
              "      fill: #1967D2;\n",
              "      height: 32px;\n",
              "      padding: 0 0 0 0;\n",
              "      width: 32px;\n",
              "    }\n",
              "\n",
              "    .colab-df-convert:hover {\n",
              "      background-color: #E2EBFA;\n",
              "      box-shadow: 0px 1px 2px rgba(60, 64, 67, 0.3), 0px 1px 3px 1px rgba(60, 64, 67, 0.15);\n",
              "      fill: #174EA6;\n",
              "    }\n",
              "\n",
              "    [theme=dark] .colab-df-convert {\n",
              "      background-color: #3B4455;\n",
              "      fill: #D2E3FC;\n",
              "    }\n",
              "\n",
              "    [theme=dark] .colab-df-convert:hover {\n",
              "      background-color: #434B5C;\n",
              "      box-shadow: 0px 1px 3px 1px rgba(0, 0, 0, 0.15);\n",
              "      filter: drop-shadow(0px 1px 2px rgba(0, 0, 0, 0.3));\n",
              "      fill: #FFFFFF;\n",
              "    }\n",
              "  </style>\n",
              "\n",
              "      <script>\n",
              "        const buttonEl =\n",
              "          document.querySelector('#df-e4dc6c08-d818-4607-a3bd-0943065a1067 button.colab-df-convert');\n",
              "        buttonEl.style.display =\n",
              "          google.colab.kernel.accessAllowed ? 'block' : 'none';\n",
              "\n",
              "        async function convertToInteractive(key) {\n",
              "          const element = document.querySelector('#df-e4dc6c08-d818-4607-a3bd-0943065a1067');\n",
              "          const dataTable =\n",
              "            await google.colab.kernel.invokeFunction('convertToInteractive',\n",
              "                                                     [key], {});\n",
              "          if (!dataTable) return;\n",
              "\n",
              "          const docLinkHtml = 'Like what you see? Visit the ' +\n",
              "            '<a target=\"_blank\" href=https://colab.research.google.com/notebooks/data_table.ipynb>data table notebook</a>'\n",
              "            + ' to learn more about interactive tables.';\n",
              "          element.innerHTML = '';\n",
              "          dataTable['output_type'] = 'display_data';\n",
              "          await google.colab.output.renderOutput(dataTable, element);\n",
              "          const docLink = document.createElement('div');\n",
              "          docLink.innerHTML = docLinkHtml;\n",
              "          element.appendChild(docLink);\n",
              "        }\n",
              "      </script>\n",
              "    </div>\n",
              "  </div>\n",
              "  "
            ],
            "text/plain": [
              "                                Bank Charges  Bill-Payments  Cash-Pickup  \\\n",
              "ID                                                                         \n",
              "2014-02-28 00:00:00X3000000000        0.0000         0.0000       0.0000   \n",
              "2014-02-28 00:00:00X7500000000        0.0000         0.0000       0.0000   \n",
              "2014-03-08 00:00:00X4500002863        0.9931         0.0001       0.0001   \n",
              "2014-03-08 00:00:00X6000002863        0.0000         0.0000       0.0000   \n",
              "2014-03-08 00:00:00X6000005726        0.9930         0.0001       0.0001   \n",
              "\n",
              "                                Cell Phone and Airtime  Cheque-Payment  \\\n",
              "ID                                                                       \n",
              "2014-02-28 00:00:00X3000000000                     0.0          0.0000   \n",
              "2014-02-28 00:00:00X7500000000                     0.0          0.0000   \n",
              "2014-03-08 00:00:00X4500002863                     0.0          0.0002   \n",
              "2014-03-08 00:00:00X6000002863                     0.0          0.0000   \n",
              "2014-03-08 00:00:00X6000005726                     0.0          0.0002   \n",
              "\n",
              "                                Deposit  Donations  General Purchases  \\\n",
              "ID                                                                      \n",
              "2014-02-28 00:00:00X3000000000   0.0001        0.0                0.0   \n",
              "2014-02-28 00:00:00X7500000000   0.0000        0.0                0.0   \n",
              "2014-03-08 00:00:00X4500002863   0.0003        0.0                0.0   \n",
              "2014-03-08 00:00:00X6000002863   0.0000        0.0                0.0   \n",
              "2014-03-08 00:00:00X6000005726   0.0003        0.0                0.0   \n",
              "\n",
              "                                Insurance  Interest  Internet and IT Services  \\\n",
              "ID                                                                              \n",
              "2014-02-28 00:00:00X3000000000        0.0       0.0                       0.0   \n",
              "2014-02-28 00:00:00X7500000000        0.0       0.0                       0.0   \n",
              "2014-03-08 00:00:00X4500002863        0.0       0.0                       0.0   \n",
              "2014-03-08 00:00:00X6000002863        0.0       0.0                       0.0   \n",
              "2014-03-08 00:00:00X6000005726        0.0       0.0                       0.0   \n",
              "\n",
              "                                Loan Repayment  Merchant-Payment  \\\n",
              "ID                                                                 \n",
              "2014-02-28 00:00:00X3000000000             0.0            0.0001   \n",
              "2014-02-28 00:00:00X7500000000             0.0            0.0001   \n",
              "2014-03-08 00:00:00X4500002863             0.0            0.0003   \n",
              "2014-03-08 00:00:00X6000002863             0.0            0.0000   \n",
              "2014-03-08 00:00:00X6000005726             0.0            0.0003   \n",
              "\n",
              "                                Money-Transfer  Professional services  \\\n",
              "ID                                                                      \n",
              "2014-02-28 00:00:00X3000000000          0.9996                    0.0   \n",
              "2014-02-28 00:00:00X7500000000          0.9996                    0.0   \n",
              "2014-03-08 00:00:00X4500002863          0.0013                    0.0   \n",
              "2014-03-08 00:00:00X6000002863          0.9998                    0.0   \n",
              "2014-03-08 00:00:00X6000005726          0.0013                    0.0   \n",
              "\n",
              "                                Reversal  Salary and wages  \\\n",
              "ID                                                           \n",
              "2014-02-28 00:00:00X3000000000    0.0001            0.0001   \n",
              "2014-02-28 00:00:00X7500000000    0.0001            0.0001   \n",
              "2014-03-08 00:00:00X4500002863    0.0035            0.0006   \n",
              "2014-03-08 00:00:00X6000002863    0.0000            0.0001   \n",
              "2014-03-08 00:00:00X6000005726    0.0035            0.0006   \n",
              "\n",
              "                                Savings and Investments  Shopping  \\\n",
              "ID                                                                  \n",
              "2014-02-28 00:00:00X3000000000                      0.0    0.0000   \n",
              "2014-02-28 00:00:00X7500000000                      0.0    0.0000   \n",
              "2014-03-08 00:00:00X4500002863                      0.0    0.0002   \n",
              "2014-03-08 00:00:00X6000002863                      0.0    0.0000   \n",
              "2014-03-08 00:00:00X6000005726                      0.0    0.0002   \n",
              "\n",
              "                                Transport, Travel, and Logistics  \n",
              "ID                                                                \n",
              "2014-02-28 00:00:00X3000000000                               0.0  \n",
              "2014-02-28 00:00:00X7500000000                               0.0  \n",
              "2014-03-08 00:00:00X4500002863                               0.0  \n",
              "2014-03-08 00:00:00X6000002863                               0.0  \n",
              "2014-03-08 00:00:00X6000005726                               0.0  "
            ]
          },
          "execution_count": 103,
          "metadata": {},
          "output_type": "execute_result"
        }
      ],
      "source": [
        "sub = pd.DataFrame(np.round(preds, 4), columns=cat_map.values(), index=ID)\n",
        "sub.drop(columns=\"Entertainment\", inplace=True)\n",
        "sub.to_csv(\"submission2.csv\")\n",
        "sub.head()"
      ]
    }
  ],
  "metadata": {
    "accelerator": "GPU",
    "colab": {
      "collapsed_sections": [],
      "provenance": []
    },
    "gpuClass": "standard",
    "kernelspec": {
      "display_name": "Python 3 (ipykernel)",
      "language": "python",
      "name": "python3"
    },
    "language_info": {
      "codemirror_mode": {
        "name": "ipython",
        "version": 3
      },
      "file_extension": ".py",
      "mimetype": "text/x-python",
      "name": "python",
      "nbconvert_exporter": "python",
      "pygments_lexer": "ipython3",
      "version": "3.8.10"
    },
    "vscode": {
      "interpreter": {
        "hash": "cca8ba6e424ea098e03391f9473d43e52ce39ba0653d5333abec2813b5a5e14d"
      }
    }
  },
  "nbformat": 4,
  "nbformat_minor": 0
}
